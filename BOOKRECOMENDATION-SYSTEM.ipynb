{
 "cells": [
  {
   "cell_type": "markdown",
   "metadata": {},
   "source": [
    "**Importing Libraries**"
   ]
  },
  {
   "cell_type": "code",
   "execution_count": 5,
   "metadata": {
    "execution": {
     "iopub.execute_input": "2022-07-16T14:05:10.991399Z",
     "iopub.status.busy": "2022-07-16T14:05:10.991018Z",
     "iopub.status.idle": "2022-07-16T14:05:10.996875Z",
     "shell.execute_reply": "2022-07-16T14:05:10.996044Z",
     "shell.execute_reply.started": "2022-07-16T14:05:10.991333Z"
    },
    "scrolled": true
   },
   "outputs": [],
   "source": [
    "import numpy as np # linear algebra\n",
    "import pandas as pd # data processing\n",
    "import matplotlib.pyplot as plt\n",
    "import seaborn as sns\n",
    "import sklearn\n",
    "import warnings; warnings.simplefilter('ignore')\n",
    "dataset_path = \"C:\\\\Users\\\\akayr\\\\Desktop\\\\archive\"\n"
   ]
  },
  {
   "cell_type": "markdown",
   "metadata": {},
   "source": [
    "**Book Data**"
   ]
  },
  {
   "cell_type": "code",
   "execution_count": 6,
   "metadata": {
    "execution": {
     "iopub.execute_input": "2022-07-16T14:05:10.998376Z",
     "iopub.status.busy": "2022-07-16T14:05:10.997914Z",
     "iopub.status.idle": "2022-07-16T14:05:12.766023Z",
     "shell.execute_reply": "2022-07-16T14:05:12.765059Z",
     "shell.execute_reply.started": "2022-07-16T14:05:10.998346Z"
    },
    "scrolled": true
   },
   "outputs": [
    {
     "data": {
      "text/html": [
       "<div>\n",
       "<style scoped>\n",
       "    .dataframe tbody tr th:only-of-type {\n",
       "        vertical-align: middle;\n",
       "    }\n",
       "\n",
       "    .dataframe tbody tr th {\n",
       "        vertical-align: top;\n",
       "    }\n",
       "\n",
       "    .dataframe thead th {\n",
       "        text-align: right;\n",
       "    }\n",
       "</style>\n",
       "<table border=\"1\" class=\"dataframe\">\n",
       "  <thead>\n",
       "    <tr style=\"text-align: right;\">\n",
       "      <th></th>\n",
       "      <th>isbn</th>\n",
       "      <th>book_title</th>\n",
       "      <th>book_author</th>\n",
       "      <th>year_of_publication</th>\n",
       "      <th>publisher</th>\n",
       "    </tr>\n",
       "  </thead>\n",
       "  <tbody>\n",
       "    <tr>\n",
       "      <th>0</th>\n",
       "      <td>195153448</td>\n",
       "      <td>Classical Mythology</td>\n",
       "      <td>Mark P. O. Morford</td>\n",
       "      <td>2002</td>\n",
       "      <td>Oxford University Press</td>\n",
       "    </tr>\n",
       "    <tr>\n",
       "      <th>1</th>\n",
       "      <td>2005018</td>\n",
       "      <td>Clara Callan</td>\n",
       "      <td>Richard Bruce Wright</td>\n",
       "      <td>2001</td>\n",
       "      <td>HarperFlamingo Canada</td>\n",
       "    </tr>\n",
       "    <tr>\n",
       "      <th>2</th>\n",
       "      <td>60973129</td>\n",
       "      <td>Decision in Normandy</td>\n",
       "      <td>Carlo D'Este</td>\n",
       "      <td>1991</td>\n",
       "      <td>HarperPerennial</td>\n",
       "    </tr>\n",
       "    <tr>\n",
       "      <th>3</th>\n",
       "      <td>374157065</td>\n",
       "      <td>Flu: The Story of the Great Influenza Pandemic...</td>\n",
       "      <td>Gina Bari Kolata</td>\n",
       "      <td>1999</td>\n",
       "      <td>Farrar Straus Giroux</td>\n",
       "    </tr>\n",
       "    <tr>\n",
       "      <th>4</th>\n",
       "      <td>393045218</td>\n",
       "      <td>The Mummies of Urumchi</td>\n",
       "      <td>E. J. W. Barber</td>\n",
       "      <td>1999</td>\n",
       "      <td>W. W. Norton &amp;amp; Company</td>\n",
       "    </tr>\n",
       "  </tbody>\n",
       "</table>\n",
       "</div>"
      ],
      "text/plain": [
       "        isbn                                         book_title  \\\n",
       "0  195153448                                Classical Mythology   \n",
       "1    2005018                                       Clara Callan   \n",
       "2   60973129                               Decision in Normandy   \n",
       "3  374157065  Flu: The Story of the Great Influenza Pandemic...   \n",
       "4  393045218                             The Mummies of Urumchi   \n",
       "\n",
       "            book_author year_of_publication                   publisher  \n",
       "0    Mark P. O. Morford                2002     Oxford University Press  \n",
       "1  Richard Bruce Wright                2001       HarperFlamingo Canada  \n",
       "2          Carlo D'Este                1991             HarperPerennial  \n",
       "3      Gina Bari Kolata                1999        Farrar Straus Giroux  \n",
       "4       E. J. W. Barber                1999  W. W. Norton &amp; Company  "
      ]
     },
     "execution_count": 6,
     "metadata": {},
     "output_type": "execute_result"
    }
   ],
   "source": [
    "book_data = pd.read_csv(dataset_path + \"\\\\Books.csv\")\n",
    "book_data.drop(['Image-URL-S', 'Image-URL-M', 'Image-URL-L'], axis=1, inplace=True)\n",
    "book_data.columns = book_data.columns.str.strip().str.lower().str.replace('-', '_')\n",
    "book_data.head()\n"
   ]
  },
  {
   "cell_type": "code",
   "execution_count": 7,
   "metadata": {
    "execution": {
     "iopub.execute_input": "2022-07-16T14:05:12.768245Z",
     "iopub.status.busy": "2022-07-16T14:05:12.767625Z",
     "iopub.status.idle": "2022-07-16T14:05:13.020989Z",
     "shell.execute_reply": "2022-07-16T14:05:13.020218Z",
     "shell.execute_reply.started": "2022-07-16T14:05:12.768199Z"
    },
    "scrolled": true
   },
   "outputs": [
    {
     "name": "stdout",
     "output_type": "stream",
     "text": [
      "<class 'pandas.core.frame.DataFrame'>\n",
      "RangeIndex: 271360 entries, 0 to 271359\n",
      "Data columns (total 5 columns):\n",
      " #   Column               Non-Null Count   Dtype \n",
      "---  ------               --------------   ----- \n",
      " 0   isbn                 271360 non-null  object\n",
      " 1   book_title           271360 non-null  object\n",
      " 2   book_author          271358 non-null  object\n",
      " 3   year_of_publication  271360 non-null  object\n",
      " 4   publisher            271358 non-null  object\n",
      "dtypes: object(5)\n",
      "memory usage: 10.4+ MB\n"
     ]
    }
   ],
   "source": [
    "book_data.info()"
   ]
  },
  {
   "cell_type": "code",
   "execution_count": 8,
   "metadata": {
    "execution": {
     "iopub.execute_input": "2022-07-16T14:05:13.02251Z",
     "iopub.status.busy": "2022-07-16T14:05:13.022071Z",
     "iopub.status.idle": "2022-07-16T14:05:13.027987Z",
     "shell.execute_reply": "2022-07-16T14:05:13.027303Z",
     "shell.execute_reply.started": "2022-07-16T14:05:13.022479Z"
    },
    "scrolled": true
   },
   "outputs": [
    {
     "data": {
      "text/plain": [
       "(271360, 5)"
      ]
     },
     "execution_count": 8,
     "metadata": {},
     "output_type": "execute_result"
    }
   ],
   "source": [
    "book_data.shape"
   ]
  },
  {
   "cell_type": "markdown",
   "metadata": {},
   "source": [
    "**Users Data**"
   ]
  },
  {
   "cell_type": "code",
   "execution_count": 9,
   "metadata": {
    "execution": {
     "iopub.execute_input": "2022-07-16T14:05:13.029496Z",
     "iopub.status.busy": "2022-07-16T14:05:13.029064Z",
     "iopub.status.idle": "2022-07-16T14:05:13.262021Z",
     "shell.execute_reply": "2022-07-16T14:05:13.261158Z",
     "shell.execute_reply.started": "2022-07-16T14:05:13.029466Z"
    },
    "scrolled": true
   },
   "outputs": [
    {
     "data": {
      "text/html": [
       "<div>\n",
       "<style scoped>\n",
       "    .dataframe tbody tr th:only-of-type {\n",
       "        vertical-align: middle;\n",
       "    }\n",
       "\n",
       "    .dataframe tbody tr th {\n",
       "        vertical-align: top;\n",
       "    }\n",
       "\n",
       "    .dataframe thead th {\n",
       "        text-align: right;\n",
       "    }\n",
       "</style>\n",
       "<table border=\"1\" class=\"dataframe\">\n",
       "  <thead>\n",
       "    <tr style=\"text-align: right;\">\n",
       "      <th></th>\n",
       "      <th>user_id</th>\n",
       "      <th>location</th>\n",
       "      <th>age</th>\n",
       "    </tr>\n",
       "  </thead>\n",
       "  <tbody>\n",
       "    <tr>\n",
       "      <th>0</th>\n",
       "      <td>1</td>\n",
       "      <td>nyc, new york, usa</td>\n",
       "      <td>NaN</td>\n",
       "    </tr>\n",
       "    <tr>\n",
       "      <th>1</th>\n",
       "      <td>2</td>\n",
       "      <td>stockton, california, usa</td>\n",
       "      <td>18.0</td>\n",
       "    </tr>\n",
       "    <tr>\n",
       "      <th>2</th>\n",
       "      <td>3</td>\n",
       "      <td>moscow, yukon territory, russia</td>\n",
       "      <td>NaN</td>\n",
       "    </tr>\n",
       "    <tr>\n",
       "      <th>3</th>\n",
       "      <td>4</td>\n",
       "      <td>porto, v.n.gaia, portugal</td>\n",
       "      <td>17.0</td>\n",
       "    </tr>\n",
       "    <tr>\n",
       "      <th>4</th>\n",
       "      <td>5</td>\n",
       "      <td>farnborough, hants, united kingdom</td>\n",
       "      <td>NaN</td>\n",
       "    </tr>\n",
       "  </tbody>\n",
       "</table>\n",
       "</div>"
      ],
      "text/plain": [
       "   user_id                            location   age\n",
       "0        1                  nyc, new york, usa   NaN\n",
       "1        2           stockton, california, usa  18.0\n",
       "2        3     moscow, yukon territory, russia   NaN\n",
       "3        4           porto, v.n.gaia, portugal  17.0\n",
       "4        5  farnborough, hants, united kingdom   NaN"
      ]
     },
     "execution_count": 9,
     "metadata": {},
     "output_type": "execute_result"
    }
   ],
   "source": [
    "# Load Users Data\n",
    "users_data = pd.read_csv(\"C:\\\\Users\\\\akayr\\\\Desktop\\\\archive\\\\Users.csv\")\n",
    "users_data.columns = users_data.columns.str.strip().str.lower().str.replace('-', '_')\n",
    "users_data.head()"
   ]
  },
  {
   "cell_type": "code",
   "execution_count": 10,
   "metadata": {
    "execution": {
     "iopub.execute_input": "2022-07-16T14:05:13.263994Z",
     "iopub.status.busy": "2022-07-16T14:05:13.263392Z",
     "iopub.status.idle": "2022-07-16T14:05:13.309085Z",
     "shell.execute_reply": "2022-07-16T14:05:13.308158Z",
     "shell.execute_reply.started": "2022-07-16T14:05:13.263946Z"
    },
    "scrolled": true
   },
   "outputs": [
    {
     "name": "stdout",
     "output_type": "stream",
     "text": [
      "<class 'pandas.core.frame.DataFrame'>\n",
      "RangeIndex: 278858 entries, 0 to 278857\n",
      "Data columns (total 3 columns):\n",
      " #   Column    Non-Null Count   Dtype  \n",
      "---  ------    --------------   -----  \n",
      " 0   user_id   278858 non-null  int64  \n",
      " 1   location  278858 non-null  object \n",
      " 2   age       168096 non-null  float64\n",
      "dtypes: float64(1), int64(1), object(1)\n",
      "memory usage: 6.4+ MB\n"
     ]
    }
   ],
   "source": [
    "users_data.info()"
   ]
  },
  {
   "cell_type": "code",
   "execution_count": 11,
   "metadata": {
    "execution": {
     "iopub.execute_input": "2022-07-16T14:05:13.310628Z",
     "iopub.status.busy": "2022-07-16T14:05:13.310323Z",
     "iopub.status.idle": "2022-07-16T14:05:13.317356Z",
     "shell.execute_reply": "2022-07-16T14:05:13.316445Z",
     "shell.execute_reply.started": "2022-07-16T14:05:13.310602Z"
    },
    "scrolled": true
   },
   "outputs": [
    {
     "data": {
      "text/plain": [
       "(278858, 3)"
      ]
     },
     "execution_count": 11,
     "metadata": {},
     "output_type": "execute_result"
    }
   ],
   "source": [
    "users_data.shape"
   ]
  },
  {
   "cell_type": "markdown",
   "metadata": {},
   "source": [
    "**Ratings Data**"
   ]
  },
  {
   "cell_type": "code",
   "execution_count": 12,
   "metadata": {
    "execution": {
     "iopub.execute_input": "2022-07-16T14:05:13.3198Z",
     "iopub.status.busy": "2022-07-16T14:05:13.31878Z",
     "iopub.status.idle": "2022-07-16T14:05:13.990015Z",
     "shell.execute_reply": "2022-07-16T14:05:13.988945Z",
     "shell.execute_reply.started": "2022-07-16T14:05:13.319757Z"
    },
    "scrolled": false
   },
   "outputs": [
    {
     "data": {
      "text/html": [
       "<div>\n",
       "<style scoped>\n",
       "    .dataframe tbody tr th:only-of-type {\n",
       "        vertical-align: middle;\n",
       "    }\n",
       "\n",
       "    .dataframe tbody tr th {\n",
       "        vertical-align: top;\n",
       "    }\n",
       "\n",
       "    .dataframe thead th {\n",
       "        text-align: right;\n",
       "    }\n",
       "</style>\n",
       "<table border=\"1\" class=\"dataframe\">\n",
       "  <thead>\n",
       "    <tr style=\"text-align: right;\">\n",
       "      <th></th>\n",
       "      <th>user_id</th>\n",
       "      <th>isbn</th>\n",
       "      <th>book_rating</th>\n",
       "    </tr>\n",
       "  </thead>\n",
       "  <tbody>\n",
       "    <tr>\n",
       "      <th>0</th>\n",
       "      <td>276725</td>\n",
       "      <td>034545104X</td>\n",
       "      <td>0</td>\n",
       "    </tr>\n",
       "    <tr>\n",
       "      <th>1</th>\n",
       "      <td>276726</td>\n",
       "      <td>0155061224</td>\n",
       "      <td>5</td>\n",
       "    </tr>\n",
       "    <tr>\n",
       "      <th>2</th>\n",
       "      <td>276727</td>\n",
       "      <td>0446520802</td>\n",
       "      <td>0</td>\n",
       "    </tr>\n",
       "    <tr>\n",
       "      <th>3</th>\n",
       "      <td>276729</td>\n",
       "      <td>052165615X</td>\n",
       "      <td>3</td>\n",
       "    </tr>\n",
       "    <tr>\n",
       "      <th>4</th>\n",
       "      <td>276729</td>\n",
       "      <td>0521795028</td>\n",
       "      <td>6</td>\n",
       "    </tr>\n",
       "  </tbody>\n",
       "</table>\n",
       "</div>"
      ],
      "text/plain": [
       "   user_id        isbn  book_rating\n",
       "0   276725  034545104X            0\n",
       "1   276726  0155061224            5\n",
       "2   276727  0446520802            0\n",
       "3   276729  052165615X            3\n",
       "4   276729  0521795028            6"
      ]
     },
     "execution_count": 12,
     "metadata": {},
     "output_type": "execute_result"
    }
   ],
   "source": [
    "# Load Ratings Data\n",
    "ratings_data = pd.read_csv(dataset_path + \"\\\\Ratings.csv\")\n",
    "ratings_data.columns = ratings_data.columns.str.strip().str.lower().str.replace('-', '_')\n",
    "ratings_data.head()"
   ]
  },
  {
   "cell_type": "code",
   "execution_count": 13,
   "metadata": {},
   "outputs": [
    {
     "name": "stdout",
     "output_type": "stream",
     "text": [
      "   User-ID        ISBN  Book-Rating                       Book-Title  \\\n",
      "0   276733  2080674722            0      Les Particules Elementaires   \n",
      "1   192101  2080674722            7      Les Particules Elementaires   \n",
      "2   192101  9871138016            0  Cronica De Una Muerte Anunciada   \n",
      "3   192101  2226070109            0           Un aller simple: Roman   \n",
      "4   192101  2264010991            0                  Nocturne indien   \n",
      "\n",
      "              Book-Author Year-Of-Publication       Publisher  \\\n",
      "0      Michel Houellebecq                1998      Flammarion   \n",
      "1      Michel Houellebecq                1998      Flammarion   \n",
      "2  Gabriel Marques Garcia                2002      Debols!llo   \n",
      "3   Didier van Cauwelaert                1994    Albin Michel   \n",
      "4        Antonio Tabucchi                1988  Editions 10/18   \n",
      "\n",
      "                                         Image-URL-S  \\\n",
      "0  http://images.amazon.com/images/P/2080674722.0...   \n",
      "1  http://images.amazon.com/images/P/2080674722.0...   \n",
      "2  http://images.amazon.com/images/P/9871138016.0...   \n",
      "3  http://images.amazon.com/images/P/2226070109.0...   \n",
      "4  http://images.amazon.com/images/P/2264010991.0...   \n",
      "\n",
      "                                         Image-URL-M  \\\n",
      "0  http://images.amazon.com/images/P/2080674722.0...   \n",
      "1  http://images.amazon.com/images/P/2080674722.0...   \n",
      "2  http://images.amazon.com/images/P/9871138016.0...   \n",
      "3  http://images.amazon.com/images/P/2226070109.0...   \n",
      "4  http://images.amazon.com/images/P/2264010991.0...   \n",
      "\n",
      "                                         Image-URL-L  \\\n",
      "0  http://images.amazon.com/images/P/2080674722.0...   \n",
      "1  http://images.amazon.com/images/P/2080674722.0...   \n",
      "2  http://images.amazon.com/images/P/9871138016.0...   \n",
      "3  http://images.amazon.com/images/P/2226070109.0...   \n",
      "4  http://images.amazon.com/images/P/2264010991.0...   \n",
      "\n",
      "                       Location   Age  \n",
      "0            paris, n/a, france  37.0  \n",
      "1  paris, ile de france, france  29.0  \n",
      "2  paris, ile de france, france  29.0  \n",
      "3  paris, ile de france, france  29.0  \n",
      "4  paris, ile de france, france  29.0  \n"
     ]
    }
   ],
   "source": [
    "import pandas as pd\n",
    "\n",
    "# Load datasets\n",
    "ratings_data = pd.read_csv(dataset_path + \"\\\\ratings.csv\")\n",
    "book_data = pd.read_csv(dataset_path + \"\\\\Books.csv\")\n",
    "users_data = pd.read_csv(dataset_path + \"\\\\users.csv\")\n",
    "\n",
    "# Check for missing values in key columns\n",
    "if ratings_data['ISBN'].isnull().any() or book_data['ISBN'].isnull().any() or users_data['User-ID'].isnull().any():\n",
    "    print(\"Warning: Missing values found in key columns. Handle accordingly.\")\n",
    "\n",
    "# Merge datasets\n",
    "merged_data = pd.merge(ratings_data, book_data, on='ISBN', how='inner')\n",
    "merged_data = pd.merge(merged_data, users_data, on='User-ID', how='inner')\n",
    "\n",
    "# Display the first few rows of the merged dataset\n",
    "print(merged_data.head())\n"
   ]
  },
  {
   "cell_type": "code",
   "execution_count": 14,
   "metadata": {
    "execution": {
     "iopub.execute_input": "2022-07-16T14:05:13.992053Z",
     "iopub.status.busy": "2022-07-16T14:05:13.991583Z",
     "iopub.status.idle": "2022-07-16T14:05:14.140824Z",
     "shell.execute_reply": "2022-07-16T14:05:14.139534Z",
     "shell.execute_reply.started": "2022-07-16T14:05:13.992008Z"
    },
    "scrolled": true
   },
   "outputs": [
    {
     "name": "stdout",
     "output_type": "stream",
     "text": [
      "<class 'pandas.core.frame.DataFrame'>\n",
      "RangeIndex: 1149780 entries, 0 to 1149779\n",
      "Data columns (total 3 columns):\n",
      " #   Column       Non-Null Count    Dtype \n",
      "---  ------       --------------    ----- \n",
      " 0   User-ID      1149780 non-null  int64 \n",
      " 1   ISBN         1149780 non-null  object\n",
      " 2   Book-Rating  1149780 non-null  int64 \n",
      "dtypes: int64(2), object(1)\n",
      "memory usage: 26.3+ MB\n"
     ]
    }
   ],
   "source": [
    "ratings_data.info()"
   ]
  },
  {
   "cell_type": "code",
   "execution_count": 15,
   "metadata": {
    "execution": {
     "iopub.execute_input": "2022-07-16T14:05:14.142917Z",
     "iopub.status.busy": "2022-07-16T14:05:14.142165Z",
     "iopub.status.idle": "2022-07-16T14:05:14.148089Z",
     "shell.execute_reply": "2022-07-16T14:05:14.147342Z",
     "shell.execute_reply.started": "2022-07-16T14:05:14.142874Z"
    },
    "scrolled": true
   },
   "outputs": [
    {
     "data": {
      "text/plain": [
       "(1149780, 3)"
      ]
     },
     "execution_count": 15,
     "metadata": {},
     "output_type": "execute_result"
    }
   ],
   "source": [
    "ratings_data.shape"
   ]
  },
  {
   "cell_type": "markdown",
   "metadata": {},
   "source": [
    "# Data Preparation (Data Cleaning and Feature Engineering)"
   ]
  },
  {
   "cell_type": "code",
   "execution_count": 16,
   "metadata": {
    "scrolled": true
   },
   "outputs": [
    {
     "name": "stdout",
     "output_type": "stream",
     "text": [
      "Index(['ISBN', 'Book-Title', 'Book-Author', 'Year-Of-Publication', 'Publisher',\n",
      "       'Image-URL-S', 'Image-URL-M', 'Image-URL-L'],\n",
      "      dtype='object')\n"
     ]
    }
   ],
   "source": [
    "# Check the current columns of book_data\n",
    "print(book_data.columns)\n"
   ]
  },
  {
   "cell_type": "code",
   "execution_count": 17,
   "metadata": {
    "execution": {
     "iopub.execute_input": "2022-07-16T14:05:14.182065Z",
     "iopub.status.busy": "2022-07-16T14:05:14.181736Z",
     "iopub.status.idle": "2022-07-16T14:05:14.191687Z",
     "shell.execute_reply": "2022-07-16T14:05:14.190443Z",
     "shell.execute_reply.started": "2022-07-16T14:05:14.182036Z"
    },
    "scrolled": true
   },
   "outputs": [],
   "source": [
    "# replacing '-' with '_' and features name in lower case\n",
    "book_data.columns= book_data.columns.str.strip().str.lower().str.replace('-', '_')\n",
    "users_data.columns= users_data.columns.str.strip().str.lower().str.replace('-', '_')\n",
    "ratings_data.columns= ratings_data.columns.str.strip().str.lower().str.replace('-', '_')"
   ]
  },
  {
   "cell_type": "code",
   "execution_count": 18,
   "metadata": {
    "execution": {
     "iopub.execute_input": "2022-07-16T14:05:14.194692Z",
     "iopub.status.busy": "2022-07-16T14:05:14.193557Z",
     "iopub.status.idle": "2022-07-16T14:05:14.200106Z",
     "shell.execute_reply": "2022-07-16T14:05:14.199132Z",
     "shell.execute_reply.started": "2022-07-16T14:05:14.194646Z"
    },
    "scrolled": true
   },
   "outputs": [],
   "source": [
    "pd.set_option('display.max_colwidth', None)\n"
   ]
  },
  {
   "cell_type": "code",
   "execution_count": 19,
   "metadata": {
    "execution": {
     "iopub.execute_input": "2022-07-16T14:05:14.202014Z",
     "iopub.status.busy": "2022-07-16T14:05:14.201494Z",
     "iopub.status.idle": "2022-07-16T14:05:14.371952Z",
     "shell.execute_reply": "2022-07-16T14:05:14.371127Z",
     "shell.execute_reply.started": "2022-07-16T14:05:14.20198Z"
    },
    "scrolled": true
   },
   "outputs": [
    {
     "name": "stdout",
     "output_type": "stream",
     "text": [
      "<class 'pandas.core.frame.DataFrame'>\n",
      "RangeIndex: 271360 entries, 0 to 271359\n",
      "Data columns (total 8 columns):\n",
      " #   Column               Non-Null Count   Dtype \n",
      "---  ------               --------------   ----- \n",
      " 0   isbn                 271360 non-null  object\n",
      " 1   book_title           271360 non-null  object\n",
      " 2   book_author          271358 non-null  object\n",
      " 3   year_of_publication  271360 non-null  object\n",
      " 4   publisher            271358 non-null  object\n",
      " 5   image_url_s          271360 non-null  object\n",
      " 6   image_url_m          271360 non-null  object\n",
      " 7   image_url_l          271357 non-null  object\n",
      "dtypes: object(8)\n",
      "memory usage: 16.6+ MB\n"
     ]
    }
   ],
   "source": [
    "book_data.info()"
   ]
  },
  {
   "cell_type": "markdown",
   "metadata": {},
   "source": [
    "Let's see null values in book_data."
   ]
  },
  {
   "cell_type": "code",
   "execution_count": 20,
   "metadata": {
    "execution": {
     "iopub.execute_input": "2022-07-16T14:05:14.373813Z",
     "iopub.status.busy": "2022-07-16T14:05:14.373267Z",
     "iopub.status.idle": "2022-07-16T14:05:14.534508Z",
     "shell.execute_reply": "2022-07-16T14:05:14.533404Z",
     "shell.execute_reply.started": "2022-07-16T14:05:14.37378Z"
    },
    "scrolled": true
   },
   "outputs": [
    {
     "name": "stdout",
     "output_type": "stream",
     "text": [
      "isbn                   0\n",
      "book_title             0\n",
      "book_author            2\n",
      "year_of_publication    0\n",
      "publisher              2\n",
      "image_url_s            0\n",
      "image_url_m            0\n",
      "image_url_l            3\n",
      "dtype: int64\n"
     ]
    }
   ],
   "source": [
    "print(book_data.isnull().sum())"
   ]
  },
  {
   "cell_type": "code",
   "execution_count": 21,
   "metadata": {
    "execution": {
     "iopub.execute_input": "2022-07-16T14:05:14.536578Z",
     "iopub.status.busy": "2022-07-16T14:05:14.536128Z",
     "iopub.status.idle": "2022-07-16T14:05:14.581464Z",
     "shell.execute_reply": "2022-07-16T14:05:14.580776Z",
     "shell.execute_reply.started": "2022-07-16T14:05:14.536534Z"
    },
    "scrolled": true
   },
   "outputs": [
    {
     "data": {
      "text/html": [
       "<div>\n",
       "<style scoped>\n",
       "    .dataframe tbody tr th:only-of-type {\n",
       "        vertical-align: middle;\n",
       "    }\n",
       "\n",
       "    .dataframe tbody tr th {\n",
       "        vertical-align: top;\n",
       "    }\n",
       "\n",
       "    .dataframe thead th {\n",
       "        text-align: right;\n",
       "    }\n",
       "</style>\n",
       "<table border=\"1\" class=\"dataframe\">\n",
       "  <thead>\n",
       "    <tr style=\"text-align: right;\">\n",
       "      <th></th>\n",
       "      <th>isbn</th>\n",
       "      <th>book_title</th>\n",
       "      <th>book_author</th>\n",
       "      <th>year_of_publication</th>\n",
       "      <th>publisher</th>\n",
       "      <th>image_url_s</th>\n",
       "      <th>image_url_m</th>\n",
       "      <th>image_url_l</th>\n",
       "    </tr>\n",
       "  </thead>\n",
       "  <tbody>\n",
       "    <tr>\n",
       "      <th>118033</th>\n",
       "      <td>751352497</td>\n",
       "      <td>A+ Quiz Masters:01 Earth</td>\n",
       "      <td>NaN</td>\n",
       "      <td>1999</td>\n",
       "      <td>Dorling Kindersley</td>\n",
       "      <td>http://images.amazon.com/images/P/0751352497.01.THUMBZZZ.jpg</td>\n",
       "      <td>http://images.amazon.com/images/P/0751352497.01.MZZZZZZZ.jpg</td>\n",
       "      <td>http://images.amazon.com/images/P/0751352497.01.LZZZZZZZ.jpg</td>\n",
       "    </tr>\n",
       "    <tr>\n",
       "      <th>187689</th>\n",
       "      <td>9627982032</td>\n",
       "      <td>The Credit Suisse Guide to Managing Your Personal Wealth</td>\n",
       "      <td>NaN</td>\n",
       "      <td>1995</td>\n",
       "      <td>Edinburgh Financial Publishing</td>\n",
       "      <td>http://images.amazon.com/images/P/9627982032.01.THUMBZZZ.jpg</td>\n",
       "      <td>http://images.amazon.com/images/P/9627982032.01.MZZZZZZZ.jpg</td>\n",
       "      <td>http://images.amazon.com/images/P/9627982032.01.LZZZZZZZ.jpg</td>\n",
       "    </tr>\n",
       "  </tbody>\n",
       "</table>\n",
       "</div>"
      ],
      "text/plain": [
       "              isbn                                                book_title  \\\n",
       "118033   751352497                                  A+ Quiz Masters:01 Earth   \n",
       "187689  9627982032  The Credit Suisse Guide to Managing Your Personal Wealth   \n",
       "\n",
       "       book_author year_of_publication                       publisher  \\\n",
       "118033         NaN                1999              Dorling Kindersley   \n",
       "187689         NaN                1995  Edinburgh Financial Publishing   \n",
       "\n",
       "                                                         image_url_s  \\\n",
       "118033  http://images.amazon.com/images/P/0751352497.01.THUMBZZZ.jpg   \n",
       "187689  http://images.amazon.com/images/P/9627982032.01.THUMBZZZ.jpg   \n",
       "\n",
       "                                                         image_url_m  \\\n",
       "118033  http://images.amazon.com/images/P/0751352497.01.MZZZZZZZ.jpg   \n",
       "187689  http://images.amazon.com/images/P/9627982032.01.MZZZZZZZ.jpg   \n",
       "\n",
       "                                                         image_url_l  \n",
       "118033  http://images.amazon.com/images/P/0751352497.01.LZZZZZZZ.jpg  \n",
       "187689  http://images.amazon.com/images/P/9627982032.01.LZZZZZZZ.jpg  "
      ]
     },
     "execution_count": 21,
     "metadata": {},
     "output_type": "execute_result"
    }
   ],
   "source": [
    "# nan values in particular column\n",
    "book_data.loc[(book_data['book_author'].isnull()),: ]"
   ]
  },
  {
   "cell_type": "code",
   "execution_count": 22,
   "metadata": {
    "execution": {
     "iopub.execute_input": "2022-07-16T14:05:14.583319Z",
     "iopub.status.busy": "2022-07-16T14:05:14.58282Z",
     "iopub.status.idle": "2022-07-16T14:05:14.625636Z",
     "shell.execute_reply": "2022-07-16T14:05:14.624492Z",
     "shell.execute_reply.started": "2022-07-16T14:05:14.583287Z"
    },
    "scrolled": true
   },
   "outputs": [
    {
     "data": {
      "text/html": [
       "<div>\n",
       "<style scoped>\n",
       "    .dataframe tbody tr th:only-of-type {\n",
       "        vertical-align: middle;\n",
       "    }\n",
       "\n",
       "    .dataframe tbody tr th {\n",
       "        vertical-align: top;\n",
       "    }\n",
       "\n",
       "    .dataframe thead th {\n",
       "        text-align: right;\n",
       "    }\n",
       "</style>\n",
       "<table border=\"1\" class=\"dataframe\">\n",
       "  <thead>\n",
       "    <tr style=\"text-align: right;\">\n",
       "      <th></th>\n",
       "      <th>isbn</th>\n",
       "      <th>book_title</th>\n",
       "      <th>book_author</th>\n",
       "      <th>year_of_publication</th>\n",
       "      <th>publisher</th>\n",
       "      <th>image_url_s</th>\n",
       "      <th>image_url_m</th>\n",
       "      <th>image_url_l</th>\n",
       "    </tr>\n",
       "  </thead>\n",
       "  <tbody>\n",
       "    <tr>\n",
       "      <th>128890</th>\n",
       "      <td>1931696566</td>\n",
       "      <td>Tyrant Moon</td>\n",
       "      <td>Elaine Corvidae</td>\n",
       "      <td>2002</td>\n",
       "      <td>NaN</td>\n",
       "      <td>http://images.amazon.com/images/P/193169656X.01.THUMBZZZ.jpg</td>\n",
       "      <td>http://images.amazon.com/images/P/193169656X.01.MZZZZZZZ.jpg</td>\n",
       "      <td>http://images.amazon.com/images/P/193169656X.01.LZZZZZZZ.jpg</td>\n",
       "    </tr>\n",
       "    <tr>\n",
       "      <th>129037</th>\n",
       "      <td>1931696993</td>\n",
       "      <td>Finders Keepers</td>\n",
       "      <td>Linnea Sinclair</td>\n",
       "      <td>2001</td>\n",
       "      <td>NaN</td>\n",
       "      <td>http://images.amazon.com/images/P/1931696993.01.THUMBZZZ.jpg</td>\n",
       "      <td>http://images.amazon.com/images/P/1931696993.01.MZZZZZZZ.jpg</td>\n",
       "      <td>http://images.amazon.com/images/P/1931696993.01.LZZZZZZZ.jpg</td>\n",
       "    </tr>\n",
       "  </tbody>\n",
       "</table>\n",
       "</div>"
      ],
      "text/plain": [
       "              isbn       book_title      book_author year_of_publication  \\\n",
       "128890  1931696566      Tyrant Moon  Elaine Corvidae                2002   \n",
       "129037  1931696993  Finders Keepers  Linnea Sinclair                2001   \n",
       "\n",
       "       publisher  \\\n",
       "128890       NaN   \n",
       "129037       NaN   \n",
       "\n",
       "                                                         image_url_s  \\\n",
       "128890  http://images.amazon.com/images/P/193169656X.01.THUMBZZZ.jpg   \n",
       "129037  http://images.amazon.com/images/P/1931696993.01.THUMBZZZ.jpg   \n",
       "\n",
       "                                                         image_url_m  \\\n",
       "128890  http://images.amazon.com/images/P/193169656X.01.MZZZZZZZ.jpg   \n",
       "129037  http://images.amazon.com/images/P/1931696993.01.MZZZZZZZ.jpg   \n",
       "\n",
       "                                                         image_url_l  \n",
       "128890  http://images.amazon.com/images/P/193169656X.01.LZZZZZZZ.jpg  \n",
       "129037  http://images.amazon.com/images/P/1931696993.01.LZZZZZZZ.jpg  "
      ]
     },
     "execution_count": 22,
     "metadata": {},
     "output_type": "execute_result"
    }
   ],
   "source": [
    "# nan values in particular column\n",
    "book_data.loc[(book_data['publisher'].isnull()),: ]"
   ]
  },
  {
   "cell_type": "code",
   "execution_count": 23,
   "metadata": {
    "execution": {
     "iopub.execute_input": "2022-07-16T14:05:14.627198Z",
     "iopub.status.busy": "2022-07-16T14:05:14.626874Z",
     "iopub.status.idle": "2022-07-16T14:05:14.674898Z",
     "shell.execute_reply": "2022-07-16T14:05:14.673901Z",
     "shell.execute_reply.started": "2022-07-16T14:05:14.627169Z"
    },
    "scrolled": false
   },
   "outputs": [
    {
     "data": {
      "text/plain": [
       "array([2002, 2001, 1991, 1999, 2000, 1993, 1996, 1988, 2004, 1998, 1994,\n",
       "       2003, 1997, 1983, 1979, 1995, 1982, 1985, 1992, 1986, 1978, 1980,\n",
       "       1952, 1987, 1990, 1981, 1989, 1984, 0, 1968, 1961, 1958, 1974,\n",
       "       1976, 1971, 1977, 1975, 1965, 1941, 1970, 1962, 1973, 1972, 1960,\n",
       "       1966, 1920, 1956, 1959, 1953, 1951, 1942, 1963, 1964, 1969, 1954,\n",
       "       1950, 1967, 2005, 1957, 1940, 1937, 1955, 1946, 1936, 1930, 2011,\n",
       "       1925, 1948, 1943, 1947, 1945, 1923, 2020, 1939, 1926, 1938, 2030,\n",
       "       1911, 1904, 1949, 1932, 1928, 1929, 1927, 1931, 1914, 2050, 1934,\n",
       "       1910, 1933, 1902, 1924, 1921, 1900, 2038, 2026, 1944, 1917, 1901,\n",
       "       2010, 1908, 1906, 1935, 1806, 2021, '2000', '1995', '1999', '2004',\n",
       "       '2003', '1990', '1994', '1986', '1989', '2002', '1981', '1993',\n",
       "       '1983', '1982', '1976', '1991', '1977', '1998', '1992', '1996',\n",
       "       '0', '1997', '2001', '1974', '1968', '1987', '1984', '1988',\n",
       "       '1963', '1956', '1970', '1985', '1978', '1973', '1980', '1979',\n",
       "       '1975', '1969', '1961', '1965', '1939', '1958', '1950', '1953',\n",
       "       '1966', '1971', '1959', '1972', '1955', '1957', '1945', '1960',\n",
       "       '1967', '1932', '1924', '1964', '2012', '1911', '1927', '1948',\n",
       "       '1962', '2006', '1952', '1940', '1951', '1931', '1954', '2005',\n",
       "       '1930', '1941', '1944', 'DK Publishing Inc', '1943', '1938',\n",
       "       '1900', '1942', '1923', '1920', '1933', 'Gallimard', '1909',\n",
       "       '1946', '2008', '1378', '2030', '1936', '1947', '2011', '2020',\n",
       "       '1919', '1949', '1922', '1897', '2024', '1376', '1926', '2037'],\n",
       "      dtype=object)"
      ]
     },
     "execution_count": 23,
     "metadata": {},
     "output_type": "execute_result"
    }
   ],
   "source": [
    "# getting unique value from 'year_of_publication' feature\n",
    "book_data['year_of_publication'].unique()"
   ]
  },
  {
   "cell_type": "code",
   "execution_count": 24,
   "metadata": {
    "execution": {
     "iopub.execute_input": "2022-07-16T14:05:14.677164Z",
     "iopub.status.busy": "2022-07-16T14:05:14.676466Z",
     "iopub.status.idle": "2022-07-16T14:05:14.73559Z",
     "shell.execute_reply": "2022-07-16T14:05:14.734658Z",
     "shell.execute_reply.started": "2022-07-16T14:05:14.677127Z"
    },
    "scrolled": true
   },
   "outputs": [
    {
     "data": {
      "text/html": [
       "<div>\n",
       "<style scoped>\n",
       "    .dataframe tbody tr th:only-of-type {\n",
       "        vertical-align: middle;\n",
       "    }\n",
       "\n",
       "    .dataframe tbody tr th {\n",
       "        vertical-align: top;\n",
       "    }\n",
       "\n",
       "    .dataframe thead th {\n",
       "        text-align: right;\n",
       "    }\n",
       "</style>\n",
       "<table border=\"1\" class=\"dataframe\">\n",
       "  <thead>\n",
       "    <tr style=\"text-align: right;\">\n",
       "      <th></th>\n",
       "      <th>isbn</th>\n",
       "      <th>book_title</th>\n",
       "      <th>book_author</th>\n",
       "      <th>year_of_publication</th>\n",
       "      <th>publisher</th>\n",
       "      <th>image_url_s</th>\n",
       "      <th>image_url_m</th>\n",
       "      <th>image_url_l</th>\n",
       "    </tr>\n",
       "  </thead>\n",
       "  <tbody>\n",
       "    <tr>\n",
       "      <th>209538</th>\n",
       "      <td>0789466976</td>\n",
       "      <td>DK Readers: Creating the X-Men, How It All Began (Level 4: Proficient Readers)\\\";Michael Teitelbaum\"</td>\n",
       "      <td>2000</td>\n",
       "      <td>DK Publishing Inc</td>\n",
       "      <td>http://images.amazon.com/images/P/078946697X.01.THUMBZZZ.jpg</td>\n",
       "      <td>http://images.amazon.com/images/P/078946697X.01.MZZZZZZZ.jpg</td>\n",
       "      <td>http://images.amazon.com/images/P/078946697X.01.LZZZZZZZ.jpg</td>\n",
       "      <td>NaN</td>\n",
       "    </tr>\n",
       "    <tr>\n",
       "      <th>221678</th>\n",
       "      <td>789466953</td>\n",
       "      <td>DK Readers: Creating the X-Men, How Comic Books Come to Life (Level 4: Proficient Readers)\\\";James Buckley\"</td>\n",
       "      <td>2000</td>\n",
       "      <td>DK Publishing Inc</td>\n",
       "      <td>http://images.amazon.com/images/P/0789466953.01.THUMBZZZ.jpg</td>\n",
       "      <td>http://images.amazon.com/images/P/0789466953.01.MZZZZZZZ.jpg</td>\n",
       "      <td>http://images.amazon.com/images/P/0789466953.01.LZZZZZZZ.jpg</td>\n",
       "      <td>NaN</td>\n",
       "    </tr>\n",
       "  </tbody>\n",
       "</table>\n",
       "</div>"
      ],
      "text/plain": [
       "              isbn  \\\n",
       "209538  0789466976   \n",
       "221678   789466953   \n",
       "\n",
       "                                                                                                         book_title  \\\n",
       "209538         DK Readers: Creating the X-Men, How It All Began (Level 4: Proficient Readers)\\\";Michael Teitelbaum\"   \n",
       "221678  DK Readers: Creating the X-Men, How Comic Books Come to Life (Level 4: Proficient Readers)\\\";James Buckley\"   \n",
       "\n",
       "       book_author year_of_publication  \\\n",
       "209538        2000   DK Publishing Inc   \n",
       "221678        2000   DK Publishing Inc   \n",
       "\n",
       "                                                           publisher  \\\n",
       "209538  http://images.amazon.com/images/P/078946697X.01.THUMBZZZ.jpg   \n",
       "221678  http://images.amazon.com/images/P/0789466953.01.THUMBZZZ.jpg   \n",
       "\n",
       "                                                         image_url_s  \\\n",
       "209538  http://images.amazon.com/images/P/078946697X.01.MZZZZZZZ.jpg   \n",
       "221678  http://images.amazon.com/images/P/0789466953.01.MZZZZZZZ.jpg   \n",
       "\n",
       "                                                         image_url_m  \\\n",
       "209538  http://images.amazon.com/images/P/078946697X.01.LZZZZZZZ.jpg   \n",
       "221678  http://images.amazon.com/images/P/0789466953.01.LZZZZZZZ.jpg   \n",
       "\n",
       "       image_url_l  \n",
       "209538         NaN  \n",
       "221678         NaN  "
      ]
     },
     "execution_count": 24,
     "metadata": {},
     "output_type": "execute_result"
    }
   ],
   "source": [
    "# Extracting and fixing mismatch in feature 'year_of_publication', 'publisher', 'book_author', 'book_title'\n",
    "book_data[book_data['year_of_publication'] == 'DK Publishing Inc'] "
   ]
  },
  {
   "cell_type": "code",
   "execution_count": 25,
   "metadata": {
    "execution": {
     "iopub.execute_input": "2022-07-16T14:05:14.738118Z",
     "iopub.status.busy": "2022-07-16T14:05:14.737064Z",
     "iopub.status.idle": "2022-07-16T14:05:14.792139Z",
     "shell.execute_reply": "2022-07-16T14:05:14.791439Z",
     "shell.execute_reply.started": "2022-07-16T14:05:14.738081Z"
    },
    "scrolled": true
   },
   "outputs": [
    {
     "data": {
      "text/html": [
       "<div>\n",
       "<style scoped>\n",
       "    .dataframe tbody tr th:only-of-type {\n",
       "        vertical-align: middle;\n",
       "    }\n",
       "\n",
       "    .dataframe tbody tr th {\n",
       "        vertical-align: top;\n",
       "    }\n",
       "\n",
       "    .dataframe thead th {\n",
       "        text-align: right;\n",
       "    }\n",
       "</style>\n",
       "<table border=\"1\" class=\"dataframe\">\n",
       "  <thead>\n",
       "    <tr style=\"text-align: right;\">\n",
       "      <th></th>\n",
       "      <th>isbn</th>\n",
       "      <th>book_title</th>\n",
       "      <th>book_author</th>\n",
       "      <th>year_of_publication</th>\n",
       "      <th>publisher</th>\n",
       "      <th>image_url_s</th>\n",
       "      <th>image_url_m</th>\n",
       "      <th>image_url_l</th>\n",
       "    </tr>\n",
       "  </thead>\n",
       "  <tbody>\n",
       "    <tr>\n",
       "      <th>220731</th>\n",
       "      <td>2070426769</td>\n",
       "      <td>Peuple du ciel, suivi de 'Les Bergers\\\";Jean-Marie Gustave Le ClÃ?Â©zio\"</td>\n",
       "      <td>2003</td>\n",
       "      <td>Gallimard</td>\n",
       "      <td>http://images.amazon.com/images/P/2070426769.01.THUMBZZZ.jpg</td>\n",
       "      <td>http://images.amazon.com/images/P/2070426769.01.MZZZZZZZ.jpg</td>\n",
       "      <td>http://images.amazon.com/images/P/2070426769.01.LZZZZZZZ.jpg</td>\n",
       "      <td>NaN</td>\n",
       "    </tr>\n",
       "  </tbody>\n",
       "</table>\n",
       "</div>"
      ],
      "text/plain": [
       "              isbn  \\\n",
       "220731  2070426769   \n",
       "\n",
       "                                                                      book_title  \\\n",
       "220731  Peuple du ciel, suivi de 'Les Bergers\\\";Jean-Marie Gustave Le ClÃ?Â©zio\"   \n",
       "\n",
       "       book_author year_of_publication  \\\n",
       "220731        2003           Gallimard   \n",
       "\n",
       "                                                           publisher  \\\n",
       "220731  http://images.amazon.com/images/P/2070426769.01.THUMBZZZ.jpg   \n",
       "\n",
       "                                                         image_url_s  \\\n",
       "220731  http://images.amazon.com/images/P/2070426769.01.MZZZZZZZ.jpg   \n",
       "\n",
       "                                                         image_url_m  \\\n",
       "220731  http://images.amazon.com/images/P/2070426769.01.LZZZZZZZ.jpg   \n",
       "\n",
       "       image_url_l  \n",
       "220731         NaN  "
      ]
     },
     "execution_count": 25,
     "metadata": {},
     "output_type": "execute_result"
    }
   ],
   "source": [
    "# Extracting and fixing mismatch in feature 'year_of_publication', 'publisher', 'book_author', 'book_title' \n",
    "book_data[book_data['year_of_publication'] == 'Gallimard']"
   ]
  },
  {
   "cell_type": "markdown",
   "metadata": {},
   "source": [
    "There has to make some correction in three rows as you can see in above output. Let's fix it."
   ]
  },
  {
   "cell_type": "code",
   "execution_count": 26,
   "metadata": {
    "execution": {
     "iopub.execute_input": "2022-07-16T14:05:14.79421Z",
     "iopub.status.busy": "2022-07-16T14:05:14.793327Z",
     "iopub.status.idle": "2022-07-16T14:05:14.800383Z",
     "shell.execute_reply": "2022-07-16T14:05:14.799767Z",
     "shell.execute_reply.started": "2022-07-16T14:05:14.794174Z"
    },
    "scrolled": true
   },
   "outputs": [
    {
     "data": {
      "text/plain": [
       "isbn                                                                                                                     789466953\n",
       "book_title             DK Readers: Creating the X-Men, How Comic Books Come to Life (Level 4: Proficient Readers)\\\";James Buckley\"\n",
       "book_author                                                                                                                   2000\n",
       "year_of_publication                                                                                              DK Publishing Inc\n",
       "publisher                                                             http://images.amazon.com/images/P/0789466953.01.THUMBZZZ.jpg\n",
       "image_url_s                                                           http://images.amazon.com/images/P/0789466953.01.MZZZZZZZ.jpg\n",
       "image_url_m                                                           http://images.amazon.com/images/P/0789466953.01.LZZZZZZZ.jpg\n",
       "image_url_l                                                                                                                    NaN\n",
       "Name: 221678, dtype: object"
      ]
     },
     "execution_count": 26,
     "metadata": {},
     "output_type": "execute_result"
    }
   ],
   "source": [
    "book_data.loc[221678]\n"
   ]
  },
  {
   "cell_type": "code",
   "execution_count": 27,
   "metadata": {
    "execution": {
     "iopub.execute_input": "2022-07-16T14:05:14.802107Z",
     "iopub.status.busy": "2022-07-16T14:05:14.801537Z",
     "iopub.status.idle": "2022-07-16T14:05:14.81209Z",
     "shell.execute_reply": "2022-07-16T14:05:14.811221Z",
     "shell.execute_reply.started": "2022-07-16T14:05:14.802072Z"
    },
    "scrolled": true
   },
   "outputs": [
    {
     "data": {
      "text/plain": [
       "isbn                                                                                                             0789466976\n",
       "book_title             DK Readers: Creating the X-Men, How It All Began (Level 4: Proficient Readers)\\\";Michael Teitelbaum\"\n",
       "book_author                                                                                                            2000\n",
       "year_of_publication                                                                                       DK Publishing Inc\n",
       "publisher                                                      http://images.amazon.com/images/P/078946697X.01.THUMBZZZ.jpg\n",
       "image_url_s                                                    http://images.amazon.com/images/P/078946697X.01.MZZZZZZZ.jpg\n",
       "image_url_m                                                    http://images.amazon.com/images/P/078946697X.01.LZZZZZZZ.jpg\n",
       "image_url_l                                                                                                             NaN\n",
       "Name: 209538, dtype: object"
      ]
     },
     "execution_count": 27,
     "metadata": {},
     "output_type": "execute_result"
    }
   ],
   "source": [
    "book_data.loc[209538]"
   ]
  },
  {
   "cell_type": "code",
   "execution_count": 28,
   "metadata": {
    "execution": {
     "iopub.execute_input": "2022-07-16T14:05:14.813544Z",
     "iopub.status.busy": "2022-07-16T14:05:14.813239Z",
     "iopub.status.idle": "2022-07-16T14:05:14.822059Z",
     "shell.execute_reply": "2022-07-16T14:05:14.821061Z",
     "shell.execute_reply.started": "2022-07-16T14:05:14.813515Z"
    },
    "scrolled": true
   },
   "outputs": [
    {
     "data": {
      "text/plain": [
       "isbn                                                                                 2070426769\n",
       "book_title             Peuple du ciel, suivi de 'Les Bergers\\\";Jean-Marie Gustave Le ClÃ?Â©zio\"\n",
       "book_author                                                                                2003\n",
       "year_of_publication                                                                   Gallimard\n",
       "publisher                          http://images.amazon.com/images/P/2070426769.01.THUMBZZZ.jpg\n",
       "image_url_s                        http://images.amazon.com/images/P/2070426769.01.MZZZZZZZ.jpg\n",
       "image_url_m                        http://images.amazon.com/images/P/2070426769.01.LZZZZZZZ.jpg\n",
       "image_url_l                                                                                 NaN\n",
       "Name: 220731, dtype: object"
      ]
     },
     "execution_count": 28,
     "metadata": {},
     "output_type": "execute_result"
    }
   ],
   "source": [
    "book_data.loc[220731]"
   ]
  },
  {
   "cell_type": "markdown",
   "metadata": {},
   "source": [
    "Let's fix it and make it in correct format as per our dataset."
   ]
  },
  {
   "cell_type": "code",
   "execution_count": 29,
   "metadata": {},
   "outputs": [
    {
     "name": "stdout",
     "output_type": "stream",
     "text": [
      "Index(['User-ID', 'ISBN', 'Book-Rating', 'Book-Title', 'Book-Author',\n",
      "       'Year-Of-Publication', 'Publisher', 'Image-URL-S', 'Image-URL-M',\n",
      "       'Image-URL-L', 'Location', 'Age'],\n",
      "      dtype='object')\n"
     ]
    }
   ],
   "source": [
    "# Display the columns in merged_data\n",
    "print(merged_data.columns)\n"
   ]
  },
  {
   "cell_type": "code",
   "execution_count": 30,
   "metadata": {},
   "outputs": [
    {
     "name": "stdout",
     "output_type": "stream",
     "text": [
      "Columns in ratings_data: Index(['user_id', 'isbn', 'book_rating'], dtype='object')\n",
      "Columns in merged_data: Index(['User-ID', 'ISBN', 'Book-Rating', 'Book-Title', 'Book-Author',\n",
      "       'Year-Of-Publication', 'Publisher', 'Image-URL-S', 'Image-URL-M',\n",
      "       'Image-URL-L', 'Location', 'Age'],\n",
      "      dtype='object')\n"
     ]
    }
   ],
   "source": [
    "# Display the columns in both DataFrames\n",
    "print(\"Columns in ratings_data:\", ratings_data.columns)\n",
    "print(\"Columns in merged_data:\", merged_data.columns)\n"
   ]
  },
  {
   "cell_type": "code",
   "execution_count": 31,
   "metadata": {},
   "outputs": [
    {
     "name": "stdout",
     "output_type": "stream",
     "text": [
      "   user_id        isbn  book_rating  User-ID        ISBN  Book-Rating  \\\n",
      "0   276733  2080674722            0   276733  2080674722            0   \n",
      "1   276747  1570231028            0   276747  1570231028            0   \n",
      "2   276747  1885408226            7   276747  1885408226            7   \n",
      "3   276751  3596218098            8   276751  3596218098            8   \n",
      "4   276762  3404122879            0   276762  3404122879            0   \n",
      "\n",
      "                                                                                                                                        Book-Title  \\\n",
      "0                                                                                                                      Les Particules Elementaires   \n",
      "1  Change Your Job, Change Your Life: High Impact Strategies for Finding Great Jobs in the Decade Ahead (Change Your Job Change Your Life, 7th ed)   \n",
      "2                                                                                                                    The Golden Rule of Schmoozing   \n",
      "3                                                                                                       Reise nach Ixtlan. Die Lehre des Don Juan.   \n",
      "4                                                                                                                       Vater Himmel, Mutter Erde.   \n",
      "\n",
      "          Book-Author Year-Of-Publication                 Publisher  \\\n",
      "0  Michel Houellebecq                1998                Flammarion   \n",
      "1  Ronald L. Krannich                1999       Impact Publications   \n",
      "2            Aye Jaye                1998   Listen &amp; Live Audio   \n",
      "3    Carlos Castaneda                1998  Fischer (Tb.), Frankfurt   \n",
      "4        Sue Harrison                1995                  LÃ?Â¼bbe   \n",
      "\n",
      "                                                    Image-URL-S  \\\n",
      "0  http://images.amazon.com/images/P/2080674722.01.THUMBZZZ.jpg   \n",
      "1  http://images.amazon.com/images/P/1570231028.01.THUMBZZZ.jpg   \n",
      "2  http://images.amazon.com/images/P/1885408226.01.THUMBZZZ.jpg   \n",
      "3  http://images.amazon.com/images/P/3596218098.01.THUMBZZZ.jpg   \n",
      "4  http://images.amazon.com/images/P/3404122879.01.THUMBZZZ.jpg   \n",
      "\n",
      "                                                    Image-URL-M  \\\n",
      "0  http://images.amazon.com/images/P/2080674722.01.MZZZZZZZ.jpg   \n",
      "1  http://images.amazon.com/images/P/1570231028.01.MZZZZZZZ.jpg   \n",
      "2  http://images.amazon.com/images/P/1885408226.01.MZZZZZZZ.jpg   \n",
      "3  http://images.amazon.com/images/P/3596218098.01.MZZZZZZZ.jpg   \n",
      "4  http://images.amazon.com/images/P/3404122879.01.MZZZZZZZ.jpg   \n",
      "\n",
      "                                                    Image-URL-L  \\\n",
      "0  http://images.amazon.com/images/P/2080674722.01.LZZZZZZZ.jpg   \n",
      "1  http://images.amazon.com/images/P/1570231028.01.LZZZZZZZ.jpg   \n",
      "2  http://images.amazon.com/images/P/1885408226.01.LZZZZZZZ.jpg   \n",
      "3  http://images.amazon.com/images/P/3596218098.01.LZZZZZZZ.jpg   \n",
      "4  http://images.amazon.com/images/P/3404122879.01.LZZZZZZZ.jpg   \n",
      "\n",
      "                                 Location   Age  \n",
      "0                      paris, n/a, france  37.0  \n",
      "1                    iowa city, iowa, usa  25.0  \n",
      "2                    iowa city, iowa, usa  25.0  \n",
      "3                zuerich, zh, switzerland   NaN  \n",
      "4  duisburg, nordrhein-westfalen, germany  25.0  \n"
     ]
    }
   ],
   "source": [
    "# Check for missing values in key columns\n",
    "if ratings_data['user_id'].isnull().any() or merged_data['User-ID'].isnull().any() or merged_data['ISBN'].isnull().any():\n",
    "    print(\"Warning: Missing values found in key columns. Handle accordingly.\")\n",
    "\n",
    "# Merge ratings data with the previously merged dataset (using inner merge by default)\n",
    "final_data = pd.merge(ratings_data, merged_data, left_on=['user_id', 'isbn'], right_on=['User-ID', 'ISBN'])\n",
    "\n",
    "# Display the first few rows of the merged dataset\n",
    "print(final_data.head())\n"
   ]
  },
  {
   "cell_type": "code",
   "execution_count": 32,
   "metadata": {},
   "outputs": [
    {
     "name": "stdout",
     "output_type": "stream",
     "text": [
      "Columns in merged_data: Index(['User-ID', 'ISBN', 'Book-Rating', 'Book-Title', 'Book-Author',\n",
      "       'Year-Of-Publication', 'Publisher', 'Image-URL-S', 'Image-URL-M',\n",
      "       'Image-URL-L', 'Location', 'Age'],\n",
      "      dtype='object')\n"
     ]
    }
   ],
   "source": [
    "# Display the columns in merged_data\n",
    "print(\"Columns in merged_data:\", merged_data.columns)\n"
   ]
  },
  {
   "cell_type": "code",
   "execution_count": 33,
   "metadata": {},
   "outputs": [
    {
     "name": "stdout",
     "output_type": "stream",
     "text": [
      "Columns in ratings_data: Index(['user_id', 'isbn', 'book_rating'], dtype='object')\n"
     ]
    }
   ],
   "source": [
    "# Display the columns in ratings_data\n",
    "print(\"Columns in ratings_data:\", ratings_data.columns)\n"
   ]
  },
  {
   "cell_type": "code",
   "execution_count": 34,
   "metadata": {},
   "outputs": [
    {
     "name": "stdout",
     "output_type": "stream",
     "text": [
      "Columns in ratings_data: Index(['user_id', 'isbn', 'book_rating'], dtype='object')\n",
      "Columns in merged_data: Index(['User-ID', 'ISBN', 'Book-Rating', 'Book-Title', 'Book-Author',\n",
      "       'Year-Of-Publication', 'Publisher', 'Image-URL-S', 'Image-URL-M',\n",
      "       'Image-URL-L', 'Location', 'Age'],\n",
      "      dtype='object')\n",
      "First few rows of final_data:\n",
      "   user_id        isbn  book_rating  Book-Rating  \\\n",
      "0   276733  2080674722            0            0   \n",
      "1   276747  1570231028            0            0   \n",
      "2   276747  1885408226            7            7   \n",
      "3   276751  3596218098            8            8   \n",
      "4   276762  3404122879            0            0   \n",
      "\n",
      "                                                                                                                                        Book-Title  \\\n",
      "0                                                                                                                      Les Particules Elementaires   \n",
      "1  Change Your Job, Change Your Life: High Impact Strategies for Finding Great Jobs in the Decade Ahead (Change Your Job Change Your Life, 7th ed)   \n",
      "2                                                                                                                    The Golden Rule of Schmoozing   \n",
      "3                                                                                                       Reise nach Ixtlan. Die Lehre des Don Juan.   \n",
      "4                                                                                                                       Vater Himmel, Mutter Erde.   \n",
      "\n",
      "          Book-Author Year-Of-Publication                 Publisher  \\\n",
      "0  Michel Houellebecq                1998                Flammarion   \n",
      "1  Ronald L. Krannich                1999       Impact Publications   \n",
      "2            Aye Jaye                1998   Listen &amp; Live Audio   \n",
      "3    Carlos Castaneda                1998  Fischer (Tb.), Frankfurt   \n",
      "4        Sue Harrison                1995                  LÃ?Â¼bbe   \n",
      "\n",
      "                                                    Image-URL-S  \\\n",
      "0  http://images.amazon.com/images/P/2080674722.01.THUMBZZZ.jpg   \n",
      "1  http://images.amazon.com/images/P/1570231028.01.THUMBZZZ.jpg   \n",
      "2  http://images.amazon.com/images/P/1885408226.01.THUMBZZZ.jpg   \n",
      "3  http://images.amazon.com/images/P/3596218098.01.THUMBZZZ.jpg   \n",
      "4  http://images.amazon.com/images/P/3404122879.01.THUMBZZZ.jpg   \n",
      "\n",
      "                                                    Image-URL-M  \\\n",
      "0  http://images.amazon.com/images/P/2080674722.01.MZZZZZZZ.jpg   \n",
      "1  http://images.amazon.com/images/P/1570231028.01.MZZZZZZZ.jpg   \n",
      "2  http://images.amazon.com/images/P/1885408226.01.MZZZZZZZ.jpg   \n",
      "3  http://images.amazon.com/images/P/3596218098.01.MZZZZZZZ.jpg   \n",
      "4  http://images.amazon.com/images/P/3404122879.01.MZZZZZZZ.jpg   \n",
      "\n",
      "                                                    Image-URL-L  \\\n",
      "0  http://images.amazon.com/images/P/2080674722.01.LZZZZZZZ.jpg   \n",
      "1  http://images.amazon.com/images/P/1570231028.01.LZZZZZZZ.jpg   \n",
      "2  http://images.amazon.com/images/P/1885408226.01.LZZZZZZZ.jpg   \n",
      "3  http://images.amazon.com/images/P/3596218098.01.LZZZZZZZ.jpg   \n",
      "4  http://images.amazon.com/images/P/3404122879.01.LZZZZZZZ.jpg   \n",
      "\n",
      "                                 Location   Age  book_id  \n",
      "0                      paris, n/a, france  37.0    28726  \n",
      "1                    iowa city, iowa, usa  25.0    11503  \n",
      "2                    iowa city, iowa, usa  25.0    24274  \n",
      "3                zuerich, zh, switzerland   NaN    40856  \n",
      "4  duisburg, nordrhein-westfalen, germany  25.0    33444  \n"
     ]
    }
   ],
   "source": [
    "import pandas as pd\n",
    "from sklearn.preprocessing import LabelEncoder\n",
    "\n",
    "# Assuming you have loaded ratings_data and merged_data\n",
    "\n",
    "# Make column names consistent\n",
    "ratings_data.columns = ['user_id', 'isbn', 'book_rating']\n",
    "\n",
    "# Print the columns in each DataFrame\n",
    "print(\"Columns in ratings_data:\", ratings_data.columns)\n",
    "print(\"Columns in merged_data:\", merged_data.columns)\n",
    "\n",
    "# Merge ratings data with the previously merged dataset\n",
    "try:\n",
    "    final_data = pd.merge(ratings_data, merged_data, left_on=['user_id', 'isbn'], right_on=['User-ID', 'ISBN'])\n",
    "except Exception as e:\n",
    "    print(\"Error during merge:\", e)\n",
    "\n",
    "# Identify the columns to drop based on suffixes\n",
    "columns_to_drop = ['User-ID', 'ISBN']\n",
    "columns_to_drop += [col for col in final_data.columns if col.endswith(('_x', '_y'))]\n",
    "\n",
    "# Drop redundant columns\n",
    "try:\n",
    "    final_data.drop(columns_to_drop, axis=1, inplace=True)\n",
    "except Exception as e:\n",
    "    print(\"Error during column drop:\", e)\n",
    "\n",
    "# Convert ISBN to a numeric format using LabelEncoder\n",
    "try:\n",
    "    isbn_encoder = LabelEncoder()\n",
    "    final_data['book_id'] = isbn_encoder.fit_transform(final_data['isbn'])\n",
    "except Exception as e:\n",
    "    print(\"Error during ISBN encoding:\", e)\n",
    "\n",
    "# Print the first few rows of the final_data DataFrame\n",
    "print(\"First few rows of final_data:\")\n",
    "print(final_data.head())"
   ]
  },
  {
   "cell_type": "code",
   "execution_count": 35,
   "metadata": {
    "execution": {
     "iopub.execute_input": "2022-07-16T14:05:14.832655Z",
     "iopub.status.busy": "2022-07-16T14:05:14.831642Z",
     "iopub.status.idle": "2022-07-16T14:05:14.837253Z",
     "shell.execute_reply": "2022-07-16T14:05:14.836588Z",
     "shell.execute_reply.started": "2022-07-16T14:05:14.832619Z"
    },
    "scrolled": true
   },
   "outputs": [],
   "source": [
    "# function to fix mismatch data in feature 'book_title', 'book_author', ' year_of_publication', 'publisher'\n",
    "def replace_df_value(df, idx, col_name, val):\n",
    "    df.loc[idx, col_name] = val\n",
    "    return df"
   ]
  },
  {
   "cell_type": "code",
   "execution_count": 36,
   "metadata": {
    "execution": {
     "iopub.execute_input": "2022-07-16T14:05:14.897179Z",
     "iopub.status.busy": "2022-07-16T14:05:14.896442Z",
     "iopub.status.idle": "2022-07-16T14:05:14.9432Z",
     "shell.execute_reply": "2022-07-16T14:05:14.942521Z",
     "shell.execute_reply.started": "2022-07-16T14:05:14.897145Z"
    },
    "scrolled": true
   },
   "outputs": [
    {
     "data": {
      "text/html": [
       "<div>\n",
       "<style scoped>\n",
       "    .dataframe tbody tr th:only-of-type {\n",
       "        vertical-align: middle;\n",
       "    }\n",
       "\n",
       "    .dataframe tbody tr th {\n",
       "        vertical-align: top;\n",
       "    }\n",
       "\n",
       "    .dataframe thead th {\n",
       "        text-align: right;\n",
       "    }\n",
       "</style>\n",
       "<table border=\"1\" class=\"dataframe\">\n",
       "  <thead>\n",
       "    <tr style=\"text-align: right;\">\n",
       "      <th></th>\n",
       "      <th>isbn</th>\n",
       "      <th>book_title</th>\n",
       "      <th>book_author</th>\n",
       "      <th>year_of_publication</th>\n",
       "      <th>publisher</th>\n",
       "      <th>image_url_s</th>\n",
       "      <th>image_url_m</th>\n",
       "      <th>image_url_l</th>\n",
       "    </tr>\n",
       "  </thead>\n",
       "  <tbody>\n",
       "    <tr>\n",
       "      <th>128890</th>\n",
       "      <td>1931696566</td>\n",
       "      <td>Tyrant Moon</td>\n",
       "      <td>Elaine Corvidae</td>\n",
       "      <td>2002</td>\n",
       "      <td>NaN</td>\n",
       "      <td>http://images.amazon.com/images/P/193169656X.01.THUMBZZZ.jpg</td>\n",
       "      <td>http://images.amazon.com/images/P/193169656X.01.MZZZZZZZ.jpg</td>\n",
       "      <td>http://images.amazon.com/images/P/193169656X.01.LZZZZZZZ.jpg</td>\n",
       "    </tr>\n",
       "    <tr>\n",
       "      <th>129037</th>\n",
       "      <td>1931696993</td>\n",
       "      <td>Finders Keepers</td>\n",
       "      <td>Linnea Sinclair</td>\n",
       "      <td>2001</td>\n",
       "      <td>NaN</td>\n",
       "      <td>http://images.amazon.com/images/P/1931696993.01.THUMBZZZ.jpg</td>\n",
       "      <td>http://images.amazon.com/images/P/1931696993.01.MZZZZZZZ.jpg</td>\n",
       "      <td>http://images.amazon.com/images/P/1931696993.01.LZZZZZZZ.jpg</td>\n",
       "    </tr>\n",
       "  </tbody>\n",
       "</table>\n",
       "</div>"
      ],
      "text/plain": [
       "              isbn       book_title      book_author year_of_publication  \\\n",
       "128890  1931696566      Tyrant Moon  Elaine Corvidae                2002   \n",
       "129037  1931696993  Finders Keepers  Linnea Sinclair                2001   \n",
       "\n",
       "       publisher  \\\n",
       "128890       NaN   \n",
       "129037       NaN   \n",
       "\n",
       "                                                         image_url_s  \\\n",
       "128890  http://images.amazon.com/images/P/193169656X.01.THUMBZZZ.jpg   \n",
       "129037  http://images.amazon.com/images/P/1931696993.01.THUMBZZZ.jpg   \n",
       "\n",
       "                                                         image_url_m  \\\n",
       "128890  http://images.amazon.com/images/P/193169656X.01.MZZZZZZZ.jpg   \n",
       "129037  http://images.amazon.com/images/P/1931696993.01.MZZZZZZZ.jpg   \n",
       "\n",
       "                                                         image_url_l  \n",
       "128890  http://images.amazon.com/images/P/193169656X.01.LZZZZZZZ.jpg  \n",
       "129037  http://images.amazon.com/images/P/1931696993.01.LZZZZZZZ.jpg  "
      ]
     },
     "execution_count": 36,
     "metadata": {},
     "output_type": "execute_result"
    }
   ],
   "source": [
    "book_data.loc[(book_data['publisher'].isnull()),: ]"
   ]
  },
  {
   "cell_type": "code",
   "execution_count": 37,
   "metadata": {
    "execution": {
     "iopub.execute_input": "2022-07-16T14:05:15.042184Z",
     "iopub.status.busy": "2022-07-16T14:05:15.041489Z",
     "iopub.status.idle": "2022-07-16T14:05:15.050013Z",
     "shell.execute_reply": "2022-07-16T14:05:15.049308Z",
     "shell.execute_reply.started": "2022-07-16T14:05:15.042144Z"
    },
    "scrolled": true
   },
   "outputs": [],
   "source": [
    "df = pd.DataFrame(book_data)\n",
    "cols = [4]\n",
    "df = df[df.columns[cols]]"
   ]
  },
  {
   "cell_type": "code",
   "execution_count": 38,
   "metadata": {
    "execution": {
     "iopub.execute_input": "2022-07-16T14:05:15.051762Z",
     "iopub.status.busy": "2022-07-16T14:05:15.051041Z",
     "iopub.status.idle": "2022-07-16T14:05:15.066539Z",
     "shell.execute_reply": "2022-07-16T14:05:15.065588Z",
     "shell.execute_reply.started": "2022-07-16T14:05:15.051698Z"
    },
    "scrolled": true
   },
   "outputs": [
    {
     "data": {
      "text/html": [
       "<div>\n",
       "<style scoped>\n",
       "    .dataframe tbody tr th:only-of-type {\n",
       "        vertical-align: middle;\n",
       "    }\n",
       "\n",
       "    .dataframe tbody tr th {\n",
       "        vertical-align: top;\n",
       "    }\n",
       "\n",
       "    .dataframe thead th {\n",
       "        text-align: right;\n",
       "    }\n",
       "</style>\n",
       "<table border=\"1\" class=\"dataframe\">\n",
       "  <thead>\n",
       "    <tr style=\"text-align: right;\">\n",
       "      <th></th>\n",
       "      <th>publisher</th>\n",
       "    </tr>\n",
       "  </thead>\n",
       "  <tbody>\n",
       "    <tr>\n",
       "      <th>0</th>\n",
       "      <td>Oxford University Press</td>\n",
       "    </tr>\n",
       "    <tr>\n",
       "      <th>1</th>\n",
       "      <td>HarperFlamingo Canada</td>\n",
       "    </tr>\n",
       "    <tr>\n",
       "      <th>2</th>\n",
       "      <td>HarperPerennial</td>\n",
       "    </tr>\n",
       "    <tr>\n",
       "      <th>3</th>\n",
       "      <td>Farrar Straus Giroux</td>\n",
       "    </tr>\n",
       "    <tr>\n",
       "      <th>4</th>\n",
       "      <td>W. W. Norton &amp;amp; Company</td>\n",
       "    </tr>\n",
       "  </tbody>\n",
       "</table>\n",
       "</div>"
      ],
      "text/plain": [
       "                    publisher\n",
       "0     Oxford University Press\n",
       "1       HarperFlamingo Canada\n",
       "2             HarperPerennial\n",
       "3        Farrar Straus Giroux\n",
       "4  W. W. Norton &amp; Company"
      ]
     },
     "execution_count": 38,
     "metadata": {},
     "output_type": "execute_result"
    }
   ],
   "source": [
    "pd.set_option('display.max_columns', None)  \n",
    "df.head(5)"
   ]
  },
  {
   "cell_type": "code",
   "execution_count": 39,
   "metadata": {
    "execution": {
     "iopub.execute_input": "2022-07-16T14:05:15.070765Z",
     "iopub.status.busy": "2022-07-16T14:05:15.070398Z",
     "iopub.status.idle": "2022-07-16T14:05:15.123462Z",
     "shell.execute_reply": "2022-07-16T14:05:15.122433Z",
     "shell.execute_reply.started": "2022-07-16T14:05:15.070724Z"
    },
    "scrolled": true
   },
   "outputs": [
    {
     "data": {
      "text/html": [
       "<div>\n",
       "<style scoped>\n",
       "    .dataframe tbody tr th:only-of-type {\n",
       "        vertical-align: middle;\n",
       "    }\n",
       "\n",
       "    .dataframe tbody tr th {\n",
       "        vertical-align: top;\n",
       "    }\n",
       "\n",
       "    .dataframe thead th {\n",
       "        text-align: right;\n",
       "    }\n",
       "</style>\n",
       "<table border=\"1\" class=\"dataframe\">\n",
       "  <thead>\n",
       "    <tr style=\"text-align: right;\">\n",
       "      <th></th>\n",
       "      <th>isbn</th>\n",
       "      <th>book_title</th>\n",
       "      <th>book_author</th>\n",
       "      <th>year_of_publication</th>\n",
       "      <th>publisher</th>\n",
       "      <th>image_url_s</th>\n",
       "      <th>image_url_m</th>\n",
       "      <th>image_url_l</th>\n",
       "    </tr>\n",
       "  </thead>\n",
       "  <tbody>\n",
       "  </tbody>\n",
       "</table>\n",
       "</div>"
      ],
      "text/plain": [
       "Empty DataFrame\n",
       "Columns: [isbn, book_title, book_author, year_of_publication, publisher, image_url_s, image_url_m, image_url_l]\n",
       "Index: []"
      ]
     },
     "execution_count": 39,
     "metadata": {},
     "output_type": "execute_result"
    }
   ],
   "source": [
    "book_data[book_data['publisher'] == 'No Mention']"
   ]
  },
  {
   "cell_type": "markdown",
   "metadata": {},
   "source": [
    "## Let's see now user_data dataset"
   ]
  },
  {
   "cell_type": "code",
   "execution_count": 40,
   "metadata": {
    "execution": {
     "iopub.execute_input": "2022-07-16T14:05:15.125177Z",
     "iopub.status.busy": "2022-07-16T14:05:15.124842Z",
     "iopub.status.idle": "2022-07-16T14:05:15.136326Z",
     "shell.execute_reply": "2022-07-16T14:05:15.135324Z",
     "shell.execute_reply.started": "2022-07-16T14:05:15.12514Z"
    },
    "scrolled": true
   },
   "outputs": [
    {
     "name": "stdout",
     "output_type": "stream",
     "text": [
      "(278858, 3)\n"
     ]
    }
   ],
   "source": [
    "# users_data size\n",
    "print(users_data.shape)"
   ]
  },
  {
   "cell_type": "code",
   "execution_count": 41,
   "metadata": {
    "execution": {
     "iopub.execute_input": "2022-07-16T14:05:15.138277Z",
     "iopub.status.busy": "2022-07-16T14:05:15.13775Z",
     "iopub.status.idle": "2022-07-16T14:05:15.154576Z",
     "shell.execute_reply": "2022-07-16T14:05:15.15346Z",
     "shell.execute_reply.started": "2022-07-16T14:05:15.138217Z"
    },
    "scrolled": true
   },
   "outputs": [
    {
     "data": {
      "text/plain": [
       "array([ nan,  18.,  17.,  61.,  26.,  14.,  25.,  19.,  46.,  55.,  32.,\n",
       "        24.,  20.,  34.,  23.,  51.,  31.,  21.,  44.,  30.,  57.,  43.,\n",
       "        37.,  41.,  54.,  42.,  50.,  39.,  53.,  47.,  36.,  28.,  35.,\n",
       "        13.,  58.,  49.,  38.,  45.,  62.,  63.,  27.,  33.,  29.,  66.,\n",
       "        40.,  15.,  60.,   0.,  79.,  22.,  16.,  65.,  59.,  48.,  72.,\n",
       "        56.,  67.,   1.,  80.,  52.,  69.,  71.,  73.,  78.,   9.,  64.,\n",
       "       103., 104.,  12.,  74.,  75., 231.,   3.,  76.,  83.,  68., 119.,\n",
       "        11.,  77.,   2.,  70.,  93.,   8.,   7.,   4.,  81., 114., 230.,\n",
       "       239.,  10.,   5., 148., 151.,   6., 101., 201.,  96.,  84.,  82.,\n",
       "        90., 123., 244., 133.,  91., 128.,  94.,  85., 141., 110.,  97.,\n",
       "       219.,  86., 124.,  92., 175., 172., 209., 212., 237.,  87., 162.,\n",
       "       100., 156., 136.,  95.,  89., 106.,  99., 108., 210.,  88., 199.,\n",
       "       147., 168., 132., 159., 186., 152., 102., 116., 200., 115., 226.,\n",
       "       137., 207., 229., 138., 109., 105., 228., 183., 204.,  98., 223.,\n",
       "       113., 208., 107., 157., 111., 146., 118., 220., 143., 140., 189.,\n",
       "       127.])"
      ]
     },
     "execution_count": 41,
     "metadata": {},
     "output_type": "execute_result"
    }
   ],
   "source": [
    "# unique value in age\n",
    "users_data['age'].unique()"
   ]
  },
  {
   "cell_type": "code",
   "execution_count": 42,
   "metadata": {
    "execution": {
     "iopub.execute_input": "2022-07-16T14:05:15.156411Z",
     "iopub.status.busy": "2022-07-16T14:05:15.156102Z",
     "iopub.status.idle": "2022-07-16T14:05:15.164677Z",
     "shell.execute_reply": "2022-07-16T14:05:15.164063Z",
     "shell.execute_reply.started": "2022-07-16T14:05:15.156383Z"
    },
    "scrolled": true
   },
   "outputs": [],
   "source": [
    "# replacing nan with average of 'age'\n",
    "users_data['age'].fillna((users_data['age'].mean()), inplace=True)"
   ]
  },
  {
   "cell_type": "code",
   "execution_count": 43,
   "metadata": {
    "execution": {
     "iopub.execute_input": "2022-07-16T14:05:15.165799Z",
     "iopub.status.busy": "2022-07-16T14:05:15.165469Z",
     "iopub.status.idle": "2022-07-16T14:05:15.178072Z",
     "shell.execute_reply": "2022-07-16T14:05:15.177073Z",
     "shell.execute_reply.started": "2022-07-16T14:05:15.165768Z"
    },
    "scrolled": false
   },
   "outputs": [
    {
     "data": {
      "text/plain": [
       "array([ 34.7514337,  18.       ,  17.       ,  61.       ,  26.       ,\n",
       "        14.       ,  25.       ,  19.       ,  46.       ,  55.       ,\n",
       "        32.       ,  24.       ,  20.       ,  34.       ,  23.       ,\n",
       "        51.       ,  31.       ,  21.       ,  44.       ,  30.       ,\n",
       "        57.       ,  43.       ,  37.       ,  41.       ,  54.       ,\n",
       "        42.       ,  50.       ,  39.       ,  53.       ,  47.       ,\n",
       "        36.       ,  28.       ,  35.       ,  13.       ,  58.       ,\n",
       "        49.       ,  38.       ,  45.       ,  62.       ,  63.       ,\n",
       "        27.       ,  33.       ,  29.       ,  66.       ,  40.       ,\n",
       "        15.       ,  60.       ,   0.       ,  79.       ,  22.       ,\n",
       "        16.       ,  65.       ,  59.       ,  48.       ,  72.       ,\n",
       "        56.       ,  67.       ,   1.       ,  80.       ,  52.       ,\n",
       "        69.       ,  71.       ,  73.       ,  78.       ,   9.       ,\n",
       "        64.       , 103.       , 104.       ,  12.       ,  74.       ,\n",
       "        75.       , 231.       ,   3.       ,  76.       ,  83.       ,\n",
       "        68.       , 119.       ,  11.       ,  77.       ,   2.       ,\n",
       "        70.       ,  93.       ,   8.       ,   7.       ,   4.       ,\n",
       "        81.       , 114.       , 230.       , 239.       ,  10.       ,\n",
       "         5.       , 148.       , 151.       ,   6.       , 101.       ,\n",
       "       201.       ,  96.       ,  84.       ,  82.       ,  90.       ,\n",
       "       123.       , 244.       , 133.       ,  91.       , 128.       ,\n",
       "        94.       ,  85.       , 141.       , 110.       ,  97.       ,\n",
       "       219.       ,  86.       , 124.       ,  92.       , 175.       ,\n",
       "       172.       , 209.       , 212.       , 237.       ,  87.       ,\n",
       "       162.       , 100.       , 156.       , 136.       ,  95.       ,\n",
       "        89.       , 106.       ,  99.       , 108.       , 210.       ,\n",
       "        88.       , 199.       , 147.       , 168.       , 132.       ,\n",
       "       159.       , 186.       , 152.       , 102.       , 116.       ,\n",
       "       200.       , 115.       , 226.       , 137.       , 207.       ,\n",
       "       229.       , 138.       , 109.       , 105.       , 228.       ,\n",
       "       183.       , 204.       ,  98.       , 223.       , 113.       ,\n",
       "       208.       , 107.       , 157.       , 111.       , 146.       ,\n",
       "       118.       , 220.       , 143.       , 140.       , 189.       ,\n",
       "       127.       ])"
      ]
     },
     "execution_count": 43,
     "metadata": {},
     "output_type": "execute_result"
    }
   ],
   "source": [
    "users_data['age'].unique()"
   ]
  },
  {
   "cell_type": "code",
   "execution_count": 44,
   "metadata": {
    "execution": {
     "iopub.execute_input": "2022-07-16T14:05:15.179812Z",
     "iopub.status.busy": "2022-07-16T14:05:15.179486Z",
     "iopub.status.idle": "2022-07-16T14:05:15.197698Z",
     "shell.execute_reply": "2022-07-16T14:05:15.196933Z",
     "shell.execute_reply.started": "2022-07-16T14:05:15.179782Z"
    },
    "scrolled": true
   },
   "outputs": [],
   "source": [
    "# retrieving age data between 5 to 90\n",
    "users_data.loc[(users_data['age'] > 90) | (users_data['age'] < 5)] = np.nan"
   ]
  },
  {
   "cell_type": "code",
   "execution_count": 45,
   "metadata": {
    "execution": {
     "iopub.execute_input": "2022-07-16T14:05:15.199347Z",
     "iopub.status.busy": "2022-07-16T14:05:15.198885Z",
     "iopub.status.idle": "2022-07-16T14:05:15.206008Z",
     "shell.execute_reply": "2022-07-16T14:05:15.205228Z",
     "shell.execute_reply.started": "2022-07-16T14:05:15.199315Z"
    },
    "scrolled": true
   },
   "outputs": [],
   "source": [
    "users_data['age'].fillna((users_data['age'].mean()), inplace=True)"
   ]
  },
  {
   "cell_type": "code",
   "execution_count": 46,
   "metadata": {
    "execution": {
     "iopub.execute_input": "2022-07-16T14:05:15.207831Z",
     "iopub.status.busy": "2022-07-16T14:05:15.207033Z",
     "iopub.status.idle": "2022-07-16T14:05:15.221929Z",
     "shell.execute_reply": "2022-07-16T14:05:15.221082Z",
     "shell.execute_reply.started": "2022-07-16T14:05:15.207801Z"
    },
    "scrolled": false
   },
   "outputs": [
    {
     "data": {
      "text/plain": [
       "array([34.7514337 , 18.        , 17.        , 61.        , 26.        ,\n",
       "       14.        , 25.        , 19.        , 46.        , 55.        ,\n",
       "       32.        , 24.        , 20.        , 34.        , 23.        ,\n",
       "       51.        , 31.        , 21.        , 44.        , 30.        ,\n",
       "       57.        , 43.        , 37.        , 41.        , 54.        ,\n",
       "       42.        , 50.        , 39.        , 53.        , 47.        ,\n",
       "       36.        , 28.        , 35.        , 13.        , 58.        ,\n",
       "       49.        , 38.        , 45.        , 62.        , 63.        ,\n",
       "       27.        , 33.        , 29.        , 66.        , 40.        ,\n",
       "       15.        , 60.        , 34.73485224, 79.        , 22.        ,\n",
       "       16.        , 65.        , 59.        , 48.        , 72.        ,\n",
       "       56.        , 67.        , 80.        , 52.        , 69.        ,\n",
       "       71.        , 73.        , 78.        ,  9.        , 64.        ,\n",
       "       12.        , 74.        , 75.        , 76.        , 83.        ,\n",
       "       68.        , 11.        , 77.        , 70.        ,  8.        ,\n",
       "        7.        , 81.        , 10.        ,  5.        ,  6.        ,\n",
       "       84.        , 82.        , 90.        , 85.        , 86.        ,\n",
       "       87.        , 89.        , 88.        ])"
      ]
     },
     "execution_count": 46,
     "metadata": {},
     "output_type": "execute_result"
    }
   ],
   "source": [
    "users_data['age'].unique()"
   ]
  },
  {
   "cell_type": "markdown",
   "metadata": {},
   "source": [
    "## Now let's take ratings_data dataset"
   ]
  },
  {
   "cell_type": "code",
   "execution_count": 47,
   "metadata": {
    "execution": {
     "iopub.execute_input": "2022-07-16T14:05:15.223653Z",
     "iopub.status.busy": "2022-07-16T14:05:15.223043Z",
     "iopub.status.idle": "2022-07-16T14:05:15.233384Z",
     "shell.execute_reply": "2022-07-16T14:05:15.232452Z",
     "shell.execute_reply.started": "2022-07-16T14:05:15.223619Z"
    },
    "scrolled": true
   },
   "outputs": [
    {
     "data": {
      "text/html": [
       "<div>\n",
       "<style scoped>\n",
       "    .dataframe tbody tr th:only-of-type {\n",
       "        vertical-align: middle;\n",
       "    }\n",
       "\n",
       "    .dataframe tbody tr th {\n",
       "        vertical-align: top;\n",
       "    }\n",
       "\n",
       "    .dataframe thead th {\n",
       "        text-align: right;\n",
       "    }\n",
       "</style>\n",
       "<table border=\"1\" class=\"dataframe\">\n",
       "  <thead>\n",
       "    <tr style=\"text-align: right;\">\n",
       "      <th></th>\n",
       "      <th>user_id</th>\n",
       "      <th>isbn</th>\n",
       "      <th>book_rating</th>\n",
       "    </tr>\n",
       "  </thead>\n",
       "  <tbody>\n",
       "    <tr>\n",
       "      <th>0</th>\n",
       "      <td>276725</td>\n",
       "      <td>034545104X</td>\n",
       "      <td>0</td>\n",
       "    </tr>\n",
       "    <tr>\n",
       "      <th>1</th>\n",
       "      <td>276726</td>\n",
       "      <td>0155061224</td>\n",
       "      <td>5</td>\n",
       "    </tr>\n",
       "    <tr>\n",
       "      <th>2</th>\n",
       "      <td>276727</td>\n",
       "      <td>0446520802</td>\n",
       "      <td>0</td>\n",
       "    </tr>\n",
       "    <tr>\n",
       "      <th>3</th>\n",
       "      <td>276729</td>\n",
       "      <td>052165615X</td>\n",
       "      <td>3</td>\n",
       "    </tr>\n",
       "    <tr>\n",
       "      <th>4</th>\n",
       "      <td>276729</td>\n",
       "      <td>0521795028</td>\n",
       "      <td>6</td>\n",
       "    </tr>\n",
       "  </tbody>\n",
       "</table>\n",
       "</div>"
      ],
      "text/plain": [
       "   user_id        isbn  book_rating\n",
       "0   276725  034545104X            0\n",
       "1   276726  0155061224            5\n",
       "2   276727  0446520802            0\n",
       "3   276729  052165615X            3\n",
       "4   276729  0521795028            6"
      ]
     },
     "execution_count": 47,
     "metadata": {},
     "output_type": "execute_result"
    }
   ],
   "source": [
    "ratings_data.head()"
   ]
  },
  {
   "cell_type": "code",
   "execution_count": 48,
   "metadata": {
    "execution": {
     "iopub.execute_input": "2022-07-16T14:05:15.23518Z",
     "iopub.status.busy": "2022-07-16T14:05:15.234596Z",
     "iopub.status.idle": "2022-07-16T14:05:15.611491Z",
     "shell.execute_reply": "2022-07-16T14:05:15.610383Z",
     "shell.execute_reply.started": "2022-07-16T14:05:15.235144Z"
    },
    "scrolled": false
   },
   "outputs": [
    {
     "data": {
      "text/html": [
       "<div>\n",
       "<style scoped>\n",
       "    .dataframe tbody tr th:only-of-type {\n",
       "        vertical-align: middle;\n",
       "    }\n",
       "\n",
       "    .dataframe tbody tr th {\n",
       "        vertical-align: top;\n",
       "    }\n",
       "\n",
       "    .dataframe thead th {\n",
       "        text-align: right;\n",
       "    }\n",
       "</style>\n",
       "<table border=\"1\" class=\"dataframe\">\n",
       "  <thead>\n",
       "    <tr style=\"text-align: right;\">\n",
       "      <th></th>\n",
       "      <th>user_id</th>\n",
       "      <th>isbn</th>\n",
       "      <th>book_rating</th>\n",
       "    </tr>\n",
       "  </thead>\n",
       "  <tbody>\n",
       "    <tr>\n",
       "      <th>5</th>\n",
       "      <td>276733</td>\n",
       "      <td>2080674722</td>\n",
       "      <td>0</td>\n",
       "    </tr>\n",
       "    <tr>\n",
       "      <th>22</th>\n",
       "      <td>276747</td>\n",
       "      <td>1570231028</td>\n",
       "      <td>0</td>\n",
       "    </tr>\n",
       "    <tr>\n",
       "      <th>23</th>\n",
       "      <td>276747</td>\n",
       "      <td>1885408226</td>\n",
       "      <td>7</td>\n",
       "    </tr>\n",
       "    <tr>\n",
       "      <th>27</th>\n",
       "      <td>276751</td>\n",
       "      <td>3596218098</td>\n",
       "      <td>8</td>\n",
       "    </tr>\n",
       "    <tr>\n",
       "      <th>37</th>\n",
       "      <td>276762</td>\n",
       "      <td>3404122879</td>\n",
       "      <td>0</td>\n",
       "    </tr>\n",
       "    <tr>\n",
       "      <th>...</th>\n",
       "      <td>...</td>\n",
       "      <td>...</td>\n",
       "      <td>...</td>\n",
       "    </tr>\n",
       "    <tr>\n",
       "      <th>1149651</th>\n",
       "      <td>276681</td>\n",
       "      <td>1931333246</td>\n",
       "      <td>10</td>\n",
       "    </tr>\n",
       "    <tr>\n",
       "      <th>1149746</th>\n",
       "      <td>276688</td>\n",
       "      <td>1551669315</td>\n",
       "      <td>6</td>\n",
       "    </tr>\n",
       "    <tr>\n",
       "      <th>1149747</th>\n",
       "      <td>276688</td>\n",
       "      <td>1575660792</td>\n",
       "      <td>7</td>\n",
       "    </tr>\n",
       "    <tr>\n",
       "      <th>1149748</th>\n",
       "      <td>276688</td>\n",
       "      <td>1580600506</td>\n",
       "      <td>0</td>\n",
       "    </tr>\n",
       "    <tr>\n",
       "      <th>1149775</th>\n",
       "      <td>276704</td>\n",
       "      <td>1563526298</td>\n",
       "      <td>9</td>\n",
       "    </tr>\n",
       "  </tbody>\n",
       "</table>\n",
       "<p>112107 rows × 3 columns</p>\n",
       "</div>"
      ],
      "text/plain": [
       "         user_id        isbn  book_rating\n",
       "5         276733  2080674722            0\n",
       "22        276747  1570231028            0\n",
       "23        276747  1885408226            7\n",
       "27        276751  3596218098            8\n",
       "37        276762  3404122879            0\n",
       "...          ...         ...          ...\n",
       "1149651   276681  1931333246           10\n",
       "1149746   276688  1551669315            6\n",
       "1149747   276688  1575660792            7\n",
       "1149748   276688  1580600506            0\n",
       "1149775   276704  1563526298            9\n",
       "\n",
       "[112107 rows x 3 columns]"
      ]
     },
     "execution_count": 48,
     "metadata": {},
     "output_type": "execute_result"
    }
   ],
   "source": [
    "# finding unique ISBNs from rating and book dataset\n",
    "unique_ratings = ratings_data[ratings_data.isbn.isin(book_data.isbn)]\n",
    "unique_ratings"
   ]
  },
  {
   "cell_type": "code",
   "execution_count": 49,
   "metadata": {
    "execution": {
     "iopub.execute_input": "2022-07-16T14:05:15.613837Z",
     "iopub.status.busy": "2022-07-16T14:05:15.61334Z",
     "iopub.status.idle": "2022-07-16T14:05:15.618709Z",
     "shell.execute_reply": "2022-07-16T14:05:15.61773Z",
     "shell.execute_reply.started": "2022-07-16T14:05:15.613793Z"
    },
    "scrolled": true
   },
   "outputs": [
    {
     "name": "stdout",
     "output_type": "stream",
     "text": [
      "(1149780, 3)\n",
      "(112107, 3)\n"
     ]
    }
   ],
   "source": [
    "print(ratings_data.shape)\n",
    "print(unique_ratings.shape)"
   ]
  },
  {
   "cell_type": "code",
   "execution_count": 50,
   "metadata": {
    "execution": {
     "iopub.execute_input": "2022-07-16T14:05:15.620733Z",
     "iopub.status.busy": "2022-07-16T14:05:15.620283Z",
     "iopub.status.idle": "2022-07-16T14:05:15.638472Z",
     "shell.execute_reply": "2022-07-16T14:05:15.637777Z",
     "shell.execute_reply.started": "2022-07-16T14:05:15.62067Z"
    },
    "scrolled": true
   },
   "outputs": [
    {
     "data": {
      "text/plain": [
       "array([ 0,  7,  8, 10,  9,  6,  1,  3,  5,  4,  2], dtype=int64)"
      ]
     },
     "execution_count": 50,
     "metadata": {},
     "output_type": "execute_result"
    }
   ],
   "source": [
    "# unique ratings from 'book_rating' feature\n",
    "unique_ratings['book_rating'].unique()"
   ]
  },
  {
   "cell_type": "markdown",
   "metadata": {},
   "source": [
    "# Data Visualizations"
   ]
  },
  {
   "cell_type": "markdown",
   "metadata": {},
   "source": [
    "## Book_data dataset"
   ]
  },
  {
   "cell_type": "code",
   "execution_count": 51,
   "metadata": {
    "execution": {
     "iopub.execute_input": "2022-07-16T14:05:15.640135Z",
     "iopub.status.busy": "2022-07-16T14:05:15.639631Z",
     "iopub.status.idle": "2022-07-16T14:05:16.750391Z",
     "shell.execute_reply": "2022-07-16T14:05:16.749402Z",
     "shell.execute_reply.started": "2022-07-16T14:05:15.640104Z"
    },
    "scrolled": false
   },
   "outputs": [
    {
     "data": {
      "image/png": "[encoded data removed]",
      "text/plain": [
       "<Figure size 1200x600 with 1 Axes>"
      ]
     },
     "metadata": {},
     "output_type": "display_data"
    }
   ],
   "source": [
    "import matplotlib.pyplot as plt\n",
    "import seaborn as sns\n",
    "\n",
    "plt.figure(figsize=(12, 6))\n",
    "sns.countplot(y=\"book_author\", palette='Paired', data=book_data, order=book_data['book_author'].value_counts().index[0:20])\n",
    "plt.title(\"Top 20 authors with the number of books\")\n",
    "plt.show()\n"
   ]
  },
  {
   "cell_type": "code",
   "execution_count": 52,
   "metadata": {
    "execution": {
     "iopub.execute_input": "2022-07-16T14:05:16.752105Z",
     "iopub.status.busy": "2022-07-16T14:05:16.751674Z",
     "iopub.status.idle": "2022-07-16T14:05:17.377548Z",
     "shell.execute_reply": "2022-07-16T14:05:17.376862Z",
     "shell.execute_reply.started": "2022-07-16T14:05:16.752072Z"
    },
    "scrolled": false
   },
   "outputs": [
    {
     "data": {
      "image/png": "[encoded data removed]",
      "text/plain": [
       "<Figure size 1200x600 with 1 Axes>"
      ]
     },
     "metadata": {},
     "output_type": "display_data"
    }
   ],
   "source": [
    "import matplotlib.pyplot as plt\n",
    "import seaborn as sns\n",
    "\n",
    "plt.figure(figsize=(12, 6))\n",
    "sns.countplot(y=\"publisher\", palette='Paired', data=book_data, order=book_data['publisher'].value_counts().index[0:20])\n",
    "plt.title(\"Top 20 Publishers with the number of books published\")\n",
    "plt.show()\n"
   ]
  },
  {
   "cell_type": "code",
   "execution_count": 53,
   "metadata": {
    "execution": {
     "iopub.execute_input": "2022-07-16T14:05:17.37924Z",
     "iopub.status.busy": "2022-07-16T14:05:17.378566Z",
     "iopub.status.idle": "2022-07-16T14:05:19.009921Z",
     "shell.execute_reply": "2022-07-16T14:05:19.008776Z",
     "shell.execute_reply.started": "2022-07-16T14:05:17.379192Z"
    },
    "scrolled": true
   },
   "outputs": [
    {
     "data": {
      "image/png": "[encoded data removed]",
      "text/plain": [
       "<Figure size 1500x600 with 1 Axes>"
      ]
     },
     "metadata": {},
     "output_type": "display_data"
    }
   ],
   "source": [
    "import matplotlib.pyplot as plt\n",
    "\n",
    "publications = {}\n",
    "for year in book_data['year_of_publication']:\n",
    "    if str(year) not in publications:\n",
    "        publications[str(year)] = 0\n",
    "    publications[str(year)] += 1\n",
    "\n",
    "publications = {k: v for k, v in sorted(publications.items())}\n",
    "\n",
    "fig = plt.figure(figsize=(15, 6))\n",
    "plt.bar(list(publications.keys()), list(publications.values()), color='blue')\n",
    "plt.ylabel(\"Number of books published\")\n",
    "plt.xlabel(\"Year of Publication\")\n",
    "plt.title(\"Number of books published yearly\")\n",
    "plt.margins(x=0)\n",
    "plt.show()\n"
   ]
  },
  {
   "cell_type": "code",
   "execution_count": 54,
   "metadata": {
    "execution": {
     "iopub.execute_input": "2022-07-16T14:05:19.011956Z",
     "iopub.status.busy": "2022-07-16T14:05:19.011432Z",
     "iopub.status.idle": "2022-07-16T14:05:19.246855Z",
     "shell.execute_reply": "2022-07-16T14:05:19.245959Z",
     "shell.execute_reply.started": "2022-07-16T14:05:19.011912Z"
    },
    "scrolled": true
   },
   "outputs": [
    {
     "name": "stdout",
     "output_type": "stream",
     "text": [
      "There are 4618 entries as '0', and 3 NaN entries in the Year of Publication field\n"
     ]
    }
   ],
   "source": [
    "book_data.year_of_publication = pd.to_numeric(book_data.year_of_publication, errors='coerce')\n",
    "\n",
    "# Checking for 0's or NaNs in Year of Publication\n",
    "zero_year = book_data[book_data.year_of_publication == 0].year_of_publication.count()\n",
    "nan_year = book_data.year_of_publication.isnull().sum()\n",
    "\n",
    "print(f'There are {zero_year} entries as \\'0\\', and {nan_year} NaN entries in the Year of Publication field')\n",
    "\n",
    "# Replace all years of zero with NaN\n",
    "book_data.year_of_publication.replace(0, np.nan, inplace=True)"
   ]
  },
  {
   "cell_type": "code",
   "execution_count": 55,
   "metadata": {
    "execution": {
     "iopub.execute_input": "2022-07-16T14:05:19.248535Z",
     "iopub.status.busy": "2022-07-16T14:05:19.248188Z",
     "iopub.status.idle": "2022-07-16T14:05:19.637062Z",
     "shell.execute_reply": "2022-07-16T14:05:19.636155Z",
     "shell.execute_reply.started": "2022-07-16T14:05:19.248504Z"
    },
    "scrolled": false
   },
   "outputs": [
    {
     "data": {
      "image/png": "[encoded data removed]",
      "text/plain": [
       "<Figure size 1000x800 with 1 Axes>"
      ]
     },
     "metadata": {},
     "output_type": "display_data"
    }
   ],
   "source": [
    "year = book_data.year_of_publication.value_counts().sort_index()\n",
    "year = year.where(year>5) \n",
    "plt.figure(figsize=(10, 8))\n",
    "plt.rcParams.update({'font.size': 15}) \n",
    "plt.bar(year.index, year.values)\n",
    "plt.xlabel('Year of Publication')\n",
    "plt.ylabel('counts')\n",
    "plt.show()"
   ]
  },
  {
   "cell_type": "markdown",
   "metadata": {},
   "source": [
    "## User_data Dataset"
   ]
  },
  {
   "cell_type": "code",
   "execution_count": 56,
   "metadata": {
    "execution": {
     "iopub.execute_input": "2022-07-16T14:05:19.639148Z",
     "iopub.status.busy": "2022-07-16T14:05:19.638369Z",
     "iopub.status.idle": "2022-07-16T14:05:19.887414Z",
     "shell.execute_reply": "2022-07-16T14:05:19.886461Z",
     "shell.execute_reply.started": "2022-07-16T14:05:19.639112Z"
    },
    "scrolled": false
   },
   "outputs": [
    {
     "data": {
      "image/png": "[encoded data removed]",
      "text/plain": [
       "<Figure size 1000x800 with 1 Axes>"
      ]
     },
     "metadata": {},
     "output_type": "display_data"
    }
   ],
   "source": [
    "plt.figure(figsize=(10,8))\n",
    "users_data.age.hist(bins=[10*i for i in range(1, 10)], color = 'cyan')     \n",
    "plt.title('Age Distribution')\n",
    "plt.xlabel('Age')\n",
    "plt.ylabel('Count')\n",
    "plt.show()"
   ]
  },
  {
   "cell_type": "markdown",
   "metadata": {},
   "source": [
    "## Ratings_data Dataset"
   ]
  },
  {
   "cell_type": "code",
   "execution_count": 57,
   "metadata": {
    "execution": {
     "iopub.execute_input": "2022-07-16T14:05:19.889325Z",
     "iopub.status.busy": "2022-07-16T14:05:19.888869Z",
     "iopub.status.idle": "2022-07-16T14:05:21.78863Z",
     "shell.execute_reply": "2022-07-16T14:05:21.787765Z",
     "shell.execute_reply.started": "2022-07-16T14:05:19.88928Z"
    },
    "scrolled": false
   },
   "outputs": [
    {
     "data": {
      "image/png": "[encoded data removed]",
      "text/plain": [
       "<Figure size 1200x600 with 1 Axes>"
      ]
     },
     "metadata": {},
     "output_type": "display_data"
    }
   ],
   "source": [
    "plt.figure(figsize=(12,6))\n",
    "sns.countplot(y=\"book_title\", palette='Paired', data=book_data, order=book_data['book_title'].value_counts().index[0:20])\n",
    "plt.title(\"Top 20 books as per number of ratings\")\n",
    "plt.show()\n"
   ]
  },
  {
   "cell_type": "code",
   "execution_count": 58,
   "metadata": {
    "execution": {
     "iopub.execute_input": "2022-07-16T14:05:21.790286Z",
     "iopub.status.busy": "2022-07-16T14:05:21.789828Z",
     "iopub.status.idle": "2022-07-16T14:05:22.088596Z",
     "shell.execute_reply": "2022-07-16T14:05:22.087697Z",
     "shell.execute_reply.started": "2022-07-16T14:05:21.790252Z"
    },
    "scrolled": false
   },
   "outputs": [
    {
     "data": {
      "text/plain": [
       "<Axes: xlabel='book_rating', ylabel='count'>"
      ]
     },
     "execution_count": 58,
     "metadata": {},
     "output_type": "execute_result"
    },
    {
     "data": {
      "image/png": "[encoded data removed]",
      "text/plain": [
       "<Figure size 800x600 with 1 Axes>"
      ]
     },
     "metadata": {},
     "output_type": "display_data"
    }
   ],
   "source": [
    "plt.figure(figsize=(8,6))\n",
    "sns.countplot(x=\"book_rating\",palette = 'Paired',data= unique_ratings)"
   ]
  },
  {
   "cell_type": "code",
   "execution_count": 59,
   "metadata": {
    "execution": {
     "iopub.execute_input": "2022-07-16T14:05:22.090742Z",
     "iopub.status.busy": "2022-07-16T14:05:22.090087Z",
     "iopub.status.idle": "2022-07-16T14:05:22.36566Z",
     "shell.execute_reply": "2022-07-16T14:05:22.364659Z",
     "shell.execute_reply.started": "2022-07-16T14:05:22.090673Z"
    },
    "scrolled": false
   },
   "outputs": [
    {
     "data": {
      "text/plain": [
       "Text(0.5, 1.0, 'Explicit Ratings')"
      ]
     },
     "execution_count": 59,
     "metadata": {},
     "output_type": "execute_result"
    },
    {
     "data": {
      "image/png": "[encoded data removed]",
      "text/plain": [
       "<Figure size 800x600 with 1 Axes>"
      ]
     },
     "metadata": {},
     "output_type": "display_data"
    }
   ],
   "source": [
    "# Explicit Ratings\n",
    "plt.figure(figsize=(8,6))\n",
    "rate_data = unique_ratings[unique_ratings['book_rating'] != 0]\n",
    "sns.countplot(x=\"book_rating\",palette = 'Paired',data=rate_data)\n",
    "plt.title(\"Explicit Ratings\")"
   ]
  },
  {
   "cell_type": "markdown",
   "metadata": {},
   "source": [
    "# Recommendation System"
   ]
  },
  {
   "cell_type": "code",
   "execution_count": 60,
   "metadata": {
    "execution": {
     "iopub.execute_input": "2022-07-16T14:05:22.36719Z",
     "iopub.status.busy": "2022-07-16T14:05:22.366854Z",
     "iopub.status.idle": "2022-07-16T14:05:22.430066Z",
     "shell.execute_reply": "2022-07-16T14:05:22.429207Z",
     "shell.execute_reply.started": "2022-07-16T14:05:22.367161Z"
    },
    "scrolled": true
   },
   "outputs": [],
   "source": [
    "ratings_explicit= unique_ratings[unique_ratings['book_rating'] != 0]   # explicit ratings represented by 1–10\n",
    "ratings_implicit= unique_ratings[unique_ratings['book_rating'] == 0]   # implicit ratings represented by 0"
   ]
  },
  {
   "cell_type": "code",
   "execution_count": 61,
   "metadata": {
    "execution": {
     "iopub.execute_input": "2022-07-16T14:05:22.432175Z",
     "iopub.status.busy": "2022-07-16T14:05:22.431472Z",
     "iopub.status.idle": "2022-07-16T14:05:22.442527Z",
     "shell.execute_reply": "2022-07-16T14:05:22.441593Z",
     "shell.execute_reply.started": "2022-07-16T14:05:22.432139Z"
    },
    "scrolled": true
   },
   "outputs": [
    {
     "data": {
      "text/html": [
       "<div>\n",
       "<style scoped>\n",
       "    .dataframe tbody tr th:only-of-type {\n",
       "        vertical-align: middle;\n",
       "    }\n",
       "\n",
       "    .dataframe tbody tr th {\n",
       "        vertical-align: top;\n",
       "    }\n",
       "\n",
       "    .dataframe thead th {\n",
       "        text-align: right;\n",
       "    }\n",
       "</style>\n",
       "<table border=\"1\" class=\"dataframe\">\n",
       "  <thead>\n",
       "    <tr style=\"text-align: right;\">\n",
       "      <th></th>\n",
       "      <th>user_id</th>\n",
       "      <th>isbn</th>\n",
       "      <th>book_rating</th>\n",
       "    </tr>\n",
       "  </thead>\n",
       "  <tbody>\n",
       "    <tr>\n",
       "      <th>23</th>\n",
       "      <td>276747</td>\n",
       "      <td>1885408226</td>\n",
       "      <td>7</td>\n",
       "    </tr>\n",
       "    <tr>\n",
       "      <th>27</th>\n",
       "      <td>276751</td>\n",
       "      <td>3596218098</td>\n",
       "      <td>8</td>\n",
       "    </tr>\n",
       "    <tr>\n",
       "      <th>44</th>\n",
       "      <td>276762</td>\n",
       "      <td>3453092007</td>\n",
       "      <td>8</td>\n",
       "    </tr>\n",
       "    <tr>\n",
       "      <th>61</th>\n",
       "      <td>276772</td>\n",
       "      <td>3499230933</td>\n",
       "      <td>10</td>\n",
       "    </tr>\n",
       "    <tr>\n",
       "      <th>62</th>\n",
       "      <td>276772</td>\n",
       "      <td>3596151465</td>\n",
       "      <td>10</td>\n",
       "    </tr>\n",
       "  </tbody>\n",
       "</table>\n",
       "</div>"
      ],
      "text/plain": [
       "    user_id        isbn  book_rating\n",
       "23   276747  1885408226            7\n",
       "27   276751  3596218098            8\n",
       "44   276762  3453092007            8\n",
       "61   276772  3499230933           10\n",
       "62   276772  3596151465           10"
      ]
     },
     "execution_count": 61,
     "metadata": {},
     "output_type": "execute_result"
    }
   ],
   "source": [
    "ratings_explicit.head()"
   ]
  },
  {
   "cell_type": "code",
   "execution_count": 62,
   "metadata": {
    "execution": {
     "iopub.execute_input": "2022-07-16T14:05:22.444685Z",
     "iopub.status.busy": "2022-07-16T14:05:22.443989Z",
     "iopub.status.idle": "2022-07-16T14:05:22.451604Z",
     "shell.execute_reply": "2022-07-16T14:05:22.450994Z",
     "shell.execute_reply.started": "2022-07-16T14:05:22.444642Z"
    },
    "scrolled": true
   },
   "outputs": [
    {
     "name": "stdout",
     "output_type": "stream",
     "text": [
      "(112107, 3)\n",
      "(49409, 3)\n"
     ]
    }
   ],
   "source": [
    "print(unique_ratings.shape)\n",
    "print(ratings_explicit.shape)"
   ]
  },
  {
   "cell_type": "code",
   "execution_count": 63,
   "metadata": {
    "execution": {
     "iopub.execute_input": "2022-07-16T14:05:22.453499Z",
     "iopub.status.busy": "2022-07-16T14:05:22.452615Z",
     "iopub.status.idle": "2022-07-16T14:05:22.803475Z",
     "shell.execute_reply": "2022-07-16T14:05:22.802548Z",
     "shell.execute_reply.started": "2022-07-16T14:05:22.453469Z"
    },
    "scrolled": true
   },
   "outputs": [
    {
     "data": {
      "text/html": [
       "<div>\n",
       "<style scoped>\n",
       "    .dataframe tbody tr th:only-of-type {\n",
       "        vertical-align: middle;\n",
       "    }\n",
       "\n",
       "    .dataframe tbody tr th {\n",
       "        vertical-align: top;\n",
       "    }\n",
       "\n",
       "    .dataframe thead th {\n",
       "        text-align: right;\n",
       "    }\n",
       "</style>\n",
       "<table border=\"1\" class=\"dataframe\">\n",
       "  <thead>\n",
       "    <tr style=\"text-align: right;\">\n",
       "      <th></th>\n",
       "      <th>isbn</th>\n",
       "      <th>book_title</th>\n",
       "      <th>book_author</th>\n",
       "      <th>year_of_publication</th>\n",
       "      <th>publisher</th>\n",
       "      <th>image_url_s</th>\n",
       "      <th>image_url_m</th>\n",
       "      <th>image_url_l</th>\n",
       "      <th>user_id</th>\n",
       "      <th>book_rating</th>\n",
       "    </tr>\n",
       "  </thead>\n",
       "  <tbody>\n",
       "    <tr>\n",
       "      <th>0</th>\n",
       "      <td>1552041778</td>\n",
       "      <td>Jane Doe</td>\n",
       "      <td>R. J. Kaiser</td>\n",
       "      <td>1999.0</td>\n",
       "      <td>Mira Books</td>\n",
       "      <td>http://images.amazon.com/images/P/1552041778.01.THUMBZZZ.jpg</td>\n",
       "      <td>http://images.amazon.com/images/P/1552041778.01.MZZZZZZZ.jpg</td>\n",
       "      <td>http://images.amazon.com/images/P/1552041778.01.LZZZZZZZ.jpg</td>\n",
       "      <td>8</td>\n",
       "      <td>5</td>\n",
       "    </tr>\n",
       "    <tr>\n",
       "      <th>1</th>\n",
       "      <td>1558746218</td>\n",
       "      <td>A Second Chicken Soup for the Woman's Soul (Chicken Soup for the Soul Series)</td>\n",
       "      <td>Jack Canfield</td>\n",
       "      <td>1998.0</td>\n",
       "      <td>Health Communications</td>\n",
       "      <td>http://images.amazon.com/images/P/1558746218.01.THUMBZZZ.jpg</td>\n",
       "      <td>http://images.amazon.com/images/P/1558746218.01.MZZZZZZZ.jpg</td>\n",
       "      <td>http://images.amazon.com/images/P/1558746218.01.LZZZZZZZ.jpg</td>\n",
       "      <td>61501</td>\n",
       "      <td>7</td>\n",
       "    </tr>\n",
       "    <tr>\n",
       "      <th>2</th>\n",
       "      <td>1558746218</td>\n",
       "      <td>A Second Chicken Soup for the Woman's Soul (Chicken Soup for the Soul Series)</td>\n",
       "      <td>Jack Canfield</td>\n",
       "      <td>1998.0</td>\n",
       "      <td>Health Communications</td>\n",
       "      <td>http://images.amazon.com/images/P/1558746218.01.THUMBZZZ.jpg</td>\n",
       "      <td>http://images.amazon.com/images/P/1558746218.01.MZZZZZZZ.jpg</td>\n",
       "      <td>http://images.amazon.com/images/P/1558746218.01.LZZZZZZZ.jpg</td>\n",
       "      <td>148514</td>\n",
       "      <td>10</td>\n",
       "    </tr>\n",
       "    <tr>\n",
       "      <th>3</th>\n",
       "      <td>1558746218</td>\n",
       "      <td>A Second Chicken Soup for the Woman's Soul (Chicken Soup for the Soul Series)</td>\n",
       "      <td>Jack Canfield</td>\n",
       "      <td>1998.0</td>\n",
       "      <td>Health Communications</td>\n",
       "      <td>http://images.amazon.com/images/P/1558746218.01.THUMBZZZ.jpg</td>\n",
       "      <td>http://images.amazon.com/images/P/1558746218.01.MZZZZZZZ.jpg</td>\n",
       "      <td>http://images.amazon.com/images/P/1558746218.01.LZZZZZZZ.jpg</td>\n",
       "      <td>263256</td>\n",
       "      <td>10</td>\n",
       "    </tr>\n",
       "    <tr>\n",
       "      <th>4</th>\n",
       "      <td>1567407781</td>\n",
       "      <td>The Witchfinder (Amos Walker Mystery Series)</td>\n",
       "      <td>Loren D. Estleman</td>\n",
       "      <td>1998.0</td>\n",
       "      <td>Brilliance Audio - Trade</td>\n",
       "      <td>http://images.amazon.com/images/P/1567407781.01.THUMBZZZ.jpg</td>\n",
       "      <td>http://images.amazon.com/images/P/1567407781.01.MZZZZZZZ.jpg</td>\n",
       "      <td>http://images.amazon.com/images/P/1567407781.01.LZZZZZZZ.jpg</td>\n",
       "      <td>8</td>\n",
       "      <td>6</td>\n",
       "    </tr>\n",
       "  </tbody>\n",
       "</table>\n",
       "</div>"
      ],
      "text/plain": [
       "         isbn  \\\n",
       "0  1552041778   \n",
       "1  1558746218   \n",
       "2  1558746218   \n",
       "3  1558746218   \n",
       "4  1567407781   \n",
       "\n",
       "                                                                      book_title  \\\n",
       "0                                                                       Jane Doe   \n",
       "1  A Second Chicken Soup for the Woman's Soul (Chicken Soup for the Soul Series)   \n",
       "2  A Second Chicken Soup for the Woman's Soul (Chicken Soup for the Soul Series)   \n",
       "3  A Second Chicken Soup for the Woman's Soul (Chicken Soup for the Soul Series)   \n",
       "4                                   The Witchfinder (Amos Walker Mystery Series)   \n",
       "\n",
       "         book_author  year_of_publication                 publisher  \\\n",
       "0       R. J. Kaiser               1999.0                Mira Books   \n",
       "1      Jack Canfield               1998.0     Health Communications   \n",
       "2      Jack Canfield               1998.0     Health Communications   \n",
       "3      Jack Canfield               1998.0     Health Communications   \n",
       "4  Loren D. Estleman               1998.0  Brilliance Audio - Trade   \n",
       "\n",
       "                                                    image_url_s  \\\n",
       "0  http://images.amazon.com/images/P/1552041778.01.THUMBZZZ.jpg   \n",
       "1  http://images.amazon.com/images/P/1558746218.01.THUMBZZZ.jpg   \n",
       "2  http://images.amazon.com/images/P/1558746218.01.THUMBZZZ.jpg   \n",
       "3  http://images.amazon.com/images/P/1558746218.01.THUMBZZZ.jpg   \n",
       "4  http://images.amazon.com/images/P/1567407781.01.THUMBZZZ.jpg   \n",
       "\n",
       "                                                    image_url_m  \\\n",
       "0  http://images.amazon.com/images/P/1552041778.01.MZZZZZZZ.jpg   \n",
       "1  http://images.amazon.com/images/P/1558746218.01.MZZZZZZZ.jpg   \n",
       "2  http://images.amazon.com/images/P/1558746218.01.MZZZZZZZ.jpg   \n",
       "3  http://images.amazon.com/images/P/1558746218.01.MZZZZZZZ.jpg   \n",
       "4  http://images.amazon.com/images/P/1567407781.01.MZZZZZZZ.jpg   \n",
       "\n",
       "                                                    image_url_l  user_id  \\\n",
       "0  http://images.amazon.com/images/P/1552041778.01.LZZZZZZZ.jpg        8   \n",
       "1  http://images.amazon.com/images/P/1558746218.01.LZZZZZZZ.jpg    61501   \n",
       "2  http://images.amazon.com/images/P/1558746218.01.LZZZZZZZ.jpg   148514   \n",
       "3  http://images.amazon.com/images/P/1558746218.01.LZZZZZZZ.jpg   263256   \n",
       "4  http://images.amazon.com/images/P/1567407781.01.LZZZZZZZ.jpg        8   \n",
       "\n",
       "   book_rating  \n",
       "0            5  \n",
       "1            7  \n",
       "2           10  \n",
       "3           10  \n",
       "4            6  "
      ]
     },
     "execution_count": 63,
     "metadata": {},
     "output_type": "execute_result"
    }
   ],
   "source": [
    "# Merging book_data dataset and ratings_explicit\n",
    "new_book_df= pd.merge(book_data, ratings_explicit, on='isbn')\n",
    "new_book_df.head()"
   ]
  },
  {
   "cell_type": "code",
   "execution_count": 64,
   "metadata": {
    "execution": {
     "iopub.execute_input": "2022-07-16T14:05:22.805154Z",
     "iopub.status.busy": "2022-07-16T14:05:22.804738Z",
     "iopub.status.idle": "2022-07-16T14:05:22.81002Z",
     "shell.execute_reply": "2022-07-16T14:05:22.809151Z",
     "shell.execute_reply.started": "2022-07-16T14:05:22.805114Z"
    },
    "scrolled": true
   },
   "outputs": [
    {
     "name": "stdout",
     "output_type": "stream",
     "text": [
      "(49409, 10)\n"
     ]
    }
   ],
   "source": [
    "print(new_book_df.shape)"
   ]
  },
  {
   "cell_type": "code",
   "execution_count": 65,
   "metadata": {
    "execution": {
     "iopub.execute_input": "2022-07-16T14:05:22.811438Z",
     "iopub.status.busy": "2022-07-16T14:05:22.811144Z",
     "iopub.status.idle": "2022-07-16T14:05:22.869162Z",
     "shell.execute_reply": "2022-07-16T14:05:22.868161Z",
     "shell.execute_reply.started": "2022-07-16T14:05:22.81141Z"
    },
    "scrolled": true
   },
   "outputs": [
    {
     "data": {
      "text/plain": [
       "49409"
      ]
     },
     "execution_count": 65,
     "metadata": {},
     "output_type": "execute_result"
    }
   ],
   "source": [
    "new_book_df['book_title'].count()"
   ]
  },
  {
   "cell_type": "code",
   "execution_count": 66,
   "metadata": {
    "execution": {
     "iopub.execute_input": "2022-07-16T14:05:22.873303Z",
     "iopub.status.busy": "2022-07-16T14:05:22.872662Z",
     "iopub.status.idle": "2022-07-16T14:05:22.979587Z",
     "shell.execute_reply": "2022-07-16T14:05:22.97886Z",
     "shell.execute_reply.started": "2022-07-16T14:05:22.873269Z"
    },
    "scrolled": true
   },
   "outputs": [
    {
     "data": {
      "text/plain": [
       "28698"
      ]
     },
     "execution_count": 66,
     "metadata": {},
     "output_type": "execute_result"
    }
   ],
   "source": [
    "new_book_df['book_title'].nunique()"
   ]
  },
  {
   "cell_type": "markdown",
   "metadata": {},
   "source": [
    "## Let's take top 10 recommendation books"
   ]
  },
  {
   "cell_type": "code",
   "execution_count": 67,
   "metadata": {
    "execution": {
     "iopub.execute_input": "2022-07-16T14:05:22.981327Z",
     "iopub.status.busy": "2022-07-16T14:05:22.980798Z",
     "iopub.status.idle": "2022-07-16T14:05:23.412948Z",
     "shell.execute_reply": "2022-07-16T14:05:23.411993Z",
     "shell.execute_reply.started": "2022-07-16T14:05:22.981296Z"
    },
    "scrolled": false
   },
   "outputs": [
    {
     "name": "stdout",
     "output_type": "stream",
     "text": [
      "The top ten books as per ratings:\n",
      "                                                                     book_title  \\\n",
      "0                  The No. 1 Ladies' Detective Agency (Today Show Book Club #8)   \n",
      "1                                                                How to Be Good   \n",
      "2                         A Child Called \\It\\\": One Child's Courage to Survive\"   \n",
      "3                 The Color of Water: A Black Man's Tribute to His White Mother   \n",
      "4                                                                 High Fidelity   \n",
      "5                           Tears of the Giraffe (No.1 Ladies Detective Agency)   \n",
      "6                                                                   About a Boy   \n",
      "7                The Lost Boy: A Foster Child's Search for the Love of a Family   \n",
      "8  Chicken Soup for the Woman's Soul (Chicken Soup for the Soul Series (Paper))   \n",
      "9                    The Four Agreements: A Practical Guide to Personal Freedom   \n",
      "\n",
      "   book_rating  \n",
      "0          183  \n",
      "1          149  \n",
      "2          136  \n",
      "3          111  \n",
      "4           98  \n",
      "5           95  \n",
      "6           84  \n",
      "7           70  \n",
      "8           66  \n",
      "9           62  \n"
     ]
    }
   ],
   "source": [
    "import pandas as pd\n",
    "import numpy as np  # If not already imported\n",
    "\n",
    "# top ten books as per book ratings and recommendation\n",
    "top_ten_books = pd.DataFrame(new_book_df.groupby('book_title')['book_rating'].count()\n",
    "                             .sort_values(ascending=False).head(10)).reset_index()\n",
    "\n",
    "print('The top ten books as per ratings:')\n",
    "print(top_ten_books)\n"
   ]
  },
  {
   "cell_type": "markdown",
   "metadata": {},
   "source": [
    "## Train - Test Split"
   ]
  },
  {
   "cell_type": "code",
   "execution_count": 68,
   "metadata": {
    "execution": {
     "iopub.execute_input": "2022-07-16T14:05:23.415328Z",
     "iopub.status.busy": "2022-07-16T14:05:23.414631Z",
     "iopub.status.idle": "2022-07-16T14:05:23.571248Z",
     "shell.execute_reply": "2022-07-16T14:05:23.570229Z",
     "shell.execute_reply.started": "2022-07-16T14:05:23.415283Z"
    },
    "scrolled": true
   },
   "outputs": [],
   "source": [
    "from sklearn import model_selection\n",
    "train_data, test_data = model_selection.train_test_split(new_book_df, test_size=0.20)"
   ]
  },
  {
   "cell_type": "code",
   "execution_count": 69,
   "metadata": {
    "execution": {
     "iopub.execute_input": "2022-07-16T14:05:23.573244Z",
     "iopub.status.busy": "2022-07-16T14:05:23.572814Z",
     "iopub.status.idle": "2022-07-16T14:05:23.578436Z",
     "shell.execute_reply": "2022-07-16T14:05:23.577761Z",
     "shell.execute_reply.started": "2022-07-16T14:05:23.573197Z"
    },
    "scrolled": true
   },
   "outputs": [
    {
     "name": "stdout",
     "output_type": "stream",
     "text": [
      "Training set lengths: 39527\n",
      "Testing set lengths: 9882\n",
      "Test set is 20% of the full dataset.\n"
     ]
    }
   ],
   "source": [
    "print(f'Training set lengths: {len(train_data)}')\n",
    "print(f'Testing set lengths: {len(test_data)}')\n",
    "print(f'Test set is {(len(test_data)/(len(train_data)+len(test_data))*100):.0f}% of the full dataset.')"
   ]
  },
  {
   "cell_type": "code",
   "execution_count": 70,
   "metadata": {
    "execution": {
     "iopub.execute_input": "2022-07-16T14:05:23.579672Z",
     "iopub.status.busy": "2022-07-16T14:05:23.579369Z",
     "iopub.status.idle": "2022-07-16T14:05:23.75838Z",
     "shell.execute_reply": "2022-07-16T14:05:23.757369Z",
     "shell.execute_reply.started": "2022-07-16T14:05:23.579644Z"
    },
    "scrolled": true
   },
   "outputs": [],
   "source": [
    "# Get int mapping for user_id in train dataset\n",
    "u_unique_train = train_data.user_id.unique()  \n",
    "train_data_user2idx = {o:i for i, o in enumerate(u_unique_train)}\n",
    "\n",
    "# Get int mapping for isbn in train dataset\n",
    "i_unique_train = train_data.isbn.unique()  \n",
    "train_data_book2idx = {o:i for i, o in enumerate(i_unique_train)}"
   ]
  },
  {
   "cell_type": "code",
   "execution_count": 71,
   "metadata": {
    "execution": {
     "iopub.execute_input": "2022-07-16T14:05:23.760412Z",
     "iopub.status.busy": "2022-07-16T14:05:23.759894Z",
     "iopub.status.idle": "2022-07-16T14:05:23.821139Z",
     "shell.execute_reply": "2022-07-16T14:05:23.82016Z",
     "shell.execute_reply.started": "2022-07-16T14:05:23.760374Z"
    },
    "scrolled": true
   },
   "outputs": [],
   "source": [
    "# Get int mapping for user_id in test dataset\n",
    "u_unique_test = test_data.user_id.unique()  \n",
    "test_data_user2idx = {o:i for i, o in enumerate(u_unique_test)}\n",
    "\n",
    "# Get int mapping for isbn in test dataset\n",
    "i_unique_test = test_data.isbn.unique() \n",
    "test_data_book2idx = {o:i for i, o in enumerate(i_unique_test)}"
   ]
  },
  {
   "cell_type": "code",
   "execution_count": 72,
   "metadata": {
    "execution": {
     "iopub.execute_input": "2022-07-16T14:05:23.822588Z",
     "iopub.status.busy": "2022-07-16T14:05:23.822272Z",
     "iopub.status.idle": "2022-07-16T14:05:24.19875Z",
     "shell.execute_reply": "2022-07-16T14:05:24.197793Z",
     "shell.execute_reply.started": "2022-07-16T14:05:23.82256Z"
    },
    "scrolled": true
   },
   "outputs": [],
   "source": [
    "# training set\n",
    "train_data['u_unique'] = train_data['user_id'].map(train_data_user2idx)\n",
    "train_data['i_unique'] = train_data['isbn'].map(train_data_book2idx)\n",
    "\n",
    "# testing set\n",
    "test_data['u_unique'] = test_data['user_id'].map(test_data_user2idx)\n",
    "test_data['i_unique'] = test_data['isbn'].map(test_data_book2idx)\n",
    "\n",
    "# Convert back to three feature of dataframe \n",
    "train_data = train_data[['u_unique', 'i_unique', 'book_rating']]\n",
    "test_data = test_data[['u_unique', 'i_unique', 'book_rating']]"
   ]
  },
  {
   "cell_type": "code",
   "execution_count": 73,
   "metadata": {
    "execution": {
     "iopub.execute_input": "2022-07-16T14:05:24.200725Z",
     "iopub.status.busy": "2022-07-16T14:05:24.200386Z",
     "iopub.status.idle": "2022-07-16T14:05:24.218341Z",
     "shell.execute_reply": "2022-07-16T14:05:24.217115Z",
     "shell.execute_reply.started": "2022-07-16T14:05:24.200681Z"
    },
    "scrolled": true
   },
   "outputs": [
    {
     "data": {
      "text/html": [
       "<div>\n",
       "<style scoped>\n",
       "    .dataframe tbody tr th:only-of-type {\n",
       "        vertical-align: middle;\n",
       "    }\n",
       "\n",
       "    .dataframe tbody tr th {\n",
       "        vertical-align: top;\n",
       "    }\n",
       "\n",
       "    .dataframe thead th {\n",
       "        text-align: right;\n",
       "    }\n",
       "</style>\n",
       "<table border=\"1\" class=\"dataframe\">\n",
       "  <thead>\n",
       "    <tr style=\"text-align: right;\">\n",
       "      <th></th>\n",
       "      <th>u_unique</th>\n",
       "      <th>i_unique</th>\n",
       "      <th>book_rating</th>\n",
       "    </tr>\n",
       "  </thead>\n",
       "  <tbody>\n",
       "    <tr>\n",
       "      <th>20012</th>\n",
       "      <td>37</td>\n",
       "      <td>20047</td>\n",
       "      <td>6</td>\n",
       "    </tr>\n",
       "    <tr>\n",
       "      <th>18222</th>\n",
       "      <td>530</td>\n",
       "      <td>580</td>\n",
       "      <td>5</td>\n",
       "    </tr>\n",
       "    <tr>\n",
       "      <th>11441</th>\n",
       "      <td>141</td>\n",
       "      <td>20795</td>\n",
       "      <td>6</td>\n",
       "    </tr>\n",
       "    <tr>\n",
       "      <th>23702</th>\n",
       "      <td>662</td>\n",
       "      <td>14198</td>\n",
       "      <td>9</td>\n",
       "    </tr>\n",
       "    <tr>\n",
       "      <th>17046</th>\n",
       "      <td>4808</td>\n",
       "      <td>6379</td>\n",
       "      <td>5</td>\n",
       "    </tr>\n",
       "  </tbody>\n",
       "</table>\n",
       "</div>"
      ],
      "text/plain": [
       "       u_unique  i_unique  book_rating\n",
       "20012        37     20047            6\n",
       "18222       530       580            5\n",
       "11441       141     20795            6\n",
       "23702       662     14198            9\n",
       "17046      4808      6379            5"
      ]
     },
     "execution_count": 73,
     "metadata": {},
     "output_type": "execute_result"
    }
   ],
   "source": [
    "train_data.sample(5)"
   ]
  },
  {
   "cell_type": "code",
   "execution_count": 74,
   "metadata": {
    "execution": {
     "iopub.execute_input": "2022-07-16T14:05:24.219941Z",
     "iopub.status.busy": "2022-07-16T14:05:24.219584Z",
     "iopub.status.idle": "2022-07-16T14:05:24.231532Z",
     "shell.execute_reply": "2022-07-16T14:05:24.230559Z",
     "shell.execute_reply.started": "2022-07-16T14:05:24.219909Z"
    },
    "scrolled": true
   },
   "outputs": [
    {
     "data": {
      "text/html": [
       "<div>\n",
       "<style scoped>\n",
       "    .dataframe tbody tr th:only-of-type {\n",
       "        vertical-align: middle;\n",
       "    }\n",
       "\n",
       "    .dataframe tbody tr th {\n",
       "        vertical-align: top;\n",
       "    }\n",
       "\n",
       "    .dataframe thead th {\n",
       "        text-align: right;\n",
       "    }\n",
       "</style>\n",
       "<table border=\"1\" class=\"dataframe\">\n",
       "  <thead>\n",
       "    <tr style=\"text-align: right;\">\n",
       "      <th></th>\n",
       "      <th>u_unique</th>\n",
       "      <th>i_unique</th>\n",
       "      <th>book_rating</th>\n",
       "    </tr>\n",
       "  </thead>\n",
       "  <tbody>\n",
       "    <tr>\n",
       "      <th>31052</th>\n",
       "      <td>53</td>\n",
       "      <td>2455</td>\n",
       "      <td>7</td>\n",
       "    </tr>\n",
       "    <tr>\n",
       "      <th>2606</th>\n",
       "      <td>3333</td>\n",
       "      <td>267</td>\n",
       "      <td>3</td>\n",
       "    </tr>\n",
       "    <tr>\n",
       "      <th>39883</th>\n",
       "      <td>289</td>\n",
       "      <td>306</td>\n",
       "      <td>10</td>\n",
       "    </tr>\n",
       "    <tr>\n",
       "      <th>12121</th>\n",
       "      <td>4468</td>\n",
       "      <td>5856</td>\n",
       "      <td>10</td>\n",
       "    </tr>\n",
       "    <tr>\n",
       "      <th>47863</th>\n",
       "      <td>1181</td>\n",
       "      <td>7454</td>\n",
       "      <td>8</td>\n",
       "    </tr>\n",
       "  </tbody>\n",
       "</table>\n",
       "</div>"
      ],
      "text/plain": [
       "       u_unique  i_unique  book_rating\n",
       "31052        53      2455            7\n",
       "2606       3333       267            3\n",
       "39883       289       306           10\n",
       "12121      4468      5856           10\n",
       "47863      1181      7454            8"
      ]
     },
     "execution_count": 74,
     "metadata": {},
     "output_type": "execute_result"
    }
   ],
   "source": [
    "test_data.sample(5)"
   ]
  },
  {
   "cell_type": "markdown",
   "metadata": {},
   "source": [
    "## User-Item for Train Data"
   ]
  },
  {
   "cell_type": "code",
   "execution_count": 75,
   "metadata": {
    "execution": {
     "iopub.execute_input": "2022-07-16T14:05:24.2352Z",
     "iopub.status.busy": "2022-07-16T14:05:24.234604Z",
     "iopub.status.idle": "2022-07-16T14:05:25.584516Z",
     "shell.execute_reply": "2022-07-16T14:05:25.583476Z",
     "shell.execute_reply.started": "2022-07-16T14:05:24.235164Z"
    },
    "scrolled": true
   },
   "outputs": [
    {
     "name": "stdout",
     "output_type": "stream",
     "text": [
      "(15588, 24970)\n"
     ]
    }
   ],
   "source": [
    "from scipy.sparse import coo_matrix\n",
    "\n",
    "# Create a sparse matrix\n",
    "train_matrix = coo_matrix((train_data['book_rating'].astype(float), (train_data['u_unique'], train_data['i_unique'])))\n",
    "\n",
    "# Check the shape of the sparse matrix\n",
    "print(train_matrix.shape)\n"
   ]
  },
  {
   "cell_type": "markdown",
   "metadata": {},
   "source": [
    "## User-Item for Test Data"
   ]
  },
  {
   "cell_type": "code",
   "execution_count": 76,
   "metadata": {
    "execution": {
     "iopub.execute_input": "2022-07-16T14:05:25.594147Z",
     "iopub.status.busy": "2022-07-16T14:05:25.593857Z",
     "iopub.status.idle": "2022-07-16T14:05:25.939828Z",
     "shell.execute_reply": "2022-07-16T14:05:25.938944Z",
     "shell.execute_reply.started": "2022-07-16T14:05:25.594113Z"
    },
    "scrolled": true
   },
   "outputs": [],
   "source": [
    "n_users = test_data['u_unique'].nunique()\n",
    "n_books = test_data['i_unique'].nunique()\n",
    "\n",
    "test_matrix = np.zeros((n_users, n_books))\n",
    "\n",
    "for entry in test_data.itertuples():\n",
    "    test_matrix[entry[1]-1, entry[2]-1] = entry[3] "
   ]
  },
  {
   "cell_type": "code",
   "execution_count": 77,
   "metadata": {
    "execution": {
     "iopub.execute_input": "2022-07-16T14:05:25.941492Z",
     "iopub.status.busy": "2022-07-16T14:05:25.940798Z",
     "iopub.status.idle": "2022-07-16T14:05:25.947156Z",
     "shell.execute_reply": "2022-07-16T14:05:25.946351Z",
     "shell.execute_reply.started": "2022-07-16T14:05:25.941456Z"
    },
    "scrolled": true
   },
   "outputs": [
    {
     "data": {
      "text/plain": [
       "(5825, 8019)"
      ]
     },
     "execution_count": 77,
     "metadata": {},
     "output_type": "execute_result"
    }
   ],
   "source": [
    "test_matrix.shape"
   ]
  },
  {
   "cell_type": "markdown",
   "metadata": {},
   "source": [
    "## Cosine Similarity Based Recommendation System"
   ]
  },
  {
   "cell_type": "code",
   "execution_count": 78,
   "metadata": {
    "execution": {
     "iopub.execute_input": "2022-07-16T14:05:25.948766Z",
     "iopub.status.busy": "2022-07-16T14:05:25.948302Z",
     "iopub.status.idle": "2022-07-16T14:05:31.238896Z",
     "shell.execute_reply": "2022-07-16T14:05:31.237992Z",
     "shell.execute_reply.started": "2022-07-16T14:05:25.948734Z"
    },
    "scrolled": true
   },
   "outputs": [],
   "source": [
    "from sklearn.metrics.pairwise import pairwise_distances\n",
    "from scipy.sparse import coo_matrix\n",
    "\n",
    "# Assuming train_matrix is a coo_matrix\n",
    "train_matrix_csc = train_matrix.tocsc()\n",
    "\n",
    "# Take a smaller subset of the matrix\n",
    "train_matrix_small = train_matrix_csc[:5000, :5000]\n",
    "test_matrix_small = test_matrix[:5000, :5000]\n",
    "\n",
    "# Compute user-user and item-item similarities\n",
    "user_similarity = pairwise_distances(train_matrix_small, metric='cosine')\n",
    "item_similarity = pairwise_distances(train_matrix_small.T, metric='cosine')\n"
   ]
  },
  {
   "cell_type": "code",
   "execution_count": 79,
   "metadata": {
    "execution": {
     "iopub.execute_input": "2022-07-16T14:05:31.240946Z",
     "iopub.status.busy": "2022-07-16T14:05:31.240484Z",
     "iopub.status.idle": "2022-07-16T14:05:31.24874Z",
     "shell.execute_reply": "2022-07-16T14:05:31.247527Z",
     "shell.execute_reply.started": "2022-07-16T14:05:31.240899Z"
    },
    "scrolled": true
   },
   "outputs": [],
   "source": [
    "from scipy.sparse import coo_matrix\n",
    "import numpy as np\n",
    "\n",
    "def predict_books(ratings, similarity, type='user'):\n",
    "    if type == 'user':\n",
    "        mean_user_rating = np.array(ratings.mean(axis=1)).flatten()\n",
    "        \n",
    "        # Use np.newaxis so that mean_user_rating has the same format as ratings\n",
    "        ratings_diff = ratings - mean_user_rating[:, np.newaxis]\n",
    "        \n",
    "        # Ensure ratings_diff is a dense matrix for the dot product\n",
    "        ratings_diff_dense = ratings_diff.A if coo_matrix else ratings_diff\n",
    "        \n",
    "        pred = mean_user_rating[:, np.newaxis] + similarity.dot(ratings_diff_dense) / np.array([np.abs(similarity).sum(axis=1)]).T\n",
    "    elif type == 'item':\n",
    "        pred = ratings.dot(similarity) / np.array([np.abs(similarity).sum(axis=1)])\n",
    "    return pred\n",
    "\n"
   ]
  },
  {
   "cell_type": "code",
   "execution_count": 80,
   "metadata": {
    "execution": {
     "iopub.execute_input": "2022-07-16T14:05:31.250834Z",
     "iopub.status.busy": "2022-07-16T14:05:31.250339Z",
     "iopub.status.idle": "2022-07-16T14:05:40.119004Z",
     "shell.execute_reply": "2022-07-16T14:05:40.117975Z",
     "shell.execute_reply.started": "2022-07-16T14:05:31.25079Z"
    },
    "scrolled": true
   },
   "outputs": [],
   "source": [
    "item_prediction = predict_books(train_matrix_small, item_similarity, type='item')\n",
    "user_prediction = predict_books(train_matrix_small, user_similarity, type='user')"
   ]
  },
  {
   "cell_type": "markdown",
   "metadata": {},
   "source": [
    "## Evaluation Metric"
   ]
  },
  {
   "cell_type": "code",
   "execution_count": 81,
   "metadata": {
    "execution": {
     "iopub.execute_input": "2022-07-16T14:05:40.120503Z",
     "iopub.status.busy": "2022-07-16T14:05:40.120178Z",
     "iopub.status.idle": "2022-07-16T14:05:40.815055Z",
     "shell.execute_reply": "2022-07-16T14:05:40.814143Z",
     "shell.execute_reply.started": "2022-07-16T14:05:40.120472Z"
    },
    "scrolled": true
   },
   "outputs": [
    {
     "name": "stdout",
     "output_type": "stream",
     "text": [
      "Item-based CF RMSE: 7.817845350115422\n",
      "User-based CF RMSE: 7.8175878292631875\n"
     ]
    }
   ],
   "source": [
    "# Evaluation metric by mean squared error\n",
    "from sklearn.metrics import mean_squared_error\n",
    "from math import sqrt\n",
    "\n",
    "def rmse(prediction, test_matrix):\n",
    "    prediction = prediction[test_matrix.nonzero()].flatten()\n",
    "    test_matrix = test_matrix[test_matrix.nonzero()].flatten()\n",
    "    return sqrt(mean_squared_error(prediction, test_matrix))\n",
    "\n",
    "print(f'Item-based CF RMSE: {rmse(item_prediction, test_matrix_small)}')\n",
    "print(f'User-based CF RMSE: {rmse(user_prediction, test_matrix_small)}')"
   ]
  },
  {
   "cell_type": "markdown",
   "metadata": {},
   "source": [
    "## Train - Test Split"
   ]
  },
  {
   "cell_type": "code",
   "execution_count": 82,
   "metadata": {},
   "outputs": [
    {
     "name": "stdout",
     "output_type": "stream",
     "text": [
      "WARNING:tensorflow:From C:\\Users\\akayr\\anaconda3\\Lib\\site-packages\\keras\\src\\losses.py:2976: The name tf.losses.sparse_softmax_cross_entropy is deprecated. Please use tf.compat.v1.losses.sparse_softmax_cross_entropy instead.\n",
      "\n",
      "WARNING:tensorflow:From C:\\Users\\akayr\\anaconda3\\Lib\\site-packages\\keras\\src\\backend.py:1398: The name tf.executing_eagerly_outside_functions is deprecated. Please use tf.compat.v1.executing_eagerly_outside_functions instead.\n",
      "\n",
      "309/309 [==============================] - 0s 879us/step\n",
      "9882 9882\n"
     ]
    }
   ],
   "source": [
    "from tensorflow.keras.models import load_model\n",
    "\n",
    "# Load the pre-trained model\n",
    "model = load_model(\"C:\\\\Users\\\\akayr\\\\Desktop\\\\gnn_model_trained.h5\")\n",
    "\n",
    "# Assuming 'test_data' has the necessary features for prediction\n",
    "user_inputs = test_data['u_unique'].values\n",
    "book_inputs = test_data['i_unique'].values\n",
    "\n",
    "# Predict using the loaded model\n",
    "predictions = model.predict([user_inputs, book_inputs])\n",
    "\n",
    "# Now you can use 'predictions'\n",
    "print(len(test_data['book_rating']), len(predictions.flatten()))\n"
   ]
  },
  {
   "cell_type": "code",
   "execution_count": 83,
   "metadata": {},
   "outputs": [
    {
     "name": "stdout",
     "output_type": "stream",
     "text": [
      "[2.8221688 3.9698982 2.7493181 ... 2.2343507 3.8879635 5.504644 ]\n"
     ]
    }
   ],
   "source": [
    "# Flatten the predictions\n",
    "flat_predictions = predictions.flatten()\n",
    "\n",
    "# Print the flattened predictions\n",
    "print(flat_predictions)\n"
   ]
  },
  {
   "cell_type": "code",
   "execution_count": 84,
   "metadata": {},
   "outputs": [
    {
     "name": "stdout",
     "output_type": "stream",
     "text": [
      "RMSE: 7.241605625611659\n"
     ]
    }
   ],
   "source": [
    "# Ensure both true ratings and predictions are 1D arrays\n",
    "y_true = test_data['book_rating'].values.flatten()\n",
    "\n",
    "# Get the indices of the test data within the bounds of predictions\n",
    "indices_within_bounds = test_data.index[test_data.index < len(predictions)]\n",
    "\n",
    "# Align predictions based on indices within bounds\n",
    "aligned_predictions = np.zeros(len(y_true))\n",
    "aligned_predictions[indices_within_bounds] = predictions.flatten()[:len(indices_within_bounds)]\n",
    "\n",
    "# Ensure the lengths match before computing RMSE\n",
    "if len(y_true) == len(aligned_predictions):\n",
    "    # Now compute RMSE\n",
    "    rmse = np.sqrt(mean_squared_error(y_true, aligned_predictions))\n",
    "    print(f'RMSE: {rmse}')\n",
    "else:\n",
    "    print(\"Lengths of true ratings and predictions do not match.\")\n"
   ]
  },
  {
   "cell_type": "code",
   "execution_count": 85,
   "metadata": {},
   "outputs": [],
   "source": [
    "# Assuming you have TensorFlow with GPU support installed\n",
    "import tensorflow as tf\n",
    "physical_devices = tf.config.list_physical_devices('GPU') \n",
    "if len(physical_devices) > 0:\n",
    "    tf.config.experimental.set_memory_growth(physical_devices[0], True)\n"
   ]
  },
  {
   "cell_type": "code",
   "execution_count": 86,
   "metadata": {
    "scrolled": false
   },
   "outputs": [
    {
     "name": "stdout",
     "output_type": "stream",
     "text": [
      "Epoch 1/5\n",
      "WARNING:tensorflow:From C:\\Users\\akayr\\anaconda3\\Lib\\site-packages\\keras\\src\\utils\\tf_utils.py:492: The name tf.ragged.RaggedTensorValue is deprecated. Please use tf.compat.v1.ragged.RaggedTensorValue instead.\n",
      "\n",
      "1797/1797 [==============================] - 231s 128ms/step - loss: 21.7978 - val_loss: 18.7343\n",
      "Epoch 2/5\n",
      "1797/1797 [==============================] - 232s 129ms/step - loss: 19.0607 - val_loss: 17.4031\n",
      "Epoch 3/5\n",
      "1797/1797 [==============================] - 231s 128ms/step - loss: 17.1182 - val_loss: 16.4272\n",
      "Epoch 4/5\n",
      "1797/1797 [==============================] - 231s 129ms/step - loss: 15.3855 - val_loss: 15.7333\n",
      "Epoch 5/5\n",
      "1797/1797 [==============================] - 231s 129ms/step - loss: 13.9558 - val_loss: 15.1383\n"
     ]
    }
   ],
   "source": [
    "import numpy as np\n",
    "import pandas as pd\n",
    "from sklearn.model_selection import train_test_split\n",
    "from keras.models import Model\n",
    "from keras.layers import Input, Embedding, Flatten, Dot, Add, Dense, Concatenate, Dropout, BatchNormalization\n",
    "from keras.optimizers import Adam\n",
    "from keras.callbacks import EarlyStopping\n",
    "import matplotlib.pyplot as plt\n",
    "\n",
    "# Load data\n",
    "dataset_path = r\"C:\\Users\\akayr\\Desktop\\archive\"\n",
    "\n",
    "book_data = pd.read_csv(dataset_path + \"\\\\Books.csv\")\n",
    "rating_data = pd.read_csv(dataset_path + \"\\\\Ratings.csv\")  # Updated file name\n",
    "users_data = pd.read_csv(dataset_path + \"\\\\Users.csv\")    \n",
    "\n",
    "# Assuming 'user_id', 'book_id', and 'rating' are the columns in your rating_data\n",
    "# Assuming the actual column names are 'User-ID', 'ISBN', and 'Book-Rating'\n",
    "ratings = rating_data.rename(columns={'User-ID': 'user', 'ISBN': 'item', 'Book-Rating': 'rating'})\n",
    "\n",
    "# Create user and item indices\n",
    "user_ids = ratings['user'].unique()\n",
    "book_ids = ratings['item'].unique()\n",
    "\n",
    "user_id_map = {id: idx for idx, id in enumerate(user_ids)}\n",
    "book_id_map = {id: idx for idx, id in enumerate(book_ids)}\n",
    "\n",
    "num_users = len(user_ids)\n",
    "num_books = len(book_ids)\n",
    "\n",
    "# Map user and book IDs to indices\n",
    "ratings['user'] = ratings['user'].map(user_id_map)\n",
    "ratings['item'] = ratings['item'].map(book_id_map)\n",
    "\n",
    "# Train-test split\n",
    "train_data, test_data = train_test_split(ratings, test_size=0.2, random_state=42)\n",
    "\n",
    "# Ensure that user and item indices in the test set are present in the training set\n",
    "test_data = test_data[test_data['user'].isin(train_data['user']) & test_data['item'].isin(train_data['item'])]\n",
    "\n",
    "# Keras model for collaborative filtering with optimizations\n",
    "embedding_dim = 50\n",
    "\n",
    "# User input\n",
    "user_input = Input(shape=(1,), name='user_input')\n",
    "user_embedding = Embedding(input_dim=num_users, output_dim=embedding_dim)(user_input)\n",
    "user_embedding = Flatten()(user_embedding)\n",
    "\n",
    "# Book input\n",
    "book_input = Input(shape=(1,), name='book_input')\n",
    "book_embedding = Embedding(input_dim=num_books, output_dim=embedding_dim)(book_input)\n",
    "book_embedding = Flatten()(book_embedding)\n",
    "\n",
    "# Dot product of user and book embeddings\n",
    "dot_product = Dot(axes=1)([user_embedding, book_embedding])\n",
    "\n",
    "# Adding bias terms\n",
    "user_bias = Embedding(input_dim=num_users, output_dim=1)(user_input)\n",
    "user_bias = Flatten()(user_bias)\n",
    "\n",
    "book_bias = Embedding(input_dim=num_books, output_dim=1)(book_input)\n",
    "book_bias = Flatten()(book_bias)\n",
    "\n",
    "# Concatenate embeddings and add neural layer with optimizations\n",
    "concatenated = Concatenate()([user_embedding, book_embedding])\n",
    "neural_layer = Dense(64, activation='relu')(concatenated)\n",
    "neural_layer = Dropout(0.2)(neural_layer)  # Adjust dropout rate\n",
    "neural_layer = BatchNormalization()(neural_layer)\n",
    "\n",
    "# Final prediction\n",
    "prediction = Add()([dot_product, user_bias, book_bias, neural_layer])\n",
    "\n",
    "# Create and compile the model with a lower learning rate\n",
    "model = Model(inputs=[user_input, book_input], outputs=prediction)\n",
    "model.compile(optimizer=Adam(learning_rate=0.0001), loss='mean_squared_error')\n",
    "\n",
    "# Early stopping\n",
    "early_stopping = EarlyStopping(monitor='val_loss', patience=3, restore_best_weights=True)\n",
    "\n",
    "# Train the model\n",
    "history = model.fit([train_data['user'], train_data['item']], train_data['rating'], epochs=5, batch_size=512, validation_data=([test_data['user'], test_data['item']], test_data['rating']), callbacks=[early_stopping])\n"
   ]
  },
  {
   "cell_type": "code",
   "execution_count": 122,
   "metadata": {},
   "outputs": [
    {
     "data": {
      "image/png": "[encoded data removed]",
      "text/plain": [
       "<Figure size 640x480 with 1 Axes>"
      ]
     },
     "metadata": {},
     "output_type": "display_data"
    }
   ],
   "source": [
    "import matplotlib.pyplot as plt\n",
    "\n",
    "# Provided loss values\n",
    "training_loss = [21.7978, 19.0607, 17.1182, 15.3855, 13.9558]\n",
    "validation_loss = [18.7343, 17.4031, 16.4272, 15.7333, 15.1383]\n",
    "\n",
    "# Plot training and validation loss\n",
    "epochs = range(1, len(training_loss) + 1)\n",
    "\n",
    "plt.plot(epochs, training_loss, label='Training Loss')\n",
    "plt.plot(epochs, validation_loss, label='Validation Loss')\n",
    "plt.title('Training and Validation Loss Over Epochs')\n",
    "plt.xlabel('Epochs')\n",
    "plt.ylabel('Loss')\n",
    "plt.legend()\n",
    "plt.show()\n"
   ]
  },
  {
   "cell_type": "code",
   "execution_count": 87,
   "metadata": {},
   "outputs": [
    {
     "name": "stdout",
     "output_type": "stream",
     "text": [
      "5454/5454 [==============================] - 5s 829us/step - loss: 15.1383\n",
      "Test Loss: 15.138330459594727\n",
      "5454/5454 [==============================] - 4s 797us/step\n",
      "Shape of test_data['rating']:  (174503,)\n",
      "Shape of predictions.flatten():  (11168192,)\n"
     ]
    }
   ],
   "source": [
    "# Evaluate the model on the test data\n",
    "test_loss = model.evaluate([test_data['user'], test_data['item']], test_data['rating'])\n",
    "print(f'Test Loss: {test_loss}')\n",
    "\n",
    "# Predictions on the test set\n",
    "predictions = model.predict([test_data['user'], test_data['item']])\n",
    "\n",
    "# Debugging\n",
    "print(\"Shape of test_data['rating']: \", test_data['rating'].shape)\n",
    "print(\"Shape of predictions.flatten(): \", predictions.flatten().shape)\n"
   ]
  },
  {
   "cell_type": "code",
   "execution_count": 88,
   "metadata": {
    "scrolled": true
   },
   "outputs": [
    {
     "name": "stdout",
     "output_type": "stream",
     "text": [
      "Unique users in test_data:  26513\n",
      "Unique items in test_data:  73583\n",
      "Unique values in predictions:  10012747\n",
      "          user    item  rating\n",
      "178554   15560   99291       0\n",
      "533905   49582   59185       8\n",
      "1091374  99796  121427       0\n",
      "130089   12143   78826       0\n",
      "60190     5186    3329       6\n",
      "785993   72379  148175       0\n",
      "66929     5776   17350       6\n",
      "405917   38206   71708       8\n",
      "14903     1641   13237       0\n",
      "449812   41711  189973       6\n",
      "Predictions for the same samples:  [-0.04646851 -0.06039776 -0.05149908 -0.058513   -0.05341746 -0.03152202\n",
      " -0.05339624 -0.06001861 -0.04493208 -0.053104  ]\n"
     ]
    }
   ],
   "source": [
    "# Debugging\n",
    "print(\"Unique users in test_data: \", test_data['user'].nunique())\n",
    "print(\"Unique items in test_data: \", test_data['item'].nunique())\n",
    "print(\"Unique values in predictions: \", len(np.unique(predictions.flatten())))\n",
    "\n",
    "# Print samples from test_data along with corresponding predictions\n",
    "print(test_data[['user', 'item', 'rating']].head(10))\n",
    "print(\"Predictions for the same samples: \", predictions.flatten()[:10])\n"
   ]
  },
  {
   "cell_type": "code",
   "execution_count": 89,
   "metadata": {},
   "outputs": [
    {
     "data": {
      "image/png": "[encoded data removed]",
      "text/plain": [
       "<Figure size 640x480 with 1 Axes>"
      ]
     },
     "metadata": {},
     "output_type": "display_data"
    }
   ],
   "source": [
    "# Plot training loss over epochs\n",
    "plt.plot(history.history['loss'], label='Training Loss')\n",
    "plt.plot(history.history['val_loss'], label='Validation Loss')\n",
    "plt.xlabel('Epoch')\n",
    "plt.ylabel('Loss')\n",
    "plt.legend()\n",
    "plt.show()\n"
   ]
  },
  {
   "cell_type": "code",
   "execution_count": 90,
   "metadata": {},
   "outputs": [
    {
     "name": "stdout",
     "output_type": "stream",
     "text": [
      "Shape of predictions array: (174503, 64)\n"
     ]
    }
   ],
   "source": [
    "print(\"Shape of predictions array:\", predictions.shape)"
   ]
  },
  {
   "cell_type": "code",
   "execution_count": 91,
   "metadata": {},
   "outputs": [
    {
     "name": "stdout",
     "output_type": "stream",
     "text": [
      "RMSE: 4.397055935947479\n"
     ]
    }
   ],
   "source": [
    "# Evaluate the model\n",
    "num_samples = len(predictions)\n",
    "test_samples = test_data.sample(num_samples, random_state=42)\n",
    "test_samples = test_samples.head(num_samples)  # Ensure the same number of samples\n",
    "rmse = np.sqrt(mean_squared_error(test_samples['rating'], predictions[:, 0]))\n",
    "print(f'RMSE: {rmse}')\n"
   ]
  },
  {
   "cell_type": "code",
   "execution_count": 92,
   "metadata": {
    "scrolled": true
   },
   "outputs": [
    {
     "name": "stdout",
     "output_type": "stream",
     "text": [
      "         User-ID        ISBN  Book-Rating  user_encoded  book_encoded\n",
      "686565    167349  0446611239            0         63068        108387\n",
      "62456      12576  0140105832            0          4516         21407\n",
      "1122931   269566  0394540654            7        101831         86132\n",
      "636841    153662  0803754051            5         58113        202013\n",
      "878589    212898  0373093764            0         80185         60802\n",
      "         User-ID        ISBN  Book-Rating  user_encoded  book_encoded\n",
      "178554     38781  0373259131            0         14710         66197\n",
      "533905    128835  0811805905            8         48732        207194\n",
      "1091374   261829  037324486X            0         98946         65482\n",
      "1036247   247747  0531303306            0         93459        128975\n",
      "309523     74076  0316812404            0         28004         47683\n"
     ]
    }
   ],
   "source": [
    "import pandas as pd\n",
    "from sklearn.preprocessing import LabelEncoder\n",
    "from sklearn.model_selection import train_test_split\n",
    "\n",
    "# Load the dataset\n",
    "dataset_path = r\"C:\\Users\\akayr\\Desktop\\archive\"\n",
    "ratings_data = pd.read_csv(dataset_path + \"\\\\Ratings.csv\")\n",
    "\n",
    "# Assuming 'User-ID', 'ISBN', and 'Book-Rating' are the columns in your ratings_data\n",
    "user_encoder = LabelEncoder()\n",
    "book_encoder = LabelEncoder()\n",
    "\n",
    "ratings_data['user_encoded'] = user_encoder.fit_transform(ratings_data['User-ID'])\n",
    "ratings_data['book_encoded'] = book_encoder.fit_transform(ratings_data['ISBN'])\n",
    "\n",
    "# Split the data into training and testing sets\n",
    "train_data, test_data = train_test_split(ratings_data, test_size=0.2, random_state=42)\n",
    "\n",
    "# Display the first few rows of the encoded dataset\n",
    "print(train_data.head())\n",
    "print(test_data.head())\n"
   ]
  },
  {
   "cell_type": "markdown",
   "metadata": {},
   "source": [
    "# CNN MODEL"
   ]
  },
  {
   "cell_type": "code",
   "execution_count": 93,
   "metadata": {
    "scrolled": false
   },
   "outputs": [
    {
     "name": "stdout",
     "output_type": "stream",
     "text": [
      "Epoch 1/5\n",
      "1438/1438 [==============================] - 207s 143ms/step - loss: 11.9628 - val_loss: 11.8130\n",
      "Epoch 2/5\n",
      "1438/1438 [==============================] - 205s 143ms/step - loss: 9.7543 - val_loss: 13.1649\n",
      "Epoch 3/5\n",
      "1438/1438 [==============================] - 206s 143ms/step - loss: 7.7324 - val_loss: 12.9943\n",
      "Epoch 4/5\n",
      "1438/1438 [==============================] - 206s 143ms/step - loss: 6.5011 - val_loss: 13.2352\n",
      "Epoch 5/5\n",
      "1438/1438 [==============================] - 206s 143ms/step - loss: 5.8173 - val_loss: 13.3467\n",
      "7187/7187 [==============================] - 10s 1ms/step\n",
      "RMSE: 3.653318586108951\n"
     ]
    }
   ],
   "source": [
    "import numpy as np\n",
    "import pandas as pd\n",
    "from sklearn.model_selection import train_test_split\n",
    "from keras.models import Model\n",
    "from keras.layers import Embedding, Conv1D, Flatten, Dense, Dropout, Input, Concatenate, Reshape\n",
    "from keras.optimizers import Adam\n",
    "from sklearn.metrics import mean_squared_error\n",
    "\n",
    "# Load data\n",
    "dataset_path = r\"C:\\Users\\akayr\\Desktop\\archive\"\n",
    "\n",
    "book_data = pd.read_csv(dataset_path + \"\\\\Books.csv\")\n",
    "rating_data = pd.read_csv(dataset_path + \"\\\\Ratings.csv\")  # Updated file name\n",
    "users_data = pd.read_csv(dataset_path + \"\\\\Users.csv\")    \n",
    "\n",
    "# Assuming 'user_id', 'book_id', and 'rating' are the columns in your rating_data\n",
    "# Assuming the actual column names are 'User-ID', 'ISBN', and 'Book-Rating'\n",
    "ratings = rating_data.rename(columns={'User-ID': 'user', 'ISBN': 'item', 'Book-Rating': 'rating'})\n",
    "\n",
    "# Create user and item indices\n",
    "user_ids = ratings['user'].unique()\n",
    "book_ids = ratings['item'].unique()\n",
    "\n",
    "user_id_map = {id: idx for idx, id in enumerate(user_ids)}\n",
    "book_id_map = {id: idx for idx, id in enumerate(book_ids)}\n",
    "\n",
    "num_users = len(user_ids)\n",
    "num_books = len(book_ids)\n",
    "\n",
    "# Map user and book IDs to indices\n",
    "ratings['user'] = ratings['user'].map(user_id_map)\n",
    "ratings['item'] = ratings['item'].map(book_id_map)\n",
    "\n",
    "# Train-test split\n",
    "train_data, test_data = train_test_split(ratings, test_size=0.2, random_state=42)\n",
    "\n",
    "# Keras model for collaborative filtering with CNN\n",
    "embedding_dim = 50\n",
    "\n",
    "# User input\n",
    "user_input = Input(shape=(1,))\n",
    "user_embedding = Embedding(input_dim=num_users, output_dim=embedding_dim, input_length=1)(user_input)\n",
    "\n",
    "# Item input\n",
    "item_input = Input(shape=(1,))\n",
    "item_embedding = Embedding(input_dim=num_books, output_dim=embedding_dim, input_length=1)(item_input)\n",
    "\n",
    "# Concatenate embeddings\n",
    "merged = Concatenate()([user_embedding, item_embedding])\n",
    "\n",
    "# Flatten layer\n",
    "flat_layer = Flatten()(merged)\n",
    "\n",
    "# Reshape for Conv1D layer\n",
    "reshaped = Reshape((2 * embedding_dim, 1))(flat_layer)\n",
    "\n",
    "# 1D convolutional layer\n",
    "conv_layer = Conv1D(64, 3, activation='relu')(reshaped)\n",
    "\n",
    "# Flatten layer\n",
    "flat_layer = Flatten()(conv_layer)\n",
    "\n",
    "# Dense layers with dropout\n",
    "dense_layer = Dense(128, activation='relu')(flat_layer)\n",
    "dropout_layer = Dropout(0.5)(dense_layer)  # Example dropout layer\n",
    "dense_layer = Dense(64, activation='relu')(dropout_layer)\n",
    "\n",
    "# Output layer\n",
    "output_layer = Dense(1, activation='linear')(dense_layer)\n",
    "\n",
    "# Create and compile the model\n",
    "model = Model(inputs=[user_input, item_input], outputs=output_layer)\n",
    "model.compile(optimizer=Adam(learning_rate=0.001), loss='mean_squared_error')\n",
    "\n",
    "# Train the model\n",
    "model.fit([train_data['user'], train_data['item']], train_data['rating'], epochs=5, batch_size=640, validation_data=([test_data['user'], test_data['item']], test_data['rating']))\n",
    "\n",
    "# Evaluate the model\n",
    "predictions = model.predict([test_data['user'], test_data['item']])\n",
    "rmse = np.sqrt(mean_squared_error(test_data['rating'], predictions.flatten()))\n",
    "print(f'RMSE: {rmse}')\n"
   ]
  },
  {
   "cell_type": "code",
   "execution_count": 96,
   "metadata": {},
   "outputs": [
    {
     "data": {
      "image/png": "[encoded data removed]",
      "text/plain": [
       "<Figure size 640x480 with 1 Axes>"
      ]
     },
     "metadata": {},
     "output_type": "display_data"
    }
   ],
   "source": [
    "import matplotlib.pyplot as plt\n",
    "\n",
    "# Assuming 'history' contains the training history with loss values\n",
    "epochs = range(1, len(history.history['loss']) + 1)\n",
    "\n",
    "# Plot training and validation loss\n",
    "plt.plot(epochs, history.history['loss'], 'bo-', label='Training Loss')\n",
    "plt.plot(epochs, history.history['val_loss'], 'ro-', label='Validation Loss')\n",
    "plt.title('Training and Validation Loss Over Epochs')\n",
    "plt.xlabel('Epochs')\n",
    "plt.ylabel('Loss')\n",
    "plt.legend()\n",
    "plt.show()\n"
   ]
  },
  {
   "cell_type": "code",
   "execution_count": 97,
   "metadata": {
    "scrolled": true
   },
   "outputs": [
    {
     "name": "stdout",
     "output_type": "stream",
     "text": [
      "WARNING:tensorflow:From C:\\Users\\akayr\\anaconda3\\Lib\\site-packages\\keras\\src\\optimizers\\__init__.py:309: The name tf.train.Optimizer is deprecated. Please use tf.compat.v1.train.Optimizer instead.\n",
      "\n",
      "Model: \"sequential\"\n",
      "_________________________________________________________________\n",
      " Layer (type)                Output Shape              Param #   \n",
      "=================================================================\n",
      " embedding_6 (Embedding)     (None, 1, 50)             500000    \n",
      "                                                                 \n",
      " lstm (LSTM)                 (None, 64)                29440     \n",
      "                                                                 \n",
      " dense_4 (Dense)             (None, 1)                 65        \n",
      "                                                                 \n",
      "=================================================================\n",
      "Total params: 529505 (2.02 MB)\n",
      "Trainable params: 529505 (2.02 MB)\n",
      "Non-trainable params: 0 (0.00 Byte)\n",
      "_________________________________________________________________\n"
     ]
    }
   ],
   "source": [
    "from keras.models import Sequential\n",
    "from keras.layers import Embedding, LSTM, Dense\n",
    "\n",
    "# Assuming you have user and item indices as num_users and num_books\n",
    "num_users = 10000\n",
    "num_books = 50000\n",
    "embedding_dim = 50\n",
    "\n",
    "# Define the model\n",
    "model = Sequential()\n",
    "model.add(Embedding(input_dim=num_users, output_dim=embedding_dim, input_length=1))\n",
    "model.add(LSTM(64, dropout=0.2, recurrent_dropout=0.2))  # Adjust the number of units and dropout if needed\n",
    "model.add(Dense(1, activation='linear'))  # Use 'linear' activation for regression\n",
    "\n",
    "# Compile the model with metrics appropriate for your task\n",
    "model.compile(optimizer='adam', loss='mean_squared_error', metrics=['mae'])\n",
    "\n",
    "# Display the model summary\n",
    "model.summary()\n"
   ]
  },
  {
   "cell_type": "code",
   "execution_count": 98,
   "metadata": {
    "scrolled": true
   },
   "outputs": [],
   "source": [
    "import pandas as pd\n",
    "from sklearn.preprocessing import LabelEncoder\n",
    "from sklearn.model_selection import train_test_split\n",
    "\n",
    "# Load your raw dataset\n",
    "# Replace 'your_raw_dataset.csv' with the actual path to your raw CSV file\n",
    "raw_df = pd.read_csv(dataset_path + \"\\\\Ratings.csv\")\n",
    "\n",
    "# Encode users and books\n",
    "user_encoder = LabelEncoder()\n",
    "book_encoder = LabelEncoder()\n",
    "\n",
    "raw_df['user_encoded'] = user_encoder.fit_transform(raw_df['User-ID'])\n",
    "raw_df['book_encoded'] = book_encoder.fit_transform(raw_df['ISBN'])\n",
    "\n",
    "# Create a DataFrame with 'user_encoded,' 'book_encoded,' and 'Book-Rating'\n",
    "df = raw_df[['user_encoded', 'book_encoded', 'Book-Rating']]\n",
    "\n",
    "# Split the data into training and testing sets\n",
    "train_data, test_data = train_test_split(df, test_size=0.2, random_state=42)\n",
    "\n",
    "# Separate features and target variable\n",
    "X_train = [train_data['user_encoded'], train_data['book_encoded']]\n",
    "y_train = train_data['Book-Rating']\n",
    "\n",
    "X_test = [test_data['user_encoded'], test_data['book_encoded']]\n",
    "y_test = test_data['Book-Rating']\n"
   ]
  },
  {
   "cell_type": "code",
   "execution_count": 99,
   "metadata": {
    "scrolled": true
   },
   "outputs": [
    {
     "name": "stdout",
     "output_type": "stream",
     "text": [
      "WARNING:tensorflow:From C:\\Users\\akayr\\anaconda3\\Lib\\site-packages\\keras\\src\\backend.py:6642: The name tf.nn.max_pool is deprecated. Please use tf.nn.max_pool2d instead.\n",
      "\n"
     ]
    }
   ],
   "source": [
    "from keras.models import Sequential\n",
    "from keras.layers import Embedding, Conv1D, MaxPooling1D, Flatten, Dense\n",
    "\n",
    "# Model architecture\n",
    "embedding_dim = 50  # you can adjust this value based on your dataset and experiment\n",
    "num_users = len(user_encoder.classes_)\n",
    "num_books = len(book_encoder.classes_)\n",
    "input_length = 50  # Adjust this based on your dataset\n",
    "\n",
    "model_cnn = Sequential()\n",
    "model_cnn.add(Embedding(input_dim=num_users, output_dim=embedding_dim, input_length=input_length))\n",
    "model_cnn.add(Conv1D(32, 3, activation='relu'))\n",
    "model_cnn.add(MaxPooling1D(pool_size=2))  # Add MaxPooling layer\n",
    "model_cnn.add(Flatten())\n",
    "model_cnn.add(Dense(128, activation='relu'))\n",
    "model_cnn.add(Dense(1, activation='linear'))\n",
    "\n",
    "# Compile the model\n",
    "model_cnn.compile(loss='mean_squared_error', optimizer='adam', metrics=['mean_squared_error'])\n"
   ]
  },
  {
   "cell_type": "code",
   "execution_count": 100,
   "metadata": {
    "scrolled": true
   },
   "outputs": [],
   "source": [
    "from keras.models import Model\n",
    "from keras.layers import Input, Embedding, LSTM, concatenate, Dense, Flatten, Dropout, Conv1D, BatchNormalization\n",
    "from keras.optimizers import Adam\n",
    "\n",
    "# Define the RNN model\n",
    "embedding_dim_rnn = 50\n",
    "input_length_rnn = 1\n",
    "\n",
    "input_user_rnn = Input(shape=(1,))\n",
    "input_book_rnn = Input(shape=(1,))\n",
    "embedding_user_rnn = Embedding(input_dim=num_users, output_dim=embedding_dim_rnn, input_length=input_length_rnn)(input_user_rnn)\n",
    "embedding_book_rnn = Embedding(input_dim=num_books, output_dim=embedding_dim_rnn, input_length=input_length_rnn)(input_book_rnn)\n",
    "lstm_user = LSTM(50, dropout=0.2, recurrent_dropout=0.2)(embedding_user_rnn)\n",
    "lstm_book = LSTM(50, dropout=0.2, recurrent_dropout=0.2)(embedding_book_rnn)\n",
    "\n",
    "# Concatenate the outputs of the LSTM layers\n",
    "merged_rnn_output = concatenate([lstm_user, lstm_book])\n",
    "# Adding Batch Normalization\n",
    "merged_rnn_output = BatchNormalization()(merged_rnn_output)\n",
    "\n",
    "# Add more layers as needed\n",
    "dense_layer_rnn = Dense(128, activation='relu')(merged_rnn_output)\n",
    "# Adding Dropout for regularization\n",
    "dense_layer_rnn = Dropout(0.5)(dense_layer_rnn)\n",
    "final_output_rnn = Dense(1, activation='linear')(dense_layer_rnn)\n",
    "\n",
    "# Create the RNN model\n",
    "model_rnn = Model(inputs=[input_user_rnn, input_book_rnn], outputs=final_output_rnn)\n",
    "\n",
    "# Compile the RNN model\n",
    "model_rnn.compile(loss='mean_squared_error', optimizer=Adam(), metrics=['mean_squared_error'])\n",
    "\n",
    "# Define the CNN model\n",
    "embedding_dim_cnn = 50\n",
    "input_length_cnn = 50  # Increase the input_length_cnn\n",
    "\n",
    "input_user_cnn = Input(shape=(input_length_cnn,))\n",
    "input_book_cnn = Input(shape=(input_length_cnn,))\n",
    "embedding_user_cnn = Embedding(input_dim=num_users, output_dim=embedding_dim_cnn, input_length=input_length_cnn)(input_user_cnn)\n",
    "embedding_book_cnn = Embedding(input_dim=num_books, output_dim=embedding_dim_cnn, input_length=input_length_cnn)(input_book_cnn)\n",
    "conv_user = Conv1D(32, 3, activation='relu')(embedding_user_cnn)\n",
    "conv_book = Conv1D(32, 3, activation='relu')(embedding_book_cnn)\n",
    "\n",
    "\n",
    "# Flatten the outputs of the Conv1D layers\n",
    "flat_user = Flatten()(conv_user)\n",
    "flat_book = Flatten()(conv_book)\n",
    "\n",
    "# Concatenate the flattened outputs of the CNN layers\n",
    "merged_cnn_output = concatenate([flat_user, flat_book])\n",
    "# Adding Batch Normalization\n",
    "merged_cnn_output = BatchNormalization()(merged_cnn_output)\n",
    "\n",
    "# Add more layers as needed\n",
    "dense_layer_cnn = Dense(128, activation='relu')(merged_cnn_output)\n",
    "# Adding Dropout for regularization\n",
    "dense_layer_cnn = Dropout(0.5)(dense_layer_cnn)\n",
    "final_output_cnn = Dense(1, activation='linear')(dense_layer_cnn)\n",
    "\n",
    "# Create the CNN model\n",
    "model_cnn = Model(inputs=[input_user_cnn, input_book_cnn], outputs=final_output_cnn)\n",
    "\n",
    "# Compile the CNN model\n",
    "model_cnn.compile(loss='mean_squared_error', optimizer=Adam(), metrics=['mean_squared_error'])\n",
    "\n",
    "# Create the hybrid model by combining the RNN and CNN models\n",
    "input_user_hybrid = Input(shape=(input_length_cnn,))\n",
    "input_book_hybrid = Input(shape=(input_length_cnn,))\n",
    "output_rnn = model_rnn([input_user_hybrid, input_book_hybrid])\n",
    "output_cnn = model_cnn([input_user_hybrid, input_book_hybrid])\n",
    "\n",
    "# Flatten the outputs before concatenating\n",
    "output_rnn_flat = Flatten()(output_rnn)\n",
    "output_cnn_flat = Flatten()(output_cnn)\n",
    "\n",
    "# Concatenate the flattened outputs of the RNN and CNN models\n",
    "merged_output = concatenate([output_rnn_flat, output_cnn_flat])\n",
    "# Adding Batch Normalization\n",
    "merged_output = BatchNormalization()(merged_output)\n",
    "\n",
    "# Add additional layers as needed\n",
    "dense_layer_hybrid = Dense(128, activation='relu')(merged_output)\n",
    "# Adding Dropout for regularization\n",
    "dense_layer_hybrid = Dropout(0.5)(dense_layer_hybrid)\n",
    "final_output_hybrid = Dense(1, activation='linear')(dense_layer_hybrid)\n",
    "\n",
    "# Create the hybrid model\n",
    "model_hybrid = Model(inputs=[input_user_hybrid, input_book_hybrid], outputs=final_output_hybrid)\n",
    "\n",
    "# Compile the hybrid model\n",
    "model_hybrid.compile(loss='mean_squared_error', optimizer=Adam(), metrics=['mean_squared_error'])\n"
   ]
  },
  {
   "cell_type": "code",
   "execution_count": 101,
   "metadata": {
    "scrolled": false
   },
   "outputs": [
    {
     "data": {
      "text/html": [
       "<div>\n",
       "<style scoped>\n",
       "    .dataframe tbody tr th:only-of-type {\n",
       "        vertical-align: middle;\n",
       "    }\n",
       "\n",
       "    .dataframe tbody tr th {\n",
       "        vertical-align: top;\n",
       "    }\n",
       "\n",
       "    .dataframe thead th {\n",
       "        text-align: right;\n",
       "    }\n",
       "</style>\n",
       "<table border=\"1\" class=\"dataframe\">\n",
       "  <thead>\n",
       "    <tr style=\"text-align: right;\">\n",
       "      <th></th>\n",
       "      <th>User-ID</th>\n",
       "      <th>ISBN</th>\n",
       "      <th>Book-Rating</th>\n",
       "      <th>user_encoded</th>\n",
       "      <th>book_encoded</th>\n",
       "    </tr>\n",
       "  </thead>\n",
       "  <tbody>\n",
       "    <tr>\n",
       "      <th>0</th>\n",
       "      <td>276725</td>\n",
       "      <td>034545104X</td>\n",
       "      <td>0</td>\n",
       "      <td>104433</td>\n",
       "      <td>57188</td>\n",
       "    </tr>\n",
       "    <tr>\n",
       "      <th>1</th>\n",
       "      <td>276726</td>\n",
       "      <td>0155061224</td>\n",
       "      <td>5</td>\n",
       "      <td>104434</td>\n",
       "      <td>29750</td>\n",
       "    </tr>\n",
       "    <tr>\n",
       "      <th>2</th>\n",
       "      <td>276727</td>\n",
       "      <td>0446520802</td>\n",
       "      <td>0</td>\n",
       "      <td>104435</td>\n",
       "      <td>107392</td>\n",
       "    </tr>\n",
       "    <tr>\n",
       "      <th>3</th>\n",
       "      <td>276729</td>\n",
       "      <td>052165615X</td>\n",
       "      <td>3</td>\n",
       "      <td>104436</td>\n",
       "      <td>127253</td>\n",
       "    </tr>\n",
       "    <tr>\n",
       "      <th>4</th>\n",
       "      <td>276729</td>\n",
       "      <td>0521795028</td>\n",
       "      <td>6</td>\n",
       "      <td>104436</td>\n",
       "      <td>127287</td>\n",
       "    </tr>\n",
       "    <tr>\n",
       "      <th>...</th>\n",
       "      <td>...</td>\n",
       "      <td>...</td>\n",
       "      <td>...</td>\n",
       "      <td>...</td>\n",
       "      <td>...</td>\n",
       "    </tr>\n",
       "    <tr>\n",
       "      <th>1149775</th>\n",
       "      <td>276704</td>\n",
       "      <td>1563526298</td>\n",
       "      <td>9</td>\n",
       "      <td>104428</td>\n",
       "      <td>256876</td>\n",
       "    </tr>\n",
       "    <tr>\n",
       "      <th>1149776</th>\n",
       "      <td>276706</td>\n",
       "      <td>0679447156</td>\n",
       "      <td>0</td>\n",
       "      <td>104429</td>\n",
       "      <td>164861</td>\n",
       "    </tr>\n",
       "    <tr>\n",
       "      <th>1149777</th>\n",
       "      <td>276709</td>\n",
       "      <td>0515107662</td>\n",
       "      <td>10</td>\n",
       "      <td>104430</td>\n",
       "      <td>123711</td>\n",
       "    </tr>\n",
       "    <tr>\n",
       "      <th>1149778</th>\n",
       "      <td>276721</td>\n",
       "      <td>0590442449</td>\n",
       "      <td>10</td>\n",
       "      <td>104431</td>\n",
       "      <td>145625</td>\n",
       "    </tr>\n",
       "    <tr>\n",
       "      <th>1149779</th>\n",
       "      <td>276723</td>\n",
       "      <td>05162443314</td>\n",
       "      <td>8</td>\n",
       "      <td>104432</td>\n",
       "      <td>124712</td>\n",
       "    </tr>\n",
       "  </tbody>\n",
       "</table>\n",
       "<p>1149780 rows × 5 columns</p>\n",
       "</div>"
      ],
      "text/plain": [
       "         User-ID         ISBN  Book-Rating  user_encoded  book_encoded\n",
       "0         276725   034545104X            0        104433         57188\n",
       "1         276726   0155061224            5        104434         29750\n",
       "2         276727   0446520802            0        104435        107392\n",
       "3         276729   052165615X            3        104436        127253\n",
       "4         276729   0521795028            6        104436        127287\n",
       "...          ...          ...          ...           ...           ...\n",
       "1149775   276704   1563526298            9        104428        256876\n",
       "1149776   276706   0679447156            0        104429        164861\n",
       "1149777   276709   0515107662           10        104430        123711\n",
       "1149778   276721   0590442449           10        104431        145625\n",
       "1149779   276723  05162443314            8        104432        124712\n",
       "\n",
       "[1149780 rows x 5 columns]"
      ]
     },
     "execution_count": 101,
     "metadata": {},
     "output_type": "execute_result"
    }
   ],
   "source": [
    "raw_df"
   ]
  },
  {
   "cell_type": "code",
   "execution_count": 102,
   "metadata": {
    "scrolled": true
   },
   "outputs": [
    {
     "name": "stdout",
     "output_type": "stream",
     "text": [
      "X_train structure: <class 'list'> 2 <class 'pandas.core.series.Series'> (919824,)\n",
      "X_test structure: <class 'list'> 2 <class 'pandas.core.series.Series'> (229956,)\n"
     ]
    }
   ],
   "source": [
    "print(\"X_train structure:\", type(X_train), len(X_train), type(X_train[0]), X_train[0].shape if len(X_train) > 0 else None)\n",
    "print(\"X_test structure:\", type(X_test), len(X_test), type(X_test[0]), X_test[0].shape if len(X_test) > 0 else None)"
   ]
  },
  {
   "cell_type": "markdown",
   "metadata": {},
   "source": [
    "BUILDING HYBRID MODEL"
   ]
  },
  {
   "cell_type": "code",
   "execution_count": 111,
   "metadata": {
    "scrolled": true
   },
   "outputs": [
    {
     "name": "stdout",
     "output_type": "stream",
     "text": [
      "Number of unique books: 340556\n",
      "Number of unique books in test data: 118254\n",
      "Min book index in test data: 6\n",
      "Max book index in test data: 340553\n",
      "Epoch 1/5\n",
      "3594/3594 [==============================] - 1447s 402ms/step - loss: 11.7365 - mean_squared_error: 11.7365 - val_loss: 11.2608 - val_mean_squared_error: 11.2608\n",
      "Epoch 2/5\n",
      "3594/3594 [==============================] - 1424s 396ms/step - loss: 8.9874 - mean_squared_error: 8.9874 - val_loss: 12.2776 - val_mean_squared_error: 12.2776\n",
      "Epoch 3/5\n",
      "3594/3594 [==============================] - 1388s 386ms/step - loss: 7.6522 - mean_squared_error: 7.6522 - val_loss: 13.5528 - val_mean_squared_error: 13.5528\n",
      "Epoch 4/5\n",
      "3594/3594 [==============================] - 1411s 393ms/step - loss: 7.0712 - mean_squared_error: 7.0712 - val_loss: 13.9047 - val_mean_squared_error: 13.9047\n"
     ]
    }
   ],
   "source": [
    "from tensorflow.keras.layers import GlobalMaxPooling1D, Reshape\n",
    "from tensorflow.keras.models import Model, Sequential\n",
    "from tensorflow.keras.layers import Input, Embedding, LSTM, concatenate, Dense, Conv1D, MaxPooling1D, Flatten\n",
    "from tensorflow.keras.optimizers import Adam\n",
    "from tensorflow.keras.callbacks import EarlyStopping\n",
    "from sklearn.preprocessing import LabelEncoder\n",
    "from sklearn.model_selection import train_test_split\n",
    "import pandas as pd\n",
    "\n",
    "# Load your raw dataset\n",
    "dataset_path = \"C:\\\\Users\\\\akayr\\\\Desktop\\\\archive\"\n",
    "raw_df = pd.read_csv(dataset_path + \"\\\\Ratings.csv\")\n",
    "\n",
    "# Encode users and books\n",
    "user_encoder = LabelEncoder()\n",
    "book_encoder = LabelEncoder()\n",
    "\n",
    "raw_df['user_encoded'] = user_encoder.fit_transform(raw_df['User-ID'])\n",
    "raw_df['book_encoded'] = book_encoder.fit_transform(raw_df['ISBN'])\n",
    "\n",
    "# Create a DataFrame with 'user_encoded,' 'book_encoded,' and 'Book-Rating'\n",
    "df = raw_df[['user_encoded', 'book_encoded', 'Book-Rating']]\n",
    "\n",
    "# Split the data into training and testing sets\n",
    "train_data, test_data = train_test_split(df, test_size=0.2, random_state=42)\n",
    "\n",
    "# Model architecture\n",
    "embedding_dim = 50\n",
    "input_length = 50\n",
    "\n",
    "# Ensure that the number of unique users and books in the training data is within the expected range\n",
    "num_users = 1048576  # Replace with the actual number of unique users\n",
    "num_books = len(book_encoder.classes_)  # Use the actual number of unique books from your dataset\n",
    "\n",
    "print(f\"Number of unique books: {num_books}\")\n",
    "\n",
    "# Update the upper limit for the number of unique books if needed\n",
    "assert num_users <= 1048576, \"Number of unique users in training data exceeds the expected range\"\n",
    "assert num_books <= 340556, \"Number of unique books in training data exceeds the expected range\"  # Update the upper limit if needed\n",
    "unique_test_books = test_data['book_encoded'].unique()\n",
    "print(f\"Number of unique books in test data: {len(unique_test_books)}\")\n",
    "print(f\"Min book index in test data: {min(unique_test_books)}\")\n",
    "print(f\"Max book index in test data: {max(unique_test_books)}\")\n",
    "\n",
    "# CNN model for user\n",
    "model_cnn_user = Sequential()\n",
    "model_cnn_user.add(Embedding(input_dim=num_users, output_dim=embedding_dim, input_length=input_length + 2))\n",
    "model_cnn_user.add(Conv1D(32, 3, activation='relu', padding='same'))\n",
    "model_cnn_user.add(MaxPooling1D(pool_size=2, padding='same'))\n",
    "model_cnn_user.add(Conv1D(64, 3, activation='relu', padding='same'))\n",
    "model_cnn_user.add(MaxPooling1D(pool_size=2, padding='same'))\n",
    "model_cnn_user.add(Flatten())\n",
    "\n",
    "# CNN model for book\n",
    "model_cnn_book = Sequential()\n",
    "model_cnn_book.add(Embedding(input_dim=num_books, output_dim=embedding_dim, input_length=input_length + 2))\n",
    "model_cnn_book.add(Conv1D(32, 3, activation='relu', padding='same'))\n",
    "model_cnn_book.add(MaxPooling1D(pool_size=2, padding='same'))\n",
    "model_cnn_book.add(Conv1D(64, 3, activation='relu', padding='same'))\n",
    "model_cnn_book.add(MaxPooling1D(pool_size=2, padding='same'))\n",
    "model_cnn_book.add(Flatten())\n",
    "\n",
    "# Combine the CNN models for users and books into a single hybrid model\n",
    "maxpool_user = GlobalMaxPooling1D()(model_cnn_user.layers[-2].output)  # Use the output before Flatten\n",
    "maxpool_book = GlobalMaxPooling1D()(model_cnn_book.layers[-2].output)  # Use the output before Flatten\n",
    "\n",
    "# Concatenate the pooled features\n",
    "concatenated = concatenate([maxpool_user, maxpool_book])\n",
    "\n",
    "# Additional Dense layer to combine features\n",
    "dense_combined = Dense(64, activation='relu')(concatenated)\n",
    "\n",
    "# Output layer with appropriate activation and unit based on your task\n",
    "output_layer = Dense(1, activation='linear')(dense_combined)\n",
    "\n",
    "# Create the hybrid model\n",
    "model_hybrid = Model(inputs=[model_cnn_user.input, model_cnn_book.input], outputs=output_layer)\n",
    "\n",
    "# Compile the model with an appropriate optimizer and loss function\n",
    "model_hybrid.compile(optimizer=Adam(learning_rate=0.001), loss='mean_squared_error', metrics=['mean_squared_error'])\n",
    "\n",
    "# Train the model with early stopping\n",
    "early_stopping = EarlyStopping(monitor='val_loss', patience=3, restore_best_weights=True)\n",
    "\n",
    "try:\n",
    "    history = model_hybrid.fit(\n",
    "        [train_data['user_encoded'], train_data['book_encoded']],\n",
    "        train_data['Book-Rating'],\n",
    "        epochs=5,\n",
    "        batch_size=256,\n",
    "        validation_data=([test_data['user_encoded'], test_data['book_encoded']], test_data['Book-Rating']),\n",
    "        callbacks=[early_stopping]\n",
    "    )\n",
    "except Exception as e:\n",
    "    print(f\"Error during training: {e}\")\n"
   ]
  },
  {
   "cell_type": "code",
   "execution_count": 105,
   "metadata": {},
   "outputs": [
    {
     "name": "stdout",
     "output_type": "stream",
     "text": [
      "7187/7187 [==============================] - 9s 1ms/step - loss: 13.7825 - mean_squared_error: 13.7825\n",
      "Test MSE: 13.782506942749023\n"
     ]
    }
   ],
   "source": [
    "# Evaluate the model on the test set\n",
    "try:\n",
    "    evaluation_result = model_hybrid.evaluate([test_data['user_encoded'], test_data['book_encoded']], test_data['Book-Rating'])\n",
    "    print(f'Test MSE: {evaluation_result[1]}')\n",
    "except Exception as e:\n",
    "    print(f\"Error during evaluation: {e}\")\n",
    "\n",
    "# Save the trained model to a file\n",
    "model_hybrid.save('hybrid_model_trained.h5')"
   ]
  },
  {
   "cell_type": "code",
   "execution_count": 106,
   "metadata": {
    "scrolled": true
   },
   "outputs": [
    {
     "name": "stdout",
     "output_type": "stream",
     "text": [
      "Model: \"model_3\"\n",
      "__________________________________________________________________________________________________\n",
      " Layer (type)                Output Shape                 Param #   Connected to                  \n",
      "==================================================================================================\n",
      " input_5 (InputLayer)        [(None, 50)]                 0         []                            \n",
      "                                                                                                  \n",
      " input_6 (InputLayer)        [(None, 50)]                 0         []                            \n",
      "                                                                                                  \n",
      " embedding_10 (Embedding)    (None, 50, 50)               5264150   ['input_5[0][0]']             \n",
      "                                                                                                  \n",
      " embedding_11 (Embedding)    (None, 50, 50)               1702780   ['input_6[0][0]']             \n",
      "                                                          0                                       \n",
      "                                                                                                  \n",
      " conv1d_2 (Conv1D)           (None, 48, 32)               4832      ['embedding_10[0][0]']        \n",
      "                                                                                                  \n",
      " conv1d_3 (Conv1D)           (None, 48, 32)               4832      ['embedding_11[0][0]']        \n",
      "                                                                                                  \n",
      " flatten_7 (Flatten)         (None, 1536)                 0         ['conv1d_2[0][0]']            \n",
      "                                                                                                  \n",
      " flatten_8 (Flatten)         (None, 1536)                 0         ['conv1d_3[0][0]']            \n",
      "                                                                                                  \n",
      " concatenate_3 (Concatenate  (None, 3072)                 0         ['flatten_7[0][0]',           \n",
      " )                                                                   'flatten_8[0][0]']           \n",
      "                                                                                                  \n",
      " batch_normalization_2 (Bat  (None, 3072)                 12288     ['concatenate_3[0][0]']       \n",
      " chNormalization)                                                                                 \n",
      "                                                                                                  \n",
      " dense_9 (Dense)             (None, 128)                  393344    ['batch_normalization_2[0][0]'\n",
      "                                                                    ]                             \n",
      "                                                                                                  \n",
      " dropout_3 (Dropout)         (None, 128)                  0         ['dense_9[0][0]']             \n",
      "                                                                                                  \n",
      " dense_10 (Dense)            (None, 1)                    129       ['dropout_3[0][0]']           \n",
      "                                                                                                  \n",
      "==================================================================================================\n",
      "Total params: 22707375 (86.62 MB)\n",
      "Trainable params: 22701231 (86.60 MB)\n",
      "Non-trainable params: 6144 (24.00 KB)\n",
      "__________________________________________________________________________________________________\n",
      "Model: \"model_2\"\n",
      "__________________________________________________________________________________________________\n",
      " Layer (type)                Output Shape                 Param #   Connected to                  \n",
      "==================================================================================================\n",
      " input_3 (InputLayer)        [(None, 1)]                  0         []                            \n",
      "                                                                                                  \n",
      " input_4 (InputLayer)        [(None, 1)]                  0         []                            \n",
      "                                                                                                  \n",
      " embedding_8 (Embedding)     (None, 1, 50)                5264150   ['input_3[0][0]']             \n",
      "                                                                                                  \n",
      " embedding_9 (Embedding)     (None, 1, 50)                1702780   ['input_4[0][0]']             \n",
      "                                                          0                                       \n",
      "                                                                                                  \n",
      " lstm_1 (LSTM)               (None, 50)                   20200     ['embedding_8[0][0]']         \n",
      "                                                                                                  \n",
      " lstm_2 (LSTM)               (None, 50)                   20200     ['embedding_9[0][0]']         \n",
      "                                                                                                  \n",
      " concatenate_2 (Concatenate  (None, 100)                  0         ['lstm_1[0][0]',              \n",
      " )                                                                   'lstm_2[0][0]']              \n",
      "                                                                                                  \n",
      " batch_normalization_1 (Bat  (None, 100)                  400       ['concatenate_2[0][0]']       \n",
      " chNormalization)                                                                                 \n",
      "                                                                                                  \n",
      " dense_7 (Dense)             (None, 128)                  12928     ['batch_normalization_1[0][0]'\n",
      "                                                                    ]                             \n",
      "                                                                                                  \n",
      " dropout_2 (Dropout)         (None, 128)                  0         ['dense_7[0][0]']             \n",
      "                                                                                                  \n",
      " dense_8 (Dense)             (None, 1)                    129       ['dropout_2[0][0]']           \n",
      "                                                                                                  \n",
      "==================================================================================================\n",
      "Total params: 22345807 (85.24 MB)\n",
      "Trainable params: 22345607 (85.24 MB)\n",
      "Non-trainable params: 200 (800.00 Byte)\n",
      "__________________________________________________________________________________________________\n",
      "Model: \"model_6\"\n",
      "__________________________________________________________________________________________________\n",
      " Layer (type)                Output Shape                 Param #   Connected to                  \n",
      "==================================================================================================\n",
      " embedding_14_input (InputL  [(None, 52)]                 0         []                            \n",
      " ayer)                                                                                            \n",
      "                                                                                                  \n",
      " embedding_15_input (InputL  [(None, 52)]                 0         []                            \n",
      " ayer)                                                                                            \n",
      "                                                                                                  \n",
      " embedding_14 (Embedding)    (None, 52, 50)               5242880   ['embedding_14_input[0][0]']  \n",
      "                                                          0                                       \n",
      "                                                                                                  \n",
      " embedding_15 (Embedding)    (None, 52, 50)               1702780   ['embedding_15_input[0][0]']  \n",
      "                                                          0                                       \n"
     ]
    },
    {
     "name": "stdout",
     "output_type": "stream",
     "text": [
      "                                                                                                  \n",
      " conv1d_8 (Conv1D)           (None, 52, 32)               4832      ['embedding_14[0][0]']        \n",
      "                                                                                                  \n",
      " conv1d_10 (Conv1D)          (None, 52, 32)               4832      ['embedding_15[0][0]']        \n",
      "                                                                                                  \n",
      " max_pooling1d_5 (MaxPoolin  (None, 26, 32)               0         ['conv1d_8[0][0]']            \n",
      " g1D)                                                                                             \n",
      "                                                                                                  \n",
      " max_pooling1d_7 (MaxPoolin  (None, 26, 32)               0         ['conv1d_10[0][0]']           \n",
      " g1D)                                                                                             \n",
      "                                                                                                  \n",
      " conv1d_9 (Conv1D)           (None, 26, 64)               6208      ['max_pooling1d_5[0][0]']     \n",
      "                                                                                                  \n",
      " conv1d_11 (Conv1D)          (None, 26, 64)               6208      ['max_pooling1d_7[0][0]']     \n",
      "                                                                                                  \n",
      " max_pooling1d_6 (MaxPoolin  (None, 13, 64)               0         ['conv1d_9[0][0]']            \n",
      " g1D)                                                                                             \n",
      "                                                                                                  \n",
      " max_pooling1d_8 (MaxPoolin  (None, 13, 64)               0         ['conv1d_11[0][0]']           \n",
      " g1D)                                                                                             \n",
      "                                                                                                  \n",
      " global_max_pooling1d_2 (Gl  (None, 64)                   0         ['max_pooling1d_6[0][0]']     \n",
      " obalMaxPooling1D)                                                                                \n",
      "                                                                                                  \n",
      " global_max_pooling1d_3 (Gl  (None, 64)                   0         ['max_pooling1d_8[0][0]']     \n",
      " obalMaxPooling1D)                                                                                \n",
      "                                                                                                  \n",
      " concatenate_6 (Concatenate  (None, 128)                  0         ['global_max_pooling1d_2[0][0]\n",
      " )                                                                  ',                            \n",
      "                                                                     'global_max_pooling1d_3[0][0]\n",
      "                                                                    ']                            \n",
      "                                                                                                  \n",
      " dense_15 (Dense)            (None, 64)                   8256      ['concatenate_6[0][0]']       \n",
      "                                                                                                  \n",
      " dense_16 (Dense)            (None, 1)                    65        ['dense_15[0][0]']            \n",
      "                                                                                                  \n",
      "==================================================================================================\n",
      "Total params: 69487001 (265.07 MB)\n",
      "Trainable params: 69487001 (265.07 MB)\n",
      "Non-trainable params: 0 (0.00 Byte)\n",
      "__________________________________________________________________________________________________\n"
     ]
    }
   ],
   "source": [
    "model_cnn.summary()\n",
    "model_rnn.summary()\n",
    "model_hybrid.summary()\n"
   ]
  },
  {
   "cell_type": "code",
   "execution_count": 107,
   "metadata": {},
   "outputs": [
    {
     "name": "stdout",
     "output_type": "stream",
     "text": [
      "  (0, 0)\t2.0\n",
      "  (1, 1)\t2.0\n",
      "  (2, 2)\t2.0\n"
     ]
    }
   ],
   "source": [
    "import networkx as nx\n",
    "from scipy.sparse import diags\n",
    "\n",
    "# Create a simple graph (you can replace this with your actual graph creation or loading)\n",
    "G = nx.Graph()\n",
    "G.add_edges_from([(1, 2), (2, 3), (3, 1)])\n",
    "\n",
    "# Get the degree sequence\n",
    "degree_sequence = list(dict(G.degree()).values())\n",
    "\n",
    "# Create a sparse diagonal matrix (degree matrix)\n",
    "degree_matrix = diags(degree_sequence, 0, format='csr')\n",
    "\n",
    "print(degree_matrix)\n"
   ]
  },
  {
   "cell_type": "code",
   "execution_count": 124,
   "metadata": {
    "scrolled": false
   },
   "outputs": [
    {
     "name": "stdout",
     "output_type": "stream",
     "text": [
      "Model: \"model_10\"\n",
      "__________________________________________________________________________________________________\n",
      " Layer (type)                Output Shape                 Param #   Connected to                  \n",
      "==================================================================================================\n",
      " user_input (InputLayer)     [(None, 1)]                  0         []                            \n",
      "                                                                                                  \n",
      " book_input (InputLayer)     [(None, 1)]                  0         []                            \n",
      "                                                                                                  \n",
      " embedding_22 (Embedding)    (None, 1, 50)                5264150   ['user_input[0][0]']          \n",
      "                                                                                                  \n",
      " embedding_23 (Embedding)    (None, 1, 50)                1702780   ['book_input[0][0]']          \n",
      "                                                          0                                       \n",
      "                                                                                                  \n",
      " concatenate_10 (Concatenat  (None, 1, 100)               0         ['embedding_22[0][0]',        \n",
      " e)                                                                  'embedding_23[0][0]']        \n",
      "                                                                                                  \n",
      " dense_25 (Dense)            (None, 1, 64)                6464      ['concatenate_10[0][0]']      \n",
      "                                                                                                  \n",
      " dense_26 (Dense)            (None, 1, 32)                2080      ['dense_25[0][0]']            \n",
      "                                                                                                  \n",
      " dense_27 (Dense)            (None, 1, 1)                 33        ['dense_26[0][0]']            \n",
      "                                                                                                  \n",
      "==================================================================================================\n",
      "Total params: 22300527 (85.07 MB)\n",
      "Trainable params: 22300527 (85.07 MB)\n",
      "Non-trainable params: 0 (0.00 Byte)\n",
      "__________________________________________________________________________________________________\n",
      "You must install pydot (`pip install pydot`) and install graphviz (see instructions at https://graphviz.gitlab.io/download/) for plot_model to work.\n",
      "Epoch 1/5\n",
      "1797/1797 [==============================] - 239s 133ms/step - loss: 15.0564 - val_loss: 14.8484\n",
      "Epoch 2/5\n",
      "1797/1797 [==============================] - 234s 130ms/step - loss: 14.8626 - val_loss: 14.8604\n",
      "Epoch 3/5\n",
      "1797/1797 [==============================] - 233s 130ms/step - loss: 14.8623 - val_loss: 14.8476\n",
      "Epoch 4/5\n",
      "1797/1797 [==============================] - 233s 130ms/step - loss: 14.8628 - val_loss: 14.8497\n",
      "Epoch 5/5\n",
      "1797/1797 [==============================] - 233s 130ms/step - loss: 14.8615 - val_loss: 14.8477\n"
     ]
    }
   ],
   "source": [
    "from scipy.sparse import diags\n",
    "import pandas as pd\n",
    "import networkx as nx\n",
    "import numpy as np\n",
    "from sklearn.model_selection import train_test_split\n",
    "from sklearn.preprocessing import LabelEncoder\n",
    "from tensorflow.keras.layers import Input, Embedding, concatenate, Dense\n",
    "from tensorflow.keras.models import Model\n",
    "from tensorflow.keras.optimizers import Adam\n",
    "from tensorflow.keras.callbacks import EarlyStopping\n",
    "from tensorflow.keras.utils import plot_model\n",
    "\n",
    "# Load your raw dataset\n",
    "raw_df = pd.read_csv(dataset_path + \"\\\\Ratings.csv\")\n",
    "\n",
    "# Encode users and books\n",
    "user_encoder = LabelEncoder()\n",
    "book_encoder = LabelEncoder()\n",
    "\n",
    "raw_df['user_encoded'] = user_encoder.fit_transform(raw_df['User-ID'])\n",
    "raw_df['book_encoded'] = book_encoder.fit_transform(raw_df['ISBN'])\n",
    "\n",
    "# Create a graph from the dataset\n",
    "G = nx.from_pandas_edgelist(raw_df, 'user_encoded', 'book_encoded')\n",
    "\n",
    "# Get adjacency matrix and degree matrix\n",
    "adjacency_matrix = nx.adjacency_matrix(G)\n",
    "degree_sequence = list(dict(G.degree()).values())\n",
    "degree_matrix = diags(degree_sequence, 0, format='csr')\n",
    "\n",
    "# Split the data into training and testing sets\n",
    "train_data, test_data = train_test_split(raw_df, test_size=0.2, random_state=42)\n",
    "\n",
    "# Separate features and target variable\n",
    "X_train = [train_data['user_encoded'].values, train_data['book_encoded'].values]\n",
    "y_train = train_data['Book-Rating'].values\n",
    "\n",
    "X_test = [test_data['user_encoded'].values, test_data['book_encoded'].values]\n",
    "y_test = test_data['Book-Rating'].values\n",
    "\n",
    "# Model architecture\n",
    "embedding_dim = 50\n",
    "num_users = len(user_encoder.classes_)\n",
    "num_books = len(book_encoder.classes_)\n",
    "input_length = 50\n",
    "\n",
    "# GNN model\n",
    "user_input = Input(shape=(1,), name='user_input')\n",
    "book_input = Input(shape=(1,), name='book_input')\n",
    "\n",
    "user_embedding = Embedding(input_dim=num_users, output_dim=embedding_dim)(user_input)\n",
    "book_embedding = Embedding(input_dim=num_books, output_dim=embedding_dim)(book_input)\n",
    "\n",
    "# Concatenate user and book embeddings\n",
    "merged_embeddings = concatenate([user_embedding, book_embedding], axis=-1)\n",
    "\n",
    "# GNN layer (you may use a more sophisticated GNN architecture based on your requirements)\n",
    "gnn_layer = Dense(64, activation='relu')(merged_embeddings)\n",
    "gnn_layer = Dense(32, activation='relu')(gnn_layer)\n",
    "\n",
    "# Final prediction\n",
    "prediction = Dense(1, activation='linear')(gnn_layer)\n",
    "\n",
    "# Create and compile the model\n",
    "model_gnn = Model(inputs=[user_input, book_input], outputs=prediction)\n",
    "model_gnn.compile(optimizer=Adam(), loss='mean_squared_error')\n",
    "\n",
    "# Display the model summary\n",
    "model_gnn.summary()\n",
    "\n",
    "# Plot the model architecture\n",
    "plot_model(model_gnn, to_file='gnn_model.png', show_shapes=True, show_layer_names=True)\n",
    "\n",
    "# Train the model with early stopping\n",
    "early_stopping = EarlyStopping(monitor='val_loss', patience=3, restore_best_weights=True)\n",
    "\n",
    "history = model_gnn.fit(X_train, y_train, epochs=5, batch_size=512, validation_data=(X_test, y_test), callbacks=[early_stopping])\n"
   ]
  },
  {
   "cell_type": "code",
   "execution_count": 17,
   "metadata": {},
   "outputs": [
    {
     "data": {
      "image/png": "[encoded data removed]",
      "text/plain": [
       "<Figure size 640x480 with 1 Axes>"
      ]
     },
     "metadata": {},
     "output_type": "display_data"
    }
   ],
   "source": [
    "import matplotlib.pyplot as plt\n",
    "\n",
    "# Loss and validation loss from the given epochs\n",
    "loss = [15.0564, 14.8826, 14.8623, 14.8628, 14.8615]\n",
    "val_loss = [14.9484, 14.8604, 14.8476, 14.8497, 14.8477]\n",
    "\n",
    "# Plotting\n",
    "epochs = range(1, len(loss) + 1)\n",
    "\n",
    "plt.plot(epochs, loss, 'bo-', label='Training Loss')\n",
    "plt.plot(epochs, val_loss, 'ro-', label='Validation Loss')\n",
    "plt.title('Training and Validation Loss')\n",
    "plt.xlabel('Epochs')\n",
    "plt.ylabel('Loss')\n",
    "plt.legend()\n",
    "\n",
    "plt.show()\n"
   ]
  },
  {
   "cell_type": "code",
   "execution_count": 113,
   "metadata": {},
   "outputs": [
    {
     "name": "stdout",
     "output_type": "stream",
     "text": [
      "7187/7187 [==============================] - 5s 732us/step\n",
      "Test RMSE: 3.359471340596498\n"
     ]
    }
   ],
   "source": [
    "# Evaluate the model on the test set\n",
    "predictions = model_gnn.predict(X_test)\n",
    "rmse = np.sqrt(mean_squared_error(y_test, predictions.flatten()))\n",
    "print(f'Test RMSE: {rmse}')\n",
    "\n"
   ]
  },
  {
   "cell_type": "code",
   "execution_count": 114,
   "metadata": {},
   "outputs": [],
   "source": [
    "# Save the trained model\n",
    "model_gnn.save('gnn_model_trained.h5')\n"
   ]
  },
  {
   "cell_type": "code",
   "execution_count": 115,
   "metadata": {},
   "outputs": [
    {
     "name": "stdout",
     "output_type": "stream",
     "text": [
      "7187/7187 [==============================] - 5s 732us/step\n",
      "Accuracy: 0.6949\n",
      "Recall: 0.7854\n",
      "Precision: 0.5657\n",
      "F1 Score: 0.6576\n"
     ]
    }
   ],
   "source": [
    "from sklearn.metrics import accuracy_score, recall_score, precision_score, f1_score\n",
    "\n",
    "# Evaluate the GNN model on the test set\n",
    "predictions = model_gnn.predict(X_test)\n",
    "\n",
    "# Convert predictions to binary ratings (e.g., threshold at 2.5 for positive/negative)\n",
    "binary_predictions = (predictions.flatten() >= 2.5).astype(int)\n",
    "binary_true_labels = (y_test >= 2.5).astype(int)\n",
    "\n",
    "# Calculate accuracy, recall, precision, and F1 score\n",
    "accuracy = accuracy_score(binary_true_labels, binary_predictions)\n",
    "recall = recall_score(binary_true_labels, binary_predictions)\n",
    "precision = precision_score(binary_true_labels, binary_predictions)\n",
    "f1 = f1_score(binary_true_labels, binary_predictions)\n",
    "\n",
    "print(f'Accuracy: {accuracy:.4f}')\n",
    "print(f'Recall: {recall:.4f}')\n",
    "print(f'Precision: {precision:.4f}')\n",
    "print(f'F1 Score: {f1:.4f}')\n"
   ]
  },
  {
   "cell_type": "code",
   "execution_count": 116,
   "metadata": {
    "scrolled": true
   },
   "outputs": [
    {
     "name": "stdout",
     "output_type": "stream",
     "text": [
      "Requirement already satisfied: seaborn in c:\\users\\akayr\\anaconda3\\lib\\site-packages (0.12.2)\n",
      "Requirement already satisfied: matplotlib in c:\\users\\akayr\\anaconda3\\lib\\site-packages (3.7.2)\n",
      "Requirement already satisfied: numpy!=1.24.0,>=1.17 in c:\\users\\akayr\\anaconda3\\lib\\site-packages (from seaborn) (1.24.3)\n",
      "Requirement already satisfied: pandas>=0.25 in c:\\users\\akayr\\anaconda3\\lib\\site-packages (from seaborn) (2.0.3)\n",
      "Requirement already satisfied: contourpy>=1.0.1 in c:\\users\\akayr\\anaconda3\\lib\\site-packages (from matplotlib) (1.0.5)\n",
      "Requirement already satisfied: cycler>=0.10 in c:\\users\\akayr\\anaconda3\\lib\\site-packages (from matplotlib) (0.11.0)\n",
      "Requirement already satisfied: fonttools>=4.22.0 in c:\\users\\akayr\\anaconda3\\lib\\site-packages (from matplotlib) (4.25.0)\n",
      "Requirement already satisfied: kiwisolver>=1.0.1 in c:\\users\\akayr\\anaconda3\\lib\\site-packages (from matplotlib) (1.4.4)\n",
      "Requirement already satisfied: packaging>=20.0 in c:\\users\\akayr\\anaconda3\\lib\\site-packages (from matplotlib) (23.1)\n",
      "Requirement already satisfied: pillow>=6.2.0 in c:\\users\\akayr\\anaconda3\\lib\\site-packages (from matplotlib) (9.4.0)\n",
      "Requirement already satisfied: pyparsing<3.1,>=2.3.1 in c:\\users\\akayr\\anaconda3\\lib\\site-packages (from matplotlib) (3.0.9)\n",
      "Requirement already satisfied: python-dateutil>=2.7 in c:\\users\\akayr\\anaconda3\\lib\\site-packages (from matplotlib) (2.8.2)\n",
      "Requirement already satisfied: pytz>=2020.1 in c:\\users\\akayr\\anaconda3\\lib\\site-packages (from pandas>=0.25->seaborn) (2023.3.post1)\n",
      "Requirement already satisfied: tzdata>=2022.1 in c:\\users\\akayr\\anaconda3\\lib\\site-packages (from pandas>=0.25->seaborn) (2023.3)\n",
      "Requirement already satisfied: six>=1.5 in c:\\users\\akayr\\anaconda3\\lib\\site-packages (from python-dateutil>=2.7->matplotlib) (1.16.0)\n"
     ]
    },
    {
     "data": {
      "image/png": "[encoded data removed]",
      "text/plain": [
       "<Figure size 800x600 with 1 Axes>"
      ]
     },
     "metadata": {},
     "output_type": "display_data"
    }
   ],
   "source": [
    "!pip install seaborn matplotlib\n",
    "from sklearn.metrics import confusion_matrix\n",
    "import seaborn as sns\n",
    "import matplotlib.pyplot as plt\n",
    "\n",
    "# Confusion matrix\n",
    "cm = confusion_matrix(binary_true_labels, binary_predictions)\n",
    "\n",
    "# Plot the confusion matrix\n",
    "plt.figure(figsize=(8, 6))\n",
    "sns.heatmap(cm, annot=True, fmt='d', cmap='Blues', cbar=False,\n",
    "            xticklabels=['Negative', 'Positive'],\n",
    "            yticklabels=['Negative', 'Positive'])\n",
    "plt.title('Confusion Matrix')\n",
    "plt.xlabel('Predicted')\n",
    "plt.ylabel('True')\n",
    "plt.show()"
   ]
  },
  {
   "cell_type": "code",
   "execution_count": 117,
   "metadata": {
    "scrolled": true
   },
   "outputs": [
    {
     "data": {
      "image/png": "[encoded data removed]",
      "text/plain": [
       "<Figure size 800x600 with 1 Axes>"
      ]
     },
     "metadata": {},
     "output_type": "display_data"
    }
   ],
   "source": [
    "from sklearn.metrics import roc_curve, auc\n",
    "\n",
    "# Compute ROC curve and ROC area\n",
    "fpr, tpr, _ = roc_curve(binary_true_labels, predictions.flatten())\n",
    "roc_auc = auc(fpr, tpr)\n",
    "\n",
    "# Plot ROC curve\n",
    "plt.figure(figsize=(8, 6))\n",
    "plt.plot(fpr, tpr, color='darkorange', lw=2, label=f'ROC curve (AUC = {roc_auc:.2f})')\n",
    "plt.plot([0, 1], [0, 1], color='navy', lw=2, linestyle='--')\n",
    "plt.xlabel('False Positive Rate')\n",
    "plt.ylabel('True Positive Rate')\n",
    "plt.title('Receiver Operating Characteristic (ROC) Curve')\n",
    "plt.legend(loc='lower right')\n",
    "plt.show()\n"
   ]
  },
  {
   "cell_type": "code",
   "execution_count": 118,
   "metadata": {
    "scrolled": true
   },
   "outputs": [
    {
     "data": {
      "image/png": "[encoded data removed]",
      "text/plain": [
       "<Figure size 800x600 with 1 Axes>"
      ]
     },
     "metadata": {},
     "output_type": "display_data"
    }
   ],
   "source": [
    "from sklearn.metrics import precision_recall_curve, average_precision_score\n",
    "\n",
    "# Compute Precision-Recall curve and area\n",
    "precision, recall, _ = precision_recall_curve(binary_true_labels, predictions.flatten())\n",
    "average_precision = average_precision_score(binary_true_labels, predictions.flatten())\n",
    "\n",
    "# Plot Precision-Recall curve\n",
    "plt.figure(figsize=(8, 6))\n",
    "plt.step(recall, precision, color='b', alpha=0.2, where='post')\n",
    "plt.fill_between(recall, precision, step='post', alpha=0.2, color='b')\n",
    "plt.xlabel('Recall')\n",
    "plt.ylabel('Precision')\n",
    "plt.title(f'Precision-Recall Curve (AP = {average_precision:.2f})')\n",
    "plt.show()\n"
   ]
  }
 ],
 "metadata": {
  "kernelspec": {
   "display_name": "Python 3 (ipykernel)",
   "language": "python",
   "name": "python3"
  },
  "language_info": {
   "codemirror_mode": {
    "name": "ipython",
    "version": 3
   },
   "file_extension": ".py",
   "mimetype": "text/x-python",
   "name": "python",
   "nbconvert_exporter": "python",
   "pygments_lexer": "ipython3",
   "version": "3.11.5"
  }
 },
 "nbformat": 4,
 "nbformat_minor": 4
}
